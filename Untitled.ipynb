{
 "cells": [
  {
   "cell_type": "code",
   "execution_count": null,
   "id": "09073ea7-3c5b-4f50-827c-0489ca2aa9f4",
   "metadata": {},
   "outputs": [],
   "source": [
    "import xarray as xr\n"
   ]
  },
  {
   "cell_type": "code",
   "execution_count": null,
   "id": "c4ce847f-2dd4-407c-80ba-360362e23013",
   "metadata": {},
   "outputs": [],
   "source": [
    "ds_ctl =  load_case_ctl(['H2OSOI'])\n"
   ]
  }
 ],
 "metadata": {
  "kernelspec": {
   "display_name": "env_ctsm_py2",
   "language": "python",
   "name": "env_ctsm_py2"
  },
  "language_info": {
   "name": ""
  }
 },
 "nbformat": 4,
 "nbformat_minor": 5
}
