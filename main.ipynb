{
 "cells": [
  {
   "cell_type": "markdown",
   "id": "740fabad-00a3-4e8d-bd52-147d08bf3778",
   "metadata": {},
   "source": [
    "# Quantifying the hydrological co-benefits of carbon sequestration using land surface modelling"
   ]
  },
  {
   "cell_type": "markdown",
   "id": "7f9dc7a9-3194-4978-9141-5371e10c8e80",
   "metadata": {
    "jp-MarkdownHeadingCollapsed": true,
    "tags": []
   },
   "source": [
    "## Overview of scripts and notebooks \n",
    "\n",
    "### Python environment\n",
    "\n",
    "- Python modules and versions used: [env_ctsm_py.yml](./env_ctsm_py.yml)\n",
    "- This includes the NCAR [ctsm python gallery](https://github.com/NCAR/ctsm_python_gallery)\n",
    "\n",
    "### Utils\n",
    "\n",
    "- All functions used throughout the notebooks: [iv_utils_daint.py](./iv_utils_daint.py)\n",
    "### Preprocessing\n",
    "\n",
    "- Inputdata preparation for all scenarios: [input_create_relscen.ipynb](./input_create_relscen.ipynb)\n",
    "- Scenario creation and evaluation: [scenario_design.ipynb](./scenario_design.ipynb)\n",
    "\n",
    "\n",
    "### CTSM compile and run scripts\n",
    "\n",
    "- CTSM code base used: [ctsm](https://github.com/Ivanderkelen/ctsm)\n",
    "- CTSM branch with individual column per pft  [ctsm/individual_pft_soil_column](https://github.com/Ivanderkelen/ctsm/tree/individual_pft_soil_column) (Branch of Sean Swenson merged into CTSM source code used in analysis)\n",
    "- **ADD IN RUNSCRIPTS HERE (place them into directory here)**\n",
    "\n",
    "### Postprocessing notebooks\n",
    "- Regrid PFTs for the different scenarios: [regrid_pfts.ipynb](./regrid_pfts.ipynb),  [regrid_pfts_medium.ipynb](./regrid_pfts_medium.ipynb),  [regrid_pfts_high.ipynb](./regrid_pfts_high.ipynb),\n",
    "- Calculate wilting point: [calc_wilting_vol_water_content.ipynb](./calc_wilting_vol_water_content.ipynb)\n",
    "\n",
    "\n",
    "\n",
    "### Plotting notebooks\n",
    "- Plotting of input data:  [plot_input.ipynb](./plot_input.ipynb)\n",
    "- Plotting of water holding capacity : [plot_default_waterholdingcapacity.ipynb](./plot_default_waterholdingcapacity.ipynb)\n",
    "- Plotting of soil liquid water, vertical profiles and water balance terms: [plot_crops_soilliq_wbterms.ipynb](./plot_crops_soilliq_wbterms.ipynb) "
   ]
  },
  {
   "cell_type": "markdown",
   "id": "1df1917b-e5f6-4e7e-acc9-5dba050c83ed",
   "metadata": {},
   "source": [
    "# Data stored\n",
    "\n",
    "- **input data (CTL, scenarios): add paths here**\n"
   ]
  },
  {
   "cell_type": "code",
   "execution_count": null,
   "id": "bfc167f3-c01d-47fe-8dfb-a357008596f6",
   "metadata": {},
   "outputs": [],
   "source": []
  }
 ],
 "metadata": {
  "kernelspec": {
   "display_name": "env_ctsm_py",
   "language": "python",
   "name": "env_ctsm_py"
  },
  "language_info": {
   "codemirror_mode": {
    "name": "ipython",
    "version": 3
   },
   "file_extension": ".py",
   "mimetype": "text/x-python",
   "name": "python",
   "nbconvert_exporter": "python",
   "pygments_lexer": "ipython3",
   "version": "3.10.10"
  }
 },
 "nbformat": 4,
 "nbformat_minor": 5
}
