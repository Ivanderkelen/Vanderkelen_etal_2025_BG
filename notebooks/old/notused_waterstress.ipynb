{
 "cells": [
  {
   "cell_type": "markdown",
   "id": "72b7a431-e088-4677-9dd3-0408f559203e",
   "metadata": {},
   "source": [
    "# Not used - plot water stress"
   ]
  },
  {
   "cell_type": "markdown",
   "id": "c3538b9c-a00a-42ca-8446-fef9d79e3971",
   "metadata": {},
   "source": [
    "## 1. Settings"
   ]
  },
  {
   "cell_type": "code",
   "execution_count": 1,
   "id": "67fc363b-290d-4f1f-b889-75a193e8b600",
   "metadata": {
    "tags": []
   },
   "outputs": [
    {
     "ename": "ImportError",
     "evalue": "libgeos_c.so.1: cannot open shared object file: No such file or directory",
     "output_type": "error",
     "traceback": [
      "\u001b[0;31m---------------------------------------------------------------------------\u001b[0m",
      "\u001b[0;31mImportError\u001b[0m                               Traceback (most recent call last)",
      "Cell \u001b[0;32mIn[1], line 10\u001b[0m\n\u001b[1;32m      7\u001b[0m \u001b[38;5;28;01mimport\u001b[39;00m \u001b[38;5;21;01mmatplotlib\u001b[39;00m\u001b[38;5;21;01m.\u001b[39;00m\u001b[38;5;21;01mpatheffects\u001b[39;00m \u001b[38;5;28;01mas\u001b[39;00m \u001b[38;5;21;01mpe\u001b[39;00m\n\u001b[1;32m      9\u001b[0m \u001b[38;5;66;03m# import own utils module\u001b[39;00m\n\u001b[0;32m---> 10\u001b[0m \u001b[38;5;28;01mfrom\u001b[39;00m \u001b[38;5;21;01miv_utils_daint\u001b[39;00m \u001b[38;5;28;01mimport\u001b[39;00m \u001b[38;5;241m*\u001b[39m\n\u001b[1;32m     11\u001b[0m \u001b[38;5;28;01mfrom\u001b[39;00m \u001b[38;5;21;01mctsm_py\u001b[39;00m\u001b[38;5;21;01m.\u001b[39;00m\u001b[38;5;21;01mutils\u001b[39;00m \u001b[38;5;28;01mimport\u001b[39;00m \u001b[38;5;241m*\u001b[39m \u001b[38;5;66;03m#info on ctsm utils: https://github.com/NCAR/ctsm_python_gallery \u001b[39;00m\n\u001b[1;32m     13\u001b[0m \u001b[38;5;66;03m# do plotting settings\u001b[39;00m\n",
      "File \u001b[0;32m~/notebooks_4p1000/iv_utils_daint.py:16\u001b[0m\n\u001b[1;32m     14\u001b[0m \u001b[38;5;28;01mimport\u001b[39;00m \u001b[38;5;21;01mwarnings\u001b[39;00m\n\u001b[1;32m     15\u001b[0m \u001b[38;5;28;01mimport\u001b[39;00m \u001b[38;5;21;01mnumpy\u001b[39;00m \u001b[38;5;28;01mas\u001b[39;00m \u001b[38;5;21;01mnp\u001b[39;00m\n\u001b[0;32m---> 16\u001b[0m \u001b[38;5;28;01mfrom\u001b[39;00m \u001b[38;5;21;01mctsm_py\u001b[39;00m\u001b[38;5;21;01m.\u001b[39;00m\u001b[38;5;21;01mutils\u001b[39;00m \u001b[38;5;28;01mimport\u001b[39;00m \u001b[38;5;241m*\u001b[39m\n\u001b[1;32m     18\u001b[0m \u001b[38;5;66;03m# --------------------------------------------------------------------\u001b[39;00m\n\u001b[1;32m     19\u001b[0m \u001b[38;5;66;03m# Settings - define variables necessary for functions\u001b[39;00m\n\u001b[1;32m     20\u001b[0m \u001b[38;5;66;03m# --------------------------------------------------------------------\u001b[39;00m\n\u001b[1;32m     21\u001b[0m \n\u001b[1;32m     22\u001b[0m \n\u001b[1;32m     23\u001b[0m \u001b[38;5;66;03m# set directories\u001b[39;00m\n\u001b[1;32m     24\u001b[0m outdir \u001b[38;5;241m=\u001b[39m \u001b[38;5;124m'\u001b[39m\u001b[38;5;124m/scratch/snx3000/ivanderk/\u001b[39m\u001b[38;5;124m'\u001b[39m\n",
      "File \u001b[0;32m~/env_ctsm_py/ctsm_py/ctsm_py/utils.py:9\u001b[0m\n\u001b[1;32m      7\u001b[0m \u001b[38;5;28;01mimport\u001b[39;00m \u001b[38;5;21;01mnumpy\u001b[39;00m \u001b[38;5;28;01mas\u001b[39;00m \u001b[38;5;21;01mnp\u001b[39;00m\n\u001b[1;32m      8\u001b[0m \u001b[38;5;28;01mimport\u001b[39;00m \u001b[38;5;21;01mxarray\u001b[39;00m \u001b[38;5;28;01mas\u001b[39;00m \u001b[38;5;21;01mxr\u001b[39;00m\n\u001b[0;32m----> 9\u001b[0m \u001b[38;5;28;01mfrom\u001b[39;00m \u001b[38;5;21;01mcartopy\u001b[39;00m\u001b[38;5;21;01m.\u001b[39;00m\u001b[38;5;21;01mutil\u001b[39;00m \u001b[38;5;28;01mimport\u001b[39;00m add_cyclic_point\n\u001b[1;32m     11\u001b[0m \u001b[38;5;66;03m#from xr_ds_ex import xr_ds_ex\u001b[39;00m\n\u001b[1;32m     12\u001b[0m \n\u001b[1;32m     13\u001b[0m \u001b[38;5;66;03m# generate annual means, weighted by days / month\u001b[39;00m\n\u001b[1;32m     14\u001b[0m \u001b[38;5;28;01mdef\u001b[39;00m \u001b[38;5;21mweighted_annual_mean\u001b[39m(array, time_in\u001b[38;5;241m=\u001b[39m\u001b[38;5;124m'\u001b[39m\u001b[38;5;124mtime\u001b[39m\u001b[38;5;124m'\u001b[39m, time_out\u001b[38;5;241m=\u001b[39m\u001b[38;5;124m'\u001b[39m\u001b[38;5;124mtime\u001b[39m\u001b[38;5;124m'\u001b[39m):\n",
      "File \u001b[0;32m~/env_ctsm_py/env_ctsm_py/lib/python3.10/site-packages/cartopy/__init__.py:107\u001b[0m\n\u001b[1;32m    103\u001b[0m     \u001b[38;5;28;01mpass\u001b[39;00m\n\u001b[1;32m    105\u001b[0m \u001b[38;5;66;03m# Commonly used sub-modules. Imported here to provide end-user\u001b[39;00m\n\u001b[1;32m    106\u001b[0m \u001b[38;5;66;03m# convenience.\u001b[39;00m\n\u001b[0;32m--> 107\u001b[0m \u001b[38;5;28;01mimport\u001b[39;00m \u001b[38;5;21;01mcartopy\u001b[39;00m\u001b[38;5;21;01m.\u001b[39;00m\u001b[38;5;21;01mcrs\u001b[39;00m  \u001b[38;5;66;03m# noqa: E402  module-level imports\u001b[39;00m\n\u001b[1;32m    108\u001b[0m \u001b[38;5;28;01mimport\u001b[39;00m \u001b[38;5;21;01mcartopy\u001b[39;00m\u001b[38;5;21;01m.\u001b[39;00m\u001b[38;5;21;01mfeature\u001b[39;00m  \u001b[38;5;66;03m# noqa: E402,F401  (unused import)\u001b[39;00m\n",
      "File \u001b[0;32m~/env_ctsm_py/env_ctsm_py/lib/python3.10/site-packages/cartopy/crs.py:27\u001b[0m\n\u001b[1;32m     24\u001b[0m \u001b[38;5;28;01mfrom\u001b[39;00m \u001b[38;5;21;01mpyproj\u001b[39;00m\u001b[38;5;21;01m.\u001b[39;00m\u001b[38;5;21;01mexceptions\u001b[39;00m \u001b[38;5;28;01mimport\u001b[39;00m ProjError\n\u001b[1;32m     25\u001b[0m \u001b[38;5;28;01mfrom\u001b[39;00m \u001b[38;5;21;01mshapely\u001b[39;00m\u001b[38;5;21;01m.\u001b[39;00m\u001b[38;5;21;01mprepared\u001b[39;00m \u001b[38;5;28;01mimport\u001b[39;00m prep\n\u001b[0;32m---> 27\u001b[0m \u001b[38;5;28;01mimport\u001b[39;00m \u001b[38;5;21;01mcartopy\u001b[39;00m\u001b[38;5;21;01m.\u001b[39;00m\u001b[38;5;21;01mtrace\u001b[39;00m\n\u001b[1;32m     30\u001b[0m \u001b[38;5;28;01mtry\u001b[39;00m:\n\u001b[1;32m     31\u001b[0m     \u001b[38;5;66;03m# https://github.com/pyproj4/pyproj/pull/912\u001b[39;00m\n\u001b[1;32m     32\u001b[0m     \u001b[38;5;28;01mfrom\u001b[39;00m \u001b[38;5;21;01mpyproj\u001b[39;00m\u001b[38;5;21;01m.\u001b[39;00m\u001b[38;5;21;01mcrs\u001b[39;00m \u001b[38;5;28;01mimport\u001b[39;00m CustomConstructorCRS \u001b[38;5;28;01mas\u001b[39;00m _CRS\n",
      "\u001b[0;31mImportError\u001b[0m: libgeos_c.so.1: cannot open shared object file: No such file or directory"
     ]
    }
   ],
   "source": [
    "# laod modules \n",
    "import xarray as xr\n",
    "import matplotlib.pyplot as plt\n",
    "import os\n",
    "import regionmask \n",
    "import pandas as pd\n",
    "import matplotlib.patheffects as pe\n",
    "\n",
    "# import own utils module\n",
    "from iv_utils_daint import *\n",
    "from ctsm_py.utils import * #info on ctsm utils: https://github.com/NCAR/ctsm_python_gallery \n",
    "\n",
    "# do plotting settings\n",
    "set_plot_param()\n",
    "\n",
    "# ignore all runtime warnings\n",
    "warnings.filterwarnings('ignore')"
   ]
  },
  {
   "cell_type": "code",
   "execution_count": null,
   "id": "645d3b69-8857-41b0-a278-3fef28607962",
   "metadata": {},
   "outputs": [],
   "source": [
    "# directory settings\n",
    "\n",
    "# set directories\n",
    "outdir = '/scratch/snx3000/ivanderk/'\n",
    "figdir = '/users/ivanderk/notebooks_4p1000/figures/'\n",
    "\n",
    "# Define directory where processing is done \n",
    "procdir =  outdir + 'processing_4p1000/' \n",
    "\n",
    "# go to processing directory \n",
    "os.chdir(procdir)\n",
    "\n",
    "# define scenario\n",
    "scenario = '4p1000'\n",
    "\n",
    "# case settings\n",
    "case_ctl = 'IHistClm51Sp.hcru_hcru_mt13.pftsoilcol.CTL.spunup5'\n",
    "case_scen = 'IHistClm51Sp.hcru_hcru_mt13.pftsoilcol.'+scenario+'.spunup5'\n",
    "\n",
    "case   = case_ctl\n",
    "block  = 'lnd' \n",
    "stream = 'h1' \n",
    "\n",
    "# List of variables to import from file(s) in $indir matching $pattern.\n",
    "variables = ['H2OSOI',\"TOTSOILLIQ\",\"TOTSOILICE\", \"QINFL\" , \"QOVER\", \"QDRAI\", 'EFLX_LH_TOT',  \"watsat\",\"QROOTSINK\" ,\"QVEGE\", \"QVEGT\",\"QSOIL\",\n",
    "             \"watfc\", \"EFF_POROSITY\", ] #\"SOILPSI\", \"FPSN\",\"QHR\",\"SMP\",\"GSSHA\",\"GSSUN\"\n",
    "\n",
    "# discard 2004 until 2008 as spin up years\n",
    "start_year, end_year = 1995, 2014 \n",
    "\n",
    "time_slice = slice(str(start_year)+\"-01-01\", str(end_year)+\"-12-01\")\n",
    "\n",
    "proj =  ccrs.PlateCarree()\n"
   ]
  },
  {
   "cell_type": "code",
   "execution_count": null,
   "id": "f7edca1d-be56-4d85-aad2-d54586563dac",
   "metadata": {},
   "outputs": [],
   "source": [
    "## settings for plotting\n",
    "ds_ctl =  load_case_ctl(['H2OSOI'])\n",
    "\n",
    "# get mask and region ids\n",
    "exclude_ids = np.array([0,1,2,16,28,29,30,31])\n",
    "mask_regions = regionmask.defined_regions.ar6.land.mask(ds_ctl['H2OSOI'])\n",
    "\n",
    "region_ids = np.arange(0,44)\n",
    "region_ids = np.delete(region_ids, exclude_ids)\n",
    "region_ids_sel = [3,19,23]\n",
    "\n",
    "regions_sand_clay = [6, 7, 10, 11, 12, 14, 19, 21, 22, 23, 24, 26, 37, 38, 39, 41]\n",
    "\n",
    "plotting_depth = 1 # m 8\n",
    "figsize = (17,38)\n",
    "\n",
    "labels = ['a.','b.','c.','d.','e.','f.','g.','h.','i.','j.']\n",
    "\n",
    "# get pfts modelled - bare soil, grassland and crop pfts\n",
    "pft_list_crops = [15,16]\n",
    "pft_list_grassland = [0,12,13,14]"
   ]
  },
  {
   "cell_type": "markdown",
   "id": "85152e51-8814-477d-9e67-52b961aa167a",
   "metadata": {},
   "source": [
    "### Load auxiliary data (soil levels, input dataset, wilting point etc) "
   ]
  },
  {
   "cell_type": "code",
   "execution_count": null,
   "id": "dc0fca26-aecd-4a6f-b06d-26af605a645d",
   "metadata": {},
   "outputs": [],
   "source": [
    "# info on soil levels\n",
    "# manually get soil level info from CLM\n",
    "levsoi_thickness, levsoi_depth, levgrnd_thickness , levgrnd_depth = get_soildepths()\n",
    "\n",
    "# get info on soil levels\n",
    "levsoi = ds_ctl['levsoi'].values\n",
    "levgrnd = ds_ctl['levgrnd'].values # all soil layers (deepest 5 layers are for thermodynamical calculations)\n",
    "\n",
    "# input data\n",
    "# define variables to load from input dataset\n",
    "input_variables = ['ORGANIC','PFTDATA_MASK','PCT_SAND','PCT_CLAY', 'PCT_CFT']\n",
    "\n",
    "# load inputdata\n",
    "ds_input, ds_input_scen, landmask = load_inputdata(scenario, input_variables, case_ctl)\n",
    "\n",
    "da_irrigated_mask = ds_input['PCT_CFT'].sel(cft=16)>0\n"
   ]
  },
  {
   "cell_type": "code",
   "execution_count": null,
   "id": "37c0fd2f-e7b3-4678-abdd-a26fc41d6217",
   "metadata": {},
   "outputs": [],
   "source": [
    "# get masks for sandy and clay soils\n",
    "\n",
    "# define tresholds for pct sand and pct clay\n",
    "pct_sand_threshold_min = 50\n",
    "pct_sand_threshold_max = 100\n",
    "pct_clay_threshold = 30\n",
    "da_sand_mask, da_clay_mask = get_texture_masks(pct_sand_threshold_max,pct_sand_threshold_min,  pct_clay_threshold, ds_input, levsoi_thickness)"
   ]
  },
  {
   "cell_type": "code",
   "execution_count": null,
   "id": "5f74d8f0-6d55-428a-9215-8b6532d029fe",
   "metadata": {},
   "outputs": [],
   "source": [
    "# wilting point\n",
    "# load precalculated wilting point datasets\n",
    "# growing season mask\n",
    "da_semiarid_mask = xr.open_dataset(procdir+'postprocessing/aridity_mask/semiarid.nc')['mask']\n",
    "\n",
    "# growing season mask\n",
    "da_arid_mask = xr.open_dataset(procdir+'postprocessing/aridity_mask/arid.nc')['mask']\n",
    "\n",
    "da_semi_and_arid_mask = da_semiarid_mask +da_arid_mask"
   ]
  },
  {
   "cell_type": "markdown",
   "id": "672143f6-78bd-4f36-9ab1-761085f0dac1",
   "metadata": {},
   "source": [
    "## Plot cumulative water stress"
   ]
  },
  {
   "cell_type": "code",
   "execution_count": null,
   "id": "5e983070-f245-443e-99fd-e47f67203419",
   "metadata": {
    "tags": []
   },
   "outputs": [],
   "source": [
    "scenario = '4p1000'\n",
    "\n",
    "case_ctl = 'IHistClm51Sp.hcru_hcru_mt13.pftsoilcol.CTL.spunup2'\n",
    "case_scen = 'IHistClm51Sp.hcru_hcru_mt13.pftsoilcol.'+scenario+'.spunup2'\n",
    "\n",
    "variable = \"H2OSOI\" \n",
    "\n",
    "da_ctl = load_da_gridded_pft(variable, pft_int, case_ctl).rename(variable).isel(levsoi=range(0,10))\n",
    "da_scen = load_da_gridded_pft(variable, pft_int, case_scen).rename(variable).isel(levsoi=range(0,10))\n",
    "\n",
    "da_wilting_h2osoi, da_wilting_h2osoi_scen = load_wilting_h2osoi(scenario) \n",
    "\n",
    "da_wilting_h2osoi['levsoi'] = da_pft_ctl.levsoi.isel(levsoi=range(0,10))\n",
    "da_wilting_h2osoi_scen['levsoi'] = da_pft_scen.levsoi.isel(levsoi=range(0,10))\n",
    "\n",
    "da_stress_cumulative_ctl  = calc_annual_cumulative_stress(da_ctl,  da_wilting_h2osoi) \n",
    "da_stress_cumulative_scen = calc_annual_cumulative_stress(da_scen, da_wilting_h2osoi_scen) \n",
    "\n",
    "da_delta_stress = (da_stress_cumulative_scen - da_stress_cumulative_ctl).mean('year').squeeze().compute()\n",
    "\n",
    "da_delta_stress_mm = (da_delta_stress*np.expand_dims(np.expand_dims(levsoi_thickness[0:10], axis=1), axis=2)*1000).sum('levsoi')\n",
    "\n",
    "fig = plt.figure(figsize=(12,5))\n",
    "ax = plt.subplot(111, projection=proj)\n",
    "\n",
    "levels = np.arange(-0.5,0.55,0.05)\n",
    "(da_delta_stress_mm*10e-3).where(landmask).plot(ax=ax, cmap='PuOr_r', cbar_kwargs={'label': 'meters', 'fraction': 0.02, 'pad': 0.04}) #, levels=levels)\n",
    "ax.set_title(' ', loc='center')\n",
    "ax.set_title('Mean annual soil column $\\Delta$ cumulative water stress (m)', loc='right')\n",
    "ax.coastlines(color='dimgray', linewidth=0.5)\n",
    "ax.set_extent((-180,180,-63,90), crs=proj);\n",
    "ax.axis('off');\n",
    "\n"
   ]
  },
  {
   "cell_type": "code",
   "execution_count": null,
   "id": "9e1bbe64-9507-40da-8a96-3d657ed56bab",
   "metadata": {},
   "outputs": [],
   "source": [
    "da_delta_stress_mm_upper60cm = (da_delta_stress[0:7,:,:]*np.expand_dims(np.expand_dims(levsoi_thickness[0:7], axis=1), axis=2)*1000).sum('levsoi')\n",
    "\n",
    "fig = plt.figure(figsize=(12,5))\n",
    "ax = plt.subplot(111, projection=proj)\n",
    "\n",
    "levels = np.arange(-0.5,0.55,0.05)\n",
    "(da_delta_stress_mm_upper60cm*10e-3).where(landmask).plot(ax=ax, cmap='PuOr_r', cbar_kwargs={'label': 'meters', 'fraction': 0.02, 'pad': 0.04})#, levels=levels)\n",
    "ax.set_title(' ', loc='center')\n",
    "ax.set_title('Mean annual soil column upper 60 cm $\\Delta$ cumulative water stress (m)', loc='right')\n",
    "ax.coastlines(color='dimgray', linewidth=0.5)\n",
    "ax.set_extent((-180,180,-63,90), crs=proj);\n",
    "ax.axis('off');\n",
    "\n",
    "\n",
    "da_delta_stress_mm_upper30cm = (da_delta_stress[0:4,:,:]*np.expand_dims(np.expand_dims(levsoi_thickness[0:4], axis=1), axis=2)*1000).sum('levsoi')\n",
    "\n",
    "fig = plt.figure(figsize=(12,5))\n",
    "ax = plt.subplot(111, projection=proj)\n",
    "\n",
    "levels = np.arange(-0.5,0.55,0.05)\n",
    "(da_delta_stress_mm_upper60cm*10e-3).where(landmask).plot(ax=ax, cmap='PuOr_r', cbar_kwargs={'label': 'meters', 'fraction': 0.02, 'pad': 0.04})#, levels=levels)\n",
    "ax.set_title(' ', loc='center')\n",
    "ax.set_title('Mean annual soil column upper 60 cm $\\Delta$ cumulative water stress (m)', loc='right')\n",
    "ax.coastlines(color='dimgray', linewidth=0.5)\n",
    "ax.set_extent((-180,180,-63,90), crs=proj);\n",
    "ax.axis('off');"
   ]
  },
  {
   "cell_type": "code",
   "execution_count": null,
   "id": "c3e1ebab-f3b9-48fb-a5d0-deb531748731",
   "metadata": {
    "tags": []
   },
   "outputs": [],
   "source": [
    "scenario = 'high'\n",
    "\n",
    "case_ctl = 'IHistClm51Sp.hcru_hcru_mt13.pftsoilcol.CTL.spunup2'\n",
    "case_scen = 'IHistClm51Sp.hcru_hcru_mt13.pftsoilcol.'+scenario+'.spunup2'\n",
    "\n",
    "variable = \"H2OSOI\" \n",
    "\n",
    "da_ctl = load_da_gridded_pft(variable, pft_int, case_ctl).rename(variable).isel(levsoi=range(0,10))\n",
    "da_scen = load_da_gridded_pft(variable, pft_int, case_scen).rename(variable).isel(levsoi=range(0,10))\n",
    "\n",
    "da_wilting_h2osoi, da_wilting_h2osoi_scen = load_wilting_h2osoi(scenario)\n",
    "\n",
    "da_wilting_h2osoi['levsoi'] = da_pft_ctl.levsoi.isel(levsoi=range(0,10))\n",
    "da_wilting_h2osoi_scen['levsoi'] = da_pft_scen.levsoi.isel(levsoi=range(0,10))\n",
    "\n",
    "da_stress_cumulative_ctl  = calc_annual_cumulative_stress(da_ctl,  da_wilting_h2osoi) \n",
    "da_stress_cumulative_scen = calc_annual_cumulative_stress(da_scen, da_wilting_h2osoi_scen) \n",
    "\n",
    "da_delta_stress = (da_stress_cumulative_scen - da_stress_cumulative_ctl).mean('year').squeeze().compute()\n",
    "\n",
    "da_delta_stress_mm = (da_delta_stress*np.expand_dims(np.expand_dims(levsoi_thickness[0:10], axis=1), axis=2)*1000).sum('levsoi')\n",
    "\n",
    "fig = plt.figure(figsize=(12,5))\n",
    "ax = plt.subplot(111, projection=proj)\n",
    "\n",
    "levels = np.arange(-0.5,0.55,0.05)\n",
    "(da_delta_stress_mm*10e-3).where(landmask).plot(ax=ax, cmap='PuOr_r', cbar_kwargs={'label': 'meters', 'fraction': 0.02, 'pad': 0.04}) #, levels=levels)\n",
    "ax.set_title(' ', loc='center')\n",
    "ax.set_title('Mean annual soil column $\\Delta$ cumulative water stress (m)', loc='right')\n",
    "ax.coastlines(color='dimgray', linewidth=0.5)\n",
    "ax.set_extent((-180,180,-63,90), crs=proj);\n",
    "ax.axis('off');\n",
    "\n"
   ]
  },
  {
   "cell_type": "code",
   "execution_count": null,
   "id": "8df76172-768a-41fc-ba62-c2e04f3b3da4",
   "metadata": {},
   "outputs": [],
   "source": [
    "da_delta_stress_mm_upper60cm = (da_delta_stress[0:7,:,:]*np.expand_dims(np.expand_dims(levsoi_thickness[0:7], axis=1), axis=2)*1000).sum('levsoi')\n",
    "\n",
    "fig = plt.figure(figsize=(12,5))\n",
    "ax = plt.subplot(111, projection=proj)\n",
    "\n",
    "levels = np.arange(-0.5,0.55,0.05)\n",
    "(da_delta_stress_mm_upper60cm*10e-3).where(landmask).where(da_clay_mask).plot(ax=ax, cmap='PuOr_r', cbar_kwargs={'label': 'meters', 'fraction': 0.02, 'pad': 0.04})#, levels=levels)\n",
    "ax.set_title(' ', loc='center')\n",
    "ax.set_title('Mean annual soil column upper 60 cm $\\Delta$ cumulative water stress (m)', loc='right')\n",
    "ax.coastlines(color='dimgray', linewidth=0.5)\n",
    "ax.set_extent((-180,180,-63,90), crs=proj);\n",
    "ax.axis('off');\n",
    "\n"
   ]
  },
  {
   "cell_type": "code",
   "execution_count": null,
   "id": "ceae44d3-0ddc-4870-b994-923ade6072cc",
   "metadata": {},
   "outputs": [],
   "source": [
    "da_delta_stress_mm_upper60cm = (da_delta_stress[0:7,:,:]*np.expand_dims(np.expand_dims(levsoi_thickness[0:7], axis=1), axis=2)*1000).sum('levsoi')\n",
    "\n",
    "fig = plt.figure(figsize=(12,5))\n",
    "ax = plt.subplot(111, projection=proj)\n",
    "\n",
    "levels = np.arange(-0.5,0.55,0.05)\n",
    "(da_delta_stress_mm_upper60cm*10e-3).where(landmask).where(da_sand_mask).plot(ax=ax, cmap='PuOr_r', cbar_kwargs={'label': 'meters', 'fraction': 0.02, 'pad': 0.04})#, levels=levels)\n",
    "ax.set_title(' ', loc='center')\n",
    "ax.set_title('Mean annual soil column upper 60 cm $\\Delta$ cumulative water stress (m)', loc='right')\n",
    "ax.coastlines(color='dimgray', linewidth=0.5)\n",
    "ax.set_extent((-180,180,-63,90), crs=proj);\n",
    "ax.axis('off');\n",
    "\n",
    "\n"
   ]
  },
  {
   "cell_type": "code",
   "execution_count": null,
   "id": "7be22e5b-4f6a-4a05-9bb6-107772c6d9b6",
   "metadata": {},
   "outputs": [],
   "source": [
    "da_delta_stress_mm_upper60cm = (da_delta_stress[0:7,:,:]*np.expand_dims(np.expand_dims(levsoi_thickness[0:7], axis=1), axis=2)*1000).sum('levsoi')\n",
    "\n",
    "fig = plt.figure(figsize=(12,5))\n",
    "ax = plt.subplot(111, projection=proj)\n",
    "\n",
    "levels = np.arange(-0.5,0.55,0.05)\n",
    "(da_delta_stress_mm_upper60cm*10e-3).where(landmask).where(da_irrigated_mask).plot(ax=ax, cmap='PuOr_r', cbar_kwargs={'label': 'meters', 'fraction': 0.02, 'pad': 0.04})#, levels=levels)\n",
    "ax.set_title(' ', loc='center')\n",
    "ax.set_title('Mean annual soil column upper 60 cm $\\Delta$ cumulative water stress (m)', loc='right')\n",
    "ax.coastlines(color='dimgray', linewidth=0.5)\n",
    "ax.set_extent((-180,180,-63,90), crs=proj);\n",
    "ax.axis('off');\n",
    "\n"
   ]
  },
  {
   "cell_type": "code",
   "execution_count": null,
   "id": "7659f2ea-54d2-456a-830b-7119badd3d27",
   "metadata": {},
   "outputs": [],
   "source": []
  }
 ],
 "metadata": {
  "kernelspec": {
   "display_name": "env_ctsm_py",
   "language": "python",
   "name": "env_ctsm_py"
  },
  "language_info": {
   "codemirror_mode": {
    "name": "ipython",
    "version": 3
   },
   "file_extension": ".py",
   "mimetype": "text/x-python",
   "name": "python",
   "nbconvert_exporter": "python",
   "pygments_lexer": "ipython3",
   "version": "3.10.10"
  }
 },
 "nbformat": 4,
 "nbformat_minor": 5
}
