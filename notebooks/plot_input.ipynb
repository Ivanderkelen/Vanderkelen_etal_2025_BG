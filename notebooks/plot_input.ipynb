{
 "cells": [
  {
   "cell_type": "markdown",
   "id": "a994e9ec-9afb-411b-ba9e-faf93aafac23",
   "metadata": {},
   "source": [
    "# Make plots of input data"
   ]
  },
  {
   "cell_type": "code",
   "execution_count": 1,
   "id": "9dc9d526-1d37-47f7-bda6-ca6c05b2e496",
   "metadata": {},
   "outputs": [
    {
     "data": {
      "image/png": "[encoded data removed]",
      "text/plain": [
       "<Figure size 640x480 with 1 Axes>"
      ]
     },
     "metadata": {},
     "output_type": "display_data"
    }
   ],
   "source": [
    "import xarray as xr\n",
    "import matplotlib.pyplot as plt\n",
    "import os\n",
    "import numpy as np\n",
    "import pandas as pd\n",
    "import regionmask \n",
    "\n",
    "from iv_utils_daint import *\n",
    "\n",
    "from ctsm_py.utils import *\n",
    "import geopandas as gpd\n",
    "\n",
    "set_plot_param()"
   ]
  },
  {
   "cell_type": "markdown",
   "id": "c8274210-8305-45c5-8efc-70c0f348de80",
   "metadata": {
    "tags": []
   },
   "source": [
    "## Load  updated inputdata"
   ]
  },
  {
   "cell_type": "markdown",
   "id": "c424b3db-73e1-49f6-917c-f13c54725563",
   "metadata": {},
   "source": [
    "See https://github.com/ESCOMP/CTSM/issues/1303\n",
    "\n",
    "Copied from there:\n",
    "\n",
    "\n",
    "Technically, this should just be calculated on the fine earth fraction (1-coarse fragments).\n",
    "\n",
    "the WISE lookup table has all of this information\n",
    "\n",
    "| Property |\tunits |\tlong_name |\n",
    "| -------- | -------- | --------- | \n",
    "| ORGC |\tgC kg^-1 soil\t| organic carbon content |\n",
    "| BULK |\tg soil cm^-3\t| bulk density |\n",
    "| CFRAG|\tvolumetric, %\t| coarse fragment |\n",
    "\n",
    "ORGANIC = ORGC * BULK * (100-CFRAG)/100  * 1/0.58 \n",
    "\n",
    "use a prescribed value of 130 kg OM/m3 as the maximum organic matter\n",
    "density, based on standard density of peat soils "
   ]
  },
  {
   "cell_type": "code",
   "execution_count": 8,
   "id": "da57a103-4c28-4208-9b58-be348291dd8a",
   "metadata": {},
   "outputs": [
    {
     "ename": "FileNotFoundError",
     "evalue": "[Errno 2] No such file or directory: b'/dodrio/scratch/projects/2022_200/project_output/rcs/CORDEXBE2/innev/4p1000/processing_4p1000/CTSM_hcru_inputdata/surfdata_360x720cru_hist_16pfts_CMIP6_2000_c230915.nc'",
     "output_type": "error",
     "traceback": [
      "\u001b[0;31m---------------------------------------------------------------------------\u001b[0m",
      "\u001b[0;31mKeyError\u001b[0m                                  Traceback (most recent call last)",
      "\u001b[0;32m/dodrio/scratch/projects/2022_200/project_output/rcs/software/miniconda3/envs/ctsm_pylib/lib/python3.7/site-packages/xarray/backends/file_manager.py\u001b[0m in \u001b[0;36m_acquire_with_cache_info\u001b[0;34m(self, needs_lock)\u001b[0m\n\u001b[1;32m    198\u001b[0m             \u001b[0;32mtry\u001b[0m\u001b[0;34m:\u001b[0m\u001b[0;34m\u001b[0m\u001b[0;34m\u001b[0m\u001b[0m\n\u001b[0;32m--> 199\u001b[0;31m                 \u001b[0mfile\u001b[0m \u001b[0;34m=\u001b[0m \u001b[0mself\u001b[0m\u001b[0;34m.\u001b[0m\u001b[0m_cache\u001b[0m\u001b[0;34m[\u001b[0m\u001b[0mself\u001b[0m\u001b[0;34m.\u001b[0m\u001b[0m_key\u001b[0m\u001b[0;34m]\u001b[0m\u001b[0;34m\u001b[0m\u001b[0;34m\u001b[0m\u001b[0m\n\u001b[0m\u001b[1;32m    200\u001b[0m             \u001b[0;32mexcept\u001b[0m \u001b[0mKeyError\u001b[0m\u001b[0;34m:\u001b[0m\u001b[0;34m\u001b[0m\u001b[0;34m\u001b[0m\u001b[0m\n",
      "\u001b[0;32m/dodrio/scratch/projects/2022_200/project_output/rcs/software/miniconda3/envs/ctsm_pylib/lib/python3.7/site-packages/xarray/backends/lru_cache.py\u001b[0m in \u001b[0;36m__getitem__\u001b[0;34m(self, key)\u001b[0m\n\u001b[1;32m     52\u001b[0m         \u001b[0;32mwith\u001b[0m \u001b[0mself\u001b[0m\u001b[0;34m.\u001b[0m\u001b[0m_lock\u001b[0m\u001b[0;34m:\u001b[0m\u001b[0;34m\u001b[0m\u001b[0;34m\u001b[0m\u001b[0m\n\u001b[0;32m---> 53\u001b[0;31m             \u001b[0mvalue\u001b[0m \u001b[0;34m=\u001b[0m \u001b[0mself\u001b[0m\u001b[0;34m.\u001b[0m\u001b[0m_cache\u001b[0m\u001b[0;34m[\u001b[0m\u001b[0mkey\u001b[0m\u001b[0;34m]\u001b[0m\u001b[0;34m\u001b[0m\u001b[0;34m\u001b[0m\u001b[0m\n\u001b[0m\u001b[1;32m     54\u001b[0m             \u001b[0mself\u001b[0m\u001b[0;34m.\u001b[0m\u001b[0m_cache\u001b[0m\u001b[0;34m.\u001b[0m\u001b[0mmove_to_end\u001b[0m\u001b[0;34m(\u001b[0m\u001b[0mkey\u001b[0m\u001b[0;34m)\u001b[0m\u001b[0;34m\u001b[0m\u001b[0;34m\u001b[0m\u001b[0m\n",
      "\u001b[0;31mKeyError\u001b[0m: [<class 'netCDF4._netCDF4.Dataset'>, ('/dodrio/scratch/projects/2022_200/project_output/rcs/CORDEXBE2/innev/4p1000/processing_4p1000/CTSM_hcru_inputdata/surfdata_360x720cru_hist_16pfts_CMIP6_2000_c230915.nc',), 'r', (('clobber', True), ('diskless', False), ('format', 'NETCDF4'), ('persist', False))]",
      "\nDuring handling of the above exception, another exception occurred:\n",
      "\u001b[0;31mFileNotFoundError\u001b[0m                         Traceback (most recent call last)",
      "\u001b[0;32m/tmp/ipykernel_3536430/445894384.py\u001b[0m in \u001b[0;36m<module>\u001b[0;34m\u001b[0m\n\u001b[1;32m      9\u001b[0m \u001b[0;34m\u001b[0m\u001b[0m\n\u001b[1;32m     10\u001b[0m \u001b[0mfilename_clm5\u001b[0m \u001b[0;34m=\u001b[0m \u001b[0;34m'surfdata_360x720cru_16pfts_Irrig_CMIP6_simyr2000_c170824.nc'\u001b[0m\u001b[0;34m\u001b[0m\u001b[0;34m\u001b[0m\u001b[0m\n\u001b[0;32m---> 11\u001b[0;31m \u001b[0mds_input_ctsm52\u001b[0m \u001b[0;34m=\u001b[0m \u001b[0mxr\u001b[0m\u001b[0;34m.\u001b[0m\u001b[0mopen_dataset\u001b[0m\u001b[0;34m(\u001b[0m\u001b[0minputdir\u001b[0m\u001b[0;34m+\u001b[0m\u001b[0mfilename_ctsm52\u001b[0m\u001b[0;34m)\u001b[0m\u001b[0;34m\u001b[0m\u001b[0;34m\u001b[0m\u001b[0m\n\u001b[0m\u001b[1;32m     12\u001b[0m \u001b[0;34m\u001b[0m\u001b[0m\n\u001b[1;32m     13\u001b[0m \u001b[0;34m\u001b[0m\u001b[0m\n",
      "\u001b[0;32m/dodrio/scratch/projects/2022_200/project_output/rcs/software/miniconda3/envs/ctsm_pylib/lib/python3.7/site-packages/xarray/backends/api.py\u001b[0m in \u001b[0;36mopen_dataset\u001b[0;34m(filename_or_obj, engine, chunks, cache, decode_cf, mask_and_scale, decode_times, decode_timedelta, use_cftime, concat_characters, decode_coords, drop_variables, backend_kwargs, *args, **kwargs)\u001b[0m\n\u001b[1;32m    497\u001b[0m         \u001b[0mdrop_variables\u001b[0m\u001b[0;34m=\u001b[0m\u001b[0mdrop_variables\u001b[0m\u001b[0;34m,\u001b[0m\u001b[0;34m\u001b[0m\u001b[0;34m\u001b[0m\u001b[0m\n\u001b[1;32m    498\u001b[0m         \u001b[0;34m**\u001b[0m\u001b[0mdecoders\u001b[0m\u001b[0;34m,\u001b[0m\u001b[0;34m\u001b[0m\u001b[0;34m\u001b[0m\u001b[0m\n\u001b[0;32m--> 499\u001b[0;31m         \u001b[0;34m**\u001b[0m\u001b[0mkwargs\u001b[0m\u001b[0;34m,\u001b[0m\u001b[0;34m\u001b[0m\u001b[0;34m\u001b[0m\u001b[0m\n\u001b[0m\u001b[1;32m    500\u001b[0m     )\n\u001b[1;32m    501\u001b[0m     ds = _dataset_from_backend_dataset(\n",
      "\u001b[0;32m/dodrio/scratch/projects/2022_200/project_output/rcs/software/miniconda3/envs/ctsm_pylib/lib/python3.7/site-packages/xarray/backends/netCDF4_.py\u001b[0m in \u001b[0;36mopen_dataset\u001b[0;34m(self, filename_or_obj, mask_and_scale, decode_times, concat_characters, decode_coords, drop_variables, use_cftime, decode_timedelta, group, mode, format, clobber, diskless, persist, lock, autoclose)\u001b[0m\n\u001b[1;32m    557\u001b[0m             \u001b[0mpersist\u001b[0m\u001b[0;34m=\u001b[0m\u001b[0mpersist\u001b[0m\u001b[0;34m,\u001b[0m\u001b[0;34m\u001b[0m\u001b[0;34m\u001b[0m\u001b[0m\n\u001b[1;32m    558\u001b[0m             \u001b[0mlock\u001b[0m\u001b[0;34m=\u001b[0m\u001b[0mlock\u001b[0m\u001b[0;34m,\u001b[0m\u001b[0;34m\u001b[0m\u001b[0;34m\u001b[0m\u001b[0m\n\u001b[0;32m--> 559\u001b[0;31m             \u001b[0mautoclose\u001b[0m\u001b[0;34m=\u001b[0m\u001b[0mautoclose\u001b[0m\u001b[0;34m,\u001b[0m\u001b[0;34m\u001b[0m\u001b[0;34m\u001b[0m\u001b[0m\n\u001b[0m\u001b[1;32m    560\u001b[0m         )\n\u001b[1;32m    561\u001b[0m \u001b[0;34m\u001b[0m\u001b[0m\n",
      "\u001b[0;32m/dodrio/scratch/projects/2022_200/project_output/rcs/software/miniconda3/envs/ctsm_pylib/lib/python3.7/site-packages/xarray/backends/netCDF4_.py\u001b[0m in \u001b[0;36mopen\u001b[0;34m(cls, filename, mode, format, group, clobber, diskless, persist, lock, lock_maker, autoclose)\u001b[0m\n\u001b[1;32m    377\u001b[0m             \u001b[0mnetCDF4\u001b[0m\u001b[0;34m.\u001b[0m\u001b[0mDataset\u001b[0m\u001b[0;34m,\u001b[0m \u001b[0mfilename\u001b[0m\u001b[0;34m,\u001b[0m \u001b[0mmode\u001b[0m\u001b[0;34m=\u001b[0m\u001b[0mmode\u001b[0m\u001b[0;34m,\u001b[0m \u001b[0mkwargs\u001b[0m\u001b[0;34m=\u001b[0m\u001b[0mkwargs\u001b[0m\u001b[0;34m\u001b[0m\u001b[0;34m\u001b[0m\u001b[0m\n\u001b[1;32m    378\u001b[0m         )\n\u001b[0;32m--> 379\u001b[0;31m         \u001b[0;32mreturn\u001b[0m \u001b[0mcls\u001b[0m\u001b[0;34m(\u001b[0m\u001b[0mmanager\u001b[0m\u001b[0;34m,\u001b[0m \u001b[0mgroup\u001b[0m\u001b[0;34m=\u001b[0m\u001b[0mgroup\u001b[0m\u001b[0;34m,\u001b[0m \u001b[0mmode\u001b[0m\u001b[0;34m=\u001b[0m\u001b[0mmode\u001b[0m\u001b[0;34m,\u001b[0m \u001b[0mlock\u001b[0m\u001b[0;34m=\u001b[0m\u001b[0mlock\u001b[0m\u001b[0;34m,\u001b[0m \u001b[0mautoclose\u001b[0m\u001b[0;34m=\u001b[0m\u001b[0mautoclose\u001b[0m\u001b[0;34m)\u001b[0m\u001b[0;34m\u001b[0m\u001b[0;34m\u001b[0m\u001b[0m\n\u001b[0m\u001b[1;32m    380\u001b[0m \u001b[0;34m\u001b[0m\u001b[0m\n\u001b[1;32m    381\u001b[0m     \u001b[0;32mdef\u001b[0m \u001b[0m_acquire\u001b[0m\u001b[0;34m(\u001b[0m\u001b[0mself\u001b[0m\u001b[0;34m,\u001b[0m \u001b[0mneeds_lock\u001b[0m\u001b[0;34m=\u001b[0m\u001b[0;32mTrue\u001b[0m\u001b[0;34m)\u001b[0m\u001b[0;34m:\u001b[0m\u001b[0;34m\u001b[0m\u001b[0;34m\u001b[0m\u001b[0m\n",
      "\u001b[0;32m/dodrio/scratch/projects/2022_200/project_output/rcs/software/miniconda3/envs/ctsm_pylib/lib/python3.7/site-packages/xarray/backends/netCDF4_.py\u001b[0m in \u001b[0;36m__init__\u001b[0;34m(self, manager, group, mode, lock, autoclose)\u001b[0m\n\u001b[1;32m    325\u001b[0m         \u001b[0mself\u001b[0m\u001b[0;34m.\u001b[0m\u001b[0m_group\u001b[0m \u001b[0;34m=\u001b[0m \u001b[0mgroup\u001b[0m\u001b[0;34m\u001b[0m\u001b[0;34m\u001b[0m\u001b[0m\n\u001b[1;32m    326\u001b[0m         \u001b[0mself\u001b[0m\u001b[0;34m.\u001b[0m\u001b[0m_mode\u001b[0m \u001b[0;34m=\u001b[0m \u001b[0mmode\u001b[0m\u001b[0;34m\u001b[0m\u001b[0;34m\u001b[0m\u001b[0m\n\u001b[0;32m--> 327\u001b[0;31m         \u001b[0mself\u001b[0m\u001b[0;34m.\u001b[0m\u001b[0mformat\u001b[0m \u001b[0;34m=\u001b[0m \u001b[0mself\u001b[0m\u001b[0;34m.\u001b[0m\u001b[0mds\u001b[0m\u001b[0;34m.\u001b[0m\u001b[0mdata_model\u001b[0m\u001b[0;34m\u001b[0m\u001b[0;34m\u001b[0m\u001b[0m\n\u001b[0m\u001b[1;32m    328\u001b[0m         \u001b[0mself\u001b[0m\u001b[0;34m.\u001b[0m\u001b[0m_filename\u001b[0m \u001b[0;34m=\u001b[0m \u001b[0mself\u001b[0m\u001b[0;34m.\u001b[0m\u001b[0mds\u001b[0m\u001b[0;34m.\u001b[0m\u001b[0mfilepath\u001b[0m\u001b[0;34m(\u001b[0m\u001b[0;34m)\u001b[0m\u001b[0;34m\u001b[0m\u001b[0;34m\u001b[0m\u001b[0m\n\u001b[1;32m    329\u001b[0m         \u001b[0mself\u001b[0m\u001b[0;34m.\u001b[0m\u001b[0mis_remote\u001b[0m \u001b[0;34m=\u001b[0m \u001b[0mis_remote_uri\u001b[0m\u001b[0;34m(\u001b[0m\u001b[0mself\u001b[0m\u001b[0;34m.\u001b[0m\u001b[0m_filename\u001b[0m\u001b[0;34m)\u001b[0m\u001b[0;34m\u001b[0m\u001b[0;34m\u001b[0m\u001b[0m\n",
      "\u001b[0;32m/dodrio/scratch/projects/2022_200/project_output/rcs/software/miniconda3/envs/ctsm_pylib/lib/python3.7/site-packages/xarray/backends/netCDF4_.py\u001b[0m in \u001b[0;36mds\u001b[0;34m(self)\u001b[0m\n\u001b[1;32m    386\u001b[0m     \u001b[0;34m@\u001b[0m\u001b[0mproperty\u001b[0m\u001b[0;34m\u001b[0m\u001b[0;34m\u001b[0m\u001b[0m\n\u001b[1;32m    387\u001b[0m     \u001b[0;32mdef\u001b[0m \u001b[0mds\u001b[0m\u001b[0;34m(\u001b[0m\u001b[0mself\u001b[0m\u001b[0;34m)\u001b[0m\u001b[0;34m:\u001b[0m\u001b[0;34m\u001b[0m\u001b[0;34m\u001b[0m\u001b[0m\n\u001b[0;32m--> 388\u001b[0;31m         \u001b[0;32mreturn\u001b[0m \u001b[0mself\u001b[0m\u001b[0;34m.\u001b[0m\u001b[0m_acquire\u001b[0m\u001b[0;34m(\u001b[0m\u001b[0;34m)\u001b[0m\u001b[0;34m\u001b[0m\u001b[0;34m\u001b[0m\u001b[0m\n\u001b[0m\u001b[1;32m    389\u001b[0m \u001b[0;34m\u001b[0m\u001b[0m\n\u001b[1;32m    390\u001b[0m     \u001b[0;32mdef\u001b[0m \u001b[0mopen_store_variable\u001b[0m\u001b[0;34m(\u001b[0m\u001b[0mself\u001b[0m\u001b[0;34m,\u001b[0m \u001b[0mname\u001b[0m\u001b[0;34m,\u001b[0m \u001b[0mvar\u001b[0m\u001b[0;34m)\u001b[0m\u001b[0;34m:\u001b[0m\u001b[0;34m\u001b[0m\u001b[0;34m\u001b[0m\u001b[0m\n",
      "\u001b[0;32m/dodrio/scratch/projects/2022_200/project_output/rcs/software/miniconda3/envs/ctsm_pylib/lib/python3.7/site-packages/xarray/backends/netCDF4_.py\u001b[0m in \u001b[0;36m_acquire\u001b[0;34m(self, needs_lock)\u001b[0m\n\u001b[1;32m    380\u001b[0m \u001b[0;34m\u001b[0m\u001b[0m\n\u001b[1;32m    381\u001b[0m     \u001b[0;32mdef\u001b[0m \u001b[0m_acquire\u001b[0m\u001b[0;34m(\u001b[0m\u001b[0mself\u001b[0m\u001b[0;34m,\u001b[0m \u001b[0mneeds_lock\u001b[0m\u001b[0;34m=\u001b[0m\u001b[0;32mTrue\u001b[0m\u001b[0;34m)\u001b[0m\u001b[0;34m:\u001b[0m\u001b[0;34m\u001b[0m\u001b[0;34m\u001b[0m\u001b[0m\n\u001b[0;32m--> 382\u001b[0;31m         \u001b[0;32mwith\u001b[0m \u001b[0mself\u001b[0m\u001b[0;34m.\u001b[0m\u001b[0m_manager\u001b[0m\u001b[0;34m.\u001b[0m\u001b[0macquire_context\u001b[0m\u001b[0;34m(\u001b[0m\u001b[0mneeds_lock\u001b[0m\u001b[0;34m)\u001b[0m \u001b[0;32mas\u001b[0m \u001b[0mroot\u001b[0m\u001b[0;34m:\u001b[0m\u001b[0;34m\u001b[0m\u001b[0;34m\u001b[0m\u001b[0m\n\u001b[0m\u001b[1;32m    383\u001b[0m             \u001b[0mds\u001b[0m \u001b[0;34m=\u001b[0m \u001b[0m_nc4_require_group\u001b[0m\u001b[0;34m(\u001b[0m\u001b[0mroot\u001b[0m\u001b[0;34m,\u001b[0m \u001b[0mself\u001b[0m\u001b[0;34m.\u001b[0m\u001b[0m_group\u001b[0m\u001b[0;34m,\u001b[0m \u001b[0mself\u001b[0m\u001b[0;34m.\u001b[0m\u001b[0m_mode\u001b[0m\u001b[0;34m)\u001b[0m\u001b[0;34m\u001b[0m\u001b[0;34m\u001b[0m\u001b[0m\n\u001b[1;32m    384\u001b[0m         \u001b[0;32mreturn\u001b[0m \u001b[0mds\u001b[0m\u001b[0;34m\u001b[0m\u001b[0;34m\u001b[0m\u001b[0m\n",
      "\u001b[0;32m/dodrio/scratch/projects/2022_200/project_output/rcs/software/miniconda3/envs/ctsm_pylib/lib/python3.7/contextlib.py\u001b[0m in \u001b[0;36m__enter__\u001b[0;34m(self)\u001b[0m\n\u001b[1;32m    110\u001b[0m         \u001b[0;32mdel\u001b[0m \u001b[0mself\u001b[0m\u001b[0;34m.\u001b[0m\u001b[0margs\u001b[0m\u001b[0;34m,\u001b[0m \u001b[0mself\u001b[0m\u001b[0;34m.\u001b[0m\u001b[0mkwds\u001b[0m\u001b[0;34m,\u001b[0m \u001b[0mself\u001b[0m\u001b[0;34m.\u001b[0m\u001b[0mfunc\u001b[0m\u001b[0;34m\u001b[0m\u001b[0;34m\u001b[0m\u001b[0m\n\u001b[1;32m    111\u001b[0m         \u001b[0;32mtry\u001b[0m\u001b[0;34m:\u001b[0m\u001b[0;34m\u001b[0m\u001b[0;34m\u001b[0m\u001b[0m\n\u001b[0;32m--> 112\u001b[0;31m             \u001b[0;32mreturn\u001b[0m \u001b[0mnext\u001b[0m\u001b[0;34m(\u001b[0m\u001b[0mself\u001b[0m\u001b[0;34m.\u001b[0m\u001b[0mgen\u001b[0m\u001b[0;34m)\u001b[0m\u001b[0;34m\u001b[0m\u001b[0;34m\u001b[0m\u001b[0m\n\u001b[0m\u001b[1;32m    113\u001b[0m         \u001b[0;32mexcept\u001b[0m \u001b[0mStopIteration\u001b[0m\u001b[0;34m:\u001b[0m\u001b[0;34m\u001b[0m\u001b[0;34m\u001b[0m\u001b[0m\n\u001b[1;32m    114\u001b[0m             \u001b[0;32mraise\u001b[0m \u001b[0mRuntimeError\u001b[0m\u001b[0;34m(\u001b[0m\u001b[0;34m\"generator didn't yield\"\u001b[0m\u001b[0;34m)\u001b[0m \u001b[0;32mfrom\u001b[0m \u001b[0;32mNone\u001b[0m\u001b[0;34m\u001b[0m\u001b[0;34m\u001b[0m\u001b[0m\n",
      "\u001b[0;32m/dodrio/scratch/projects/2022_200/project_output/rcs/software/miniconda3/envs/ctsm_pylib/lib/python3.7/site-packages/xarray/backends/file_manager.py\u001b[0m in \u001b[0;36macquire_context\u001b[0;34m(self, needs_lock)\u001b[0m\n\u001b[1;32m    185\u001b[0m     \u001b[0;32mdef\u001b[0m \u001b[0macquire_context\u001b[0m\u001b[0;34m(\u001b[0m\u001b[0mself\u001b[0m\u001b[0;34m,\u001b[0m \u001b[0mneeds_lock\u001b[0m\u001b[0;34m=\u001b[0m\u001b[0;32mTrue\u001b[0m\u001b[0;34m)\u001b[0m\u001b[0;34m:\u001b[0m\u001b[0;34m\u001b[0m\u001b[0;34m\u001b[0m\u001b[0m\n\u001b[1;32m    186\u001b[0m         \u001b[0;34m\"\"\"Context manager for acquiring a file.\"\"\"\u001b[0m\u001b[0;34m\u001b[0m\u001b[0;34m\u001b[0m\u001b[0m\n\u001b[0;32m--> 187\u001b[0;31m         \u001b[0mfile\u001b[0m\u001b[0;34m,\u001b[0m \u001b[0mcached\u001b[0m \u001b[0;34m=\u001b[0m \u001b[0mself\u001b[0m\u001b[0;34m.\u001b[0m\u001b[0m_acquire_with_cache_info\u001b[0m\u001b[0;34m(\u001b[0m\u001b[0mneeds_lock\u001b[0m\u001b[0;34m)\u001b[0m\u001b[0;34m\u001b[0m\u001b[0;34m\u001b[0m\u001b[0m\n\u001b[0m\u001b[1;32m    188\u001b[0m         \u001b[0;32mtry\u001b[0m\u001b[0;34m:\u001b[0m\u001b[0;34m\u001b[0m\u001b[0;34m\u001b[0m\u001b[0m\n\u001b[1;32m    189\u001b[0m             \u001b[0;32myield\u001b[0m \u001b[0mfile\u001b[0m\u001b[0;34m\u001b[0m\u001b[0;34m\u001b[0m\u001b[0m\n",
      "\u001b[0;32m/dodrio/scratch/projects/2022_200/project_output/rcs/software/miniconda3/envs/ctsm_pylib/lib/python3.7/site-packages/xarray/backends/file_manager.py\u001b[0m in \u001b[0;36m_acquire_with_cache_info\u001b[0;34m(self, needs_lock)\u001b[0m\n\u001b[1;32m    203\u001b[0m                     \u001b[0mkwargs\u001b[0m \u001b[0;34m=\u001b[0m \u001b[0mkwargs\u001b[0m\u001b[0;34m.\u001b[0m\u001b[0mcopy\u001b[0m\u001b[0;34m(\u001b[0m\u001b[0;34m)\u001b[0m\u001b[0;34m\u001b[0m\u001b[0;34m\u001b[0m\u001b[0m\n\u001b[1;32m    204\u001b[0m                     \u001b[0mkwargs\u001b[0m\u001b[0;34m[\u001b[0m\u001b[0;34m\"mode\"\u001b[0m\u001b[0;34m]\u001b[0m \u001b[0;34m=\u001b[0m \u001b[0mself\u001b[0m\u001b[0;34m.\u001b[0m\u001b[0m_mode\u001b[0m\u001b[0;34m\u001b[0m\u001b[0;34m\u001b[0m\u001b[0m\n\u001b[0;32m--> 205\u001b[0;31m                 \u001b[0mfile\u001b[0m \u001b[0;34m=\u001b[0m \u001b[0mself\u001b[0m\u001b[0;34m.\u001b[0m\u001b[0m_opener\u001b[0m\u001b[0;34m(\u001b[0m\u001b[0;34m*\u001b[0m\u001b[0mself\u001b[0m\u001b[0;34m.\u001b[0m\u001b[0m_args\u001b[0m\u001b[0;34m,\u001b[0m \u001b[0;34m**\u001b[0m\u001b[0mkwargs\u001b[0m\u001b[0;34m)\u001b[0m\u001b[0;34m\u001b[0m\u001b[0;34m\u001b[0m\u001b[0m\n\u001b[0m\u001b[1;32m    206\u001b[0m                 \u001b[0;32mif\u001b[0m \u001b[0mself\u001b[0m\u001b[0;34m.\u001b[0m\u001b[0m_mode\u001b[0m \u001b[0;34m==\u001b[0m \u001b[0;34m\"w\"\u001b[0m\u001b[0;34m:\u001b[0m\u001b[0;34m\u001b[0m\u001b[0;34m\u001b[0m\u001b[0m\n\u001b[1;32m    207\u001b[0m                     \u001b[0;31m# ensure file doesn't get overriden when opened again\u001b[0m\u001b[0;34m\u001b[0m\u001b[0;34m\u001b[0m\u001b[0;34m\u001b[0m\u001b[0m\n",
      "\u001b[0;32msrc/netCDF4/_netCDF4.pyx\u001b[0m in \u001b[0;36mnetCDF4._netCDF4.Dataset.__init__\u001b[0;34m()\u001b[0m\n",
      "\u001b[0;32msrc/netCDF4/_netCDF4.pyx\u001b[0m in \u001b[0;36mnetCDF4._netCDF4._ensure_nc_success\u001b[0;34m()\u001b[0m\n",
      "\u001b[0;31mFileNotFoundError\u001b[0m: [Errno 2] No such file or directory: b'/dodrio/scratch/projects/2022_200/project_output/rcs/CORDEXBE2/innev/4p1000/processing_4p1000/CTSM_hcru_inputdata/surfdata_360x720cru_hist_16pfts_CMIP6_2000_c230915.nc'"
     ]
    }
   ],
   "source": [
    "# directory settings\n",
    "\n",
    "#inputdir = '/project/s1207/ivanderk/scratch/processing_4p1000/'\n",
    "#figdir = '/users/ivanderk/notebooks_4p1000/figures/'\n",
    "inputdir = '/dodrio/scratch/projects/2022_200/project_output/rcs/CORDEXBE2/innev/4p1000/processing_4p1000/CTSM_hcru_inputdata/'\n",
    "figdir = '/dodrio/scratch/projects/2022_200/project_output/rcs/CORDEXBE2/innev/4p1000/4p1000/figures/'\n",
    "\n",
    "filename_ctsm52 = 'surfdata_360x720cru_hist_16pfts_CMIP6_2000_c230915.nc'\n",
    "\n",
    "filename_clm5 = 'surfdata_360x720cru_16pfts_Irrig_CMIP6_simyr2000_c170824.nc'\n",
    "ds_input_ctsm52 = xr.open_dataset(inputdir+filename_ctsm52)\n",
    "\n",
    "\n",
    "# load scenarios\n",
    "scenarios = ['CTL', 'medium','high','4p1000']\n",
    "inputdir_4p1000 = '/project/s1207/ivanderk/scratch/processing_4p1000/surfdata_4p1000/'\n",
    "d_input_scen = {}\n",
    "for scenario in scenarios: \n",
    "    filename_clm5_scenario = 'surfdata_360x720cru_16pfts_Irrig_CMIP6_simyr2000_c170824_'+scenario+'.nc'\n",
    "    d_input_scen[scenario] = xr.open_dataset(inputdir_4p1000+filename_clm5_scenario)\n"
   ]
  },
  {
   "cell_type": "code",
   "execution_count": null,
   "id": "e6eec1cf-049a-4aad-a5d7-410885d802d0",
   "metadata": {
    "tags": []
   },
   "outputs": [],
   "source": [
    "# case settings\n",
    "case_ctl   = 'IHistClm51Sp.hcru_hcru_mt13.pftsoilcol.CTL.spunup5'\n",
    "case       = case_ctl\n",
    "block      = \"lnd\"\n",
    "stream     = \"h0\"\n",
    "variables  = [\"watsat\", \"H2OSOI\" ]\n",
    "start_year = 2004\n",
    "end_year   = 2004\n",
    "time_slice = slice(str(start_year) + \"-01-01\", str(end_year) + \"-12-01\")\n",
    "ds         = import_case(case_ctl, myVars=variables, timeSlice=time_slice,  alter_lons=False)\n",
    "\n",
    "proj = ccrs.Robinson()\n",
    "labels = ['a.','b.','c.', 'd.']\n"
   ]
  },
  {
   "cell_type": "code",
   "execution_count": null,
   "id": "d14a863e-795e-4111-9f51-e844085b790e",
   "metadata": {},
   "outputs": [
    {
     "ename": "ValueError",
     "evalue": "the new name 'lat' conflicts",
     "output_type": "error",
     "traceback": [
      "\u001b[0;31m---------------------------------------------------------------------------\u001b[0m",
      "\u001b[0;31mValueError\u001b[0m                                Traceback (most recent call last)",
      "\u001b[0;32m/tmp/ipykernel_123821/4146279963.py\u001b[0m in \u001b[0;36m?\u001b[0;34m()\u001b[0m\n\u001b[0;32m----> 1\u001b[0;31m \u001b[0mds_input_ctsm52\u001b[0m \u001b[0;34m=\u001b[0m  \u001b[0mds_input_ctsm52\u001b[0m\u001b[0;34m.\u001b[0m\u001b[0massign_coords\u001b[0m\u001b[0;34m(\u001b[0m\u001b[0mlsmlat\u001b[0m\u001b[0;34m=\u001b[0m \u001b[0;34m(\u001b[0m\u001b[0mds\u001b[0m\u001b[0;34m[\u001b[0m\u001b[0;34m'watsat'\u001b[0m\u001b[0;34m]\u001b[0m\u001b[0;34m.\u001b[0m\u001b[0mlat\u001b[0m\u001b[0;34m.\u001b[0m\u001b[0mvalues\u001b[0m\u001b[0;34m)\u001b[0m\u001b[0;34m)\u001b[0m\u001b[0;34m.\u001b[0m\u001b[0massign_coords\u001b[0m\u001b[0;34m(\u001b[0m\u001b[0mlsmlon\u001b[0m\u001b[0;34m=\u001b[0m \u001b[0;34m(\u001b[0m\u001b[0mds\u001b[0m\u001b[0;34m[\u001b[0m\u001b[0;34m'watsat'\u001b[0m\u001b[0;34m]\u001b[0m\u001b[0;34m.\u001b[0m\u001b[0mlon\u001b[0m\u001b[0;34m.\u001b[0m\u001b[0mvalues\u001b[0m\u001b[0;34m)\u001b[0m\u001b[0;34m)\u001b[0m\u001b[0;34m.\u001b[0m\u001b[0mrename\u001b[0m\u001b[0;34m(\u001b[0m\u001b[0;34m{\u001b[0m\u001b[0;34m'lsmlon'\u001b[0m\u001b[0;34m:\u001b[0m\u001b[0;34m'lon'\u001b[0m\u001b[0;34m,\u001b[0m \u001b[0;34m'lsmlat'\u001b[0m\u001b[0;34m:\u001b[0m\u001b[0;34m'lat'\u001b[0m\u001b[0;34m}\u001b[0m\u001b[0;34m)\u001b[0m\u001b[0;34m\u001b[0m\u001b[0;34m\u001b[0m\u001b[0m\n\u001b[0m\u001b[1;32m      2\u001b[0m \u001b[0;34m\u001b[0m\u001b[0m\n\u001b[1;32m      3\u001b[0m \u001b[0mlandmask\u001b[0m \u001b[0;34m=\u001b[0m \u001b[0mds_input_ctsm52\u001b[0m\u001b[0;34m[\u001b[0m\u001b[0;34m'LANDFRAC_PFT'\u001b[0m\u001b[0;34m]\u001b[0m\u001b[0;34m>\u001b[0m\u001b[0;36m0\u001b[0m\u001b[0;34m\u001b[0m\u001b[0;34m\u001b[0m\u001b[0m\n\u001b[1;32m      4\u001b[0m \u001b[0;34m\u001b[0m\u001b[0m\n",
      "\u001b[0;32m~/env_ctsm_py2/lib/python3.11/site-packages/xarray/core/dataset.py\u001b[0m in \u001b[0;36m?\u001b[0;34m(self, name_dict, **names)\u001b[0m\n\u001b[1;32m   4495\u001b[0m         \u001b[0mDataset\u001b[0m\u001b[0;34m.\u001b[0m\u001b[0mrename_vars\u001b[0m\u001b[0;34m\u001b[0m\u001b[0;34m\u001b[0m\u001b[0m\n\u001b[1;32m   4496\u001b[0m         \u001b[0mDataset\u001b[0m\u001b[0;34m.\u001b[0m\u001b[0mrename_dims\u001b[0m\u001b[0;34m\u001b[0m\u001b[0;34m\u001b[0m\u001b[0m\n\u001b[1;32m   4497\u001b[0m         \u001b[0mDataArray\u001b[0m\u001b[0;34m.\u001b[0m\u001b[0mrename\u001b[0m\u001b[0;34m\u001b[0m\u001b[0;34m\u001b[0m\u001b[0m\n\u001b[1;32m   4498\u001b[0m         \"\"\"\n\u001b[0;32m-> 4499\u001b[0;31m         \u001b[0;32mreturn\u001b[0m \u001b[0mself\u001b[0m\u001b[0;34m.\u001b[0m\u001b[0m_rename\u001b[0m\u001b[0;34m(\u001b[0m\u001b[0mname_dict\u001b[0m\u001b[0;34m=\u001b[0m\u001b[0mname_dict\u001b[0m\u001b[0;34m,\u001b[0m \u001b[0;34m**\u001b[0m\u001b[0mnames\u001b[0m\u001b[0;34m)\u001b[0m\u001b[0;34m\u001b[0m\u001b[0;34m\u001b[0m\u001b[0m\n\u001b[0m",
      "\u001b[0;32m~/env_ctsm_py2/lib/python3.11/site-packages/xarray/core/dataset.py\u001b[0m in \u001b[0;36m?\u001b[0;34m(self, name_dict, **names)\u001b[0m\n\u001b[1;32m   4462\u001b[0m                     \u001b[0mUserWarning\u001b[0m\u001b[0;34m,\u001b[0m\u001b[0;34m\u001b[0m\u001b[0;34m\u001b[0m\u001b[0m\n\u001b[1;32m   4463\u001b[0m                     \u001b[0mstacklevel\u001b[0m\u001b[0;34m=\u001b[0m\u001b[0;36m3\u001b[0m\u001b[0;34m,\u001b[0m\u001b[0;34m\u001b[0m\u001b[0;34m\u001b[0m\u001b[0m\n\u001b[1;32m   4464\u001b[0m                 )\n\u001b[1;32m   4465\u001b[0m \u001b[0;34m\u001b[0m\u001b[0m\n\u001b[0;32m-> 4466\u001b[0;31m         variables, coord_names, dims, indexes = self._rename_all(\n\u001b[0m\u001b[1;32m   4467\u001b[0m             \u001b[0mname_dict\u001b[0m\u001b[0;34m=\u001b[0m\u001b[0mname_dict\u001b[0m\u001b[0;34m,\u001b[0m \u001b[0mdims_dict\u001b[0m\u001b[0;34m=\u001b[0m\u001b[0mname_dict\u001b[0m\u001b[0;34m\u001b[0m\u001b[0;34m\u001b[0m\u001b[0m\n\u001b[1;32m   4468\u001b[0m         )\n\u001b[1;32m   4469\u001b[0m         \u001b[0;32mreturn\u001b[0m \u001b[0mself\u001b[0m\u001b[0;34m.\u001b[0m\u001b[0m_replace\u001b[0m\u001b[0;34m(\u001b[0m\u001b[0mvariables\u001b[0m\u001b[0;34m,\u001b[0m \u001b[0mcoord_names\u001b[0m\u001b[0;34m,\u001b[0m \u001b[0mdims\u001b[0m\u001b[0;34m=\u001b[0m\u001b[0mdims\u001b[0m\u001b[0;34m,\u001b[0m \u001b[0mindexes\u001b[0m\u001b[0;34m=\u001b[0m\u001b[0mindexes\u001b[0m\u001b[0;34m)\u001b[0m\u001b[0;34m\u001b[0m\u001b[0;34m\u001b[0m\u001b[0m\n",
      "\u001b[0;32m~/env_ctsm_py2/lib/python3.11/site-packages/xarray/core/dataset.py\u001b[0m in \u001b[0;36m?\u001b[0;34m(self, name_dict, dims_dict)\u001b[0m\n\u001b[1;32m   4414\u001b[0m         \u001b[0mset\u001b[0m\u001b[0;34m[\u001b[0m\u001b[0mHashable\u001b[0m\u001b[0;34m]\u001b[0m\u001b[0;34m,\u001b[0m\u001b[0;34m\u001b[0m\u001b[0;34m\u001b[0m\u001b[0m\n\u001b[1;32m   4415\u001b[0m         \u001b[0mdict\u001b[0m\u001b[0;34m[\u001b[0m\u001b[0mHashable\u001b[0m\u001b[0;34m,\u001b[0m \u001b[0mint\u001b[0m\u001b[0;34m]\u001b[0m\u001b[0;34m,\u001b[0m\u001b[0;34m\u001b[0m\u001b[0;34m\u001b[0m\u001b[0m\n\u001b[1;32m   4416\u001b[0m         \u001b[0mdict\u001b[0m\u001b[0;34m[\u001b[0m\u001b[0mHashable\u001b[0m\u001b[0;34m,\u001b[0m \u001b[0mIndex\u001b[0m\u001b[0;34m]\u001b[0m\u001b[0;34m,\u001b[0m\u001b[0;34m\u001b[0m\u001b[0;34m\u001b[0m\u001b[0m\n\u001b[1;32m   4417\u001b[0m     ]:\n\u001b[0;32m-> 4418\u001b[0;31m         \u001b[0mvariables\u001b[0m\u001b[0;34m,\u001b[0m \u001b[0mcoord_names\u001b[0m \u001b[0;34m=\u001b[0m \u001b[0mself\u001b[0m\u001b[0;34m.\u001b[0m\u001b[0m_rename_vars\u001b[0m\u001b[0;34m(\u001b[0m\u001b[0mname_dict\u001b[0m\u001b[0;34m,\u001b[0m \u001b[0mdims_dict\u001b[0m\u001b[0;34m)\u001b[0m\u001b[0;34m\u001b[0m\u001b[0;34m\u001b[0m\u001b[0m\n\u001b[0m\u001b[1;32m   4419\u001b[0m         \u001b[0mdims\u001b[0m \u001b[0;34m=\u001b[0m \u001b[0mself\u001b[0m\u001b[0;34m.\u001b[0m\u001b[0m_rename_dims\u001b[0m\u001b[0;34m(\u001b[0m\u001b[0mdims_dict\u001b[0m\u001b[0;34m)\u001b[0m\u001b[0;34m\u001b[0m\u001b[0;34m\u001b[0m\u001b[0m\n\u001b[1;32m   4420\u001b[0m \u001b[0;34m\u001b[0m\u001b[0m\n\u001b[1;32m   4421\u001b[0m         \u001b[0mindexes\u001b[0m\u001b[0;34m,\u001b[0m \u001b[0mindex_vars\u001b[0m \u001b[0;34m=\u001b[0m \u001b[0mself\u001b[0m\u001b[0;34m.\u001b[0m\u001b[0m_rename_indexes\u001b[0m\u001b[0;34m(\u001b[0m\u001b[0mname_dict\u001b[0m\u001b[0;34m,\u001b[0m \u001b[0mdims_dict\u001b[0m\u001b[0;34m)\u001b[0m\u001b[0;34m\u001b[0m\u001b[0;34m\u001b[0m\u001b[0m\n",
      "\u001b[0;32m~/env_ctsm_py2/lib/python3.11/site-packages/xarray/core/dataset.py\u001b[0m in \u001b[0;36m?\u001b[0;34m(self, name_dict, dims_dict)\u001b[0m\n\u001b[1;32m   4374\u001b[0m             \u001b[0mvar\u001b[0m \u001b[0;34m=\u001b[0m \u001b[0mv\u001b[0m\u001b[0;34m.\u001b[0m\u001b[0mcopy\u001b[0m\u001b[0;34m(\u001b[0m\u001b[0mdeep\u001b[0m\u001b[0;34m=\u001b[0m\u001b[0;32mFalse\u001b[0m\u001b[0;34m)\u001b[0m\u001b[0;34m\u001b[0m\u001b[0;34m\u001b[0m\u001b[0m\n\u001b[1;32m   4375\u001b[0m             \u001b[0mvar\u001b[0m\u001b[0;34m.\u001b[0m\u001b[0mdims\u001b[0m \u001b[0;34m=\u001b[0m \u001b[0mtuple\u001b[0m\u001b[0;34m(\u001b[0m\u001b[0mdims_dict\u001b[0m\u001b[0;34m.\u001b[0m\u001b[0mget\u001b[0m\u001b[0;34m(\u001b[0m\u001b[0mdim\u001b[0m\u001b[0;34m,\u001b[0m \u001b[0mdim\u001b[0m\u001b[0;34m)\u001b[0m \u001b[0;32mfor\u001b[0m \u001b[0mdim\u001b[0m \u001b[0;32min\u001b[0m \u001b[0mv\u001b[0m\u001b[0;34m.\u001b[0m\u001b[0mdims\u001b[0m\u001b[0;34m)\u001b[0m\u001b[0;34m\u001b[0m\u001b[0;34m\u001b[0m\u001b[0m\n\u001b[1;32m   4376\u001b[0m             \u001b[0mname\u001b[0m \u001b[0;34m=\u001b[0m \u001b[0mname_dict\u001b[0m\u001b[0;34m.\u001b[0m\u001b[0mget\u001b[0m\u001b[0;34m(\u001b[0m\u001b[0mk\u001b[0m\u001b[0;34m,\u001b[0m \u001b[0mk\u001b[0m\u001b[0;34m)\u001b[0m\u001b[0;34m\u001b[0m\u001b[0;34m\u001b[0m\u001b[0m\n\u001b[1;32m   4377\u001b[0m             \u001b[0;32mif\u001b[0m \u001b[0mname\u001b[0m \u001b[0;32min\u001b[0m \u001b[0mvariables\u001b[0m\u001b[0;34m:\u001b[0m\u001b[0;34m\u001b[0m\u001b[0;34m\u001b[0m\u001b[0m\n\u001b[0;32m-> 4378\u001b[0;31m                 \u001b[0;32mraise\u001b[0m \u001b[0mValueError\u001b[0m\u001b[0;34m(\u001b[0m\u001b[0;34mf\"the new name {name!r} conflicts\"\u001b[0m\u001b[0;34m)\u001b[0m\u001b[0;34m\u001b[0m\u001b[0;34m\u001b[0m\u001b[0m\n\u001b[0m\u001b[1;32m   4379\u001b[0m             \u001b[0mvariables\u001b[0m\u001b[0;34m[\u001b[0m\u001b[0mname\u001b[0m\u001b[0;34m]\u001b[0m \u001b[0;34m=\u001b[0m \u001b[0mvar\u001b[0m\u001b[0;34m\u001b[0m\u001b[0;34m\u001b[0m\u001b[0m\n\u001b[1;32m   4380\u001b[0m             \u001b[0;32mif\u001b[0m \u001b[0mk\u001b[0m \u001b[0;32min\u001b[0m \u001b[0mself\u001b[0m\u001b[0;34m.\u001b[0m\u001b[0m_coord_names\u001b[0m\u001b[0;34m:\u001b[0m\u001b[0;34m\u001b[0m\u001b[0;34m\u001b[0m\u001b[0m\n\u001b[1;32m   4381\u001b[0m                 \u001b[0mcoord_names\u001b[0m\u001b[0;34m.\u001b[0m\u001b[0madd\u001b[0m\u001b[0;34m(\u001b[0m\u001b[0mname\u001b[0m\u001b[0;34m)\u001b[0m\u001b[0;34m\u001b[0m\u001b[0;34m\u001b[0m\u001b[0m\n",
      "\u001b[0;31mValueError\u001b[0m: the new name 'lat' conflicts"
     ]
    }
   ],
   "source": [
    "ds_input_ctsm52 =  ds_input_ctsm52.assign_coords(lsmlat= (ds['watsat'].lat.values)).assign_coords(lsmlon= (ds['watsat'].lon.values)).rename({'lsmlon':'lon', 'lsmlat':'lat'})\n",
    "\n",
    "landmask = ds_input_ctsm52['LANDFRAC_PFT']>0\n",
    "\n",
    "da_orgc    = ds_input_ctsm52['ORGC']\n",
    "da_bulk    = ds_input_ctsm52['BULK']\n",
    "da_cfrag   = ds_input_ctsm52['CFRAG']\n",
    "da_organic = ds_input_ctsm52['ORGANIC']\n",
    "\n",
    "da_pct_clay    = ds_input_ctsm52['PCT_CLAY']\n",
    "da_pct_sand    = ds_input_ctsm52['PCT_SAND']\n",
    "\n",
    "da_pct_crop = ds_input_ctsm52['PCT_CROP']\n",
    "da_pct_grass = ds_input_ctsm52['PCT_NAT_PFT'].sel(natpft=13) + ds_input_ctsm52['PCT_NAT_PFT'].sel(natpft=14)\n",
    "\n",
    "da_soildepth = ds_input_ctsm52['zbedrock'] #.assign_coords({\"nlevsoi\": (levsoi_thickness[:10])})\n",
    "\n",
    "da_irrigated_mask = ds_input_ctsm52['PCT_CFT'].sel(cft=16)>0\n"
   ]
  },
  {
   "cell_type": "markdown",
   "id": "cfe74bca-7acb-4f5c-bcbe-485142159153",
   "metadata": {},
   "source": [
    "### Plotting purpose settings"
   ]
  },
  {
   "cell_type": "code",
   "execution_count": null,
   "id": "4a433f9b-5d88-4be5-8488-1eae5abf9550",
   "metadata": {},
   "outputs": [],
   "source": [
    "# info on soil levels\n",
    "# manually get soil level info from CLM\n",
    "levsoi_thickness, levsoi_depth, levgrnd_thickness , levgrnd_depth = get_soildepths()\n",
    "\n",
    "# get info on soil levels\n",
    "levsoi = ds['levsoi'].values\n",
    "levgrnd = ds['levgrnd'].values # all soil layers (deepest 5 layers are for thermodynamical calculations)"
   ]
  },
  {
   "cell_type": "code",
   "execution_count": null,
   "id": "e46de6b6-4836-4095-8d36-15979a1678d5",
   "metadata": {},
   "outputs": [],
   "source": [
    "# define grid cells\n",
    "df_gridcells = pd.DataFrame({   \"marker\": ['Laikipia, Kenya', 'Indore, India'], \"lat\": [0.25, 22.75 ], \"lon\": [37.25,75.75]})\n",
    "gdf_gridcells = gpd.GeoDataFrame(df_gridcells, geometry=gpd.points_from_xy(df_gridcells.lon, df_gridcells.lat), crs=\"EPSG:4326\")"
   ]
  },
  {
   "cell_type": "markdown",
   "id": "2db2671a-1a1d-4364-96a8-7fd79238b0fe",
   "metadata": {},
   "source": [
    "## Plot current organic mater density at soil levels"
   ]
  },
  {
   "cell_type": "code",
   "execution_count": null,
   "id": "5fed135f-c7f9-4170-a653-cf9997a48a19",
   "metadata": {},
   "outputs": [],
   "source": [
    "\n",
    "# Increase in soil organic carbon (% increase after 20 years)\n",
    "soc_pctincr_20y = {}\n",
    "\n",
    "# from Zomer et al. 2017 - CHECK UNITS\n",
    "soc_pctincr_20y['medium'] = 0.27 # %\n",
    "soc_pctincr_20y['high'] = 0.55 # %\n",
    "soc_pctincr_20y['4p1000'] = 8 # % (0.4 %/year * 20 years)\n",
    "#soc_pctincr_20y['8p1000'] = 16 # % (0.4 %/year * 20 years)\n",
    "\n",
    "scenarios = list(soc_pctincr_20y.keys())\n",
    "scenarios_and_CTL =  scenarios+['CTL']\n"
   ]
  },
  {
   "cell_type": "code",
   "execution_count": null,
   "id": "6018a306-edc6-42f4-be4c-08eb8fca8d8e",
   "metadata": {},
   "outputs": [],
   "source": [
    "# get long names of scenarios (for plotting)\n",
    "\n",
    "scenarios_longnames = []\n",
    "d_scenarios_longnames = {}\n",
    "\n",
    "for scenario, value in zip(scenarios, list(soc_pctincr_20y.values())): \n",
    "    \n",
    "    if scenario == '4p1000': \n",
    "        scenario_name = scenario + '\\n '+str(value)+' % of SOC'\n",
    "\n",
    "    else: \n",
    "        scenario_name = scenario + '\\n +'+str(value)+' %SOC'\n",
    "    scenarios_longnames.append(scenario_name)\n",
    "    d_scenarios_longnames[scenario] = scenario_name"
   ]
  },
  {
   "cell_type": "code",
   "execution_count": null,
   "id": "80809bf5-cd45-4e5c-9c07-8740f47fd94f",
   "metadata": {},
   "outputs": [],
   "source": [
    "# Calculate new SOC data\n",
    "d_orgc_20y = {}\n",
    "\n",
    "# add soil level coordinates (to be able to subset) and convert from gC/kg to kg/kg and then to %\n",
    "da_orgc_pct = da_orgc.assign_coords(nlevsoi=np.arange(0,10)) * 0.1\n",
    "\n",
    "for scenario in scenarios: \n",
    "    print(scenario)\n",
    "    print(soc_pctincr_20y[scenario])\n",
    "\n",
    "\n",
    "    # select only for 5 first soil layers ( fifth soil layer goes until 0.32m depth)\n",
    "    da_orgc_upper30cm = da_orgc_pct.sel(nlevsoi=slice(0,4))\n",
    "    da_orgc_below30cm = da_orgc_pct.sel(nlevsoi=slice(5,len(da_orgc.nlevsoi)))\n",
    "\n",
    "\n",
    "    # calculate SOC after 20 years following scenario\n",
    "    if scenario == '4p1000' or scenario=='8p1000': \n",
    "        \n",
    "        # accumulation rate based on current stocks\n",
    "        da_orgc_20y_upper30cm_new  = da_orgc_upper30cm + da_orgc_upper30cm * soc_pctincr_20y[scenario]/100\n",
    "\n",
    "    else: # addition of percent SOC\n",
    "        \n",
    "        da_orgc_20y_upper30cm_new  = (da_orgc_upper30cm + float(soc_pctincr_20y[scenario])).where(da_orgc_upper30cm>=0)\n",
    "\n",
    "\n",
    "    # merge upper increased 30 cms and original below 30 cm soil levels and convert from % to gC/kg\n",
    "    da_orgc_20y = xr.concat([da_orgc_20y_upper30cm_new, da_orgc_below30cm], dim='nlevsoi') * 10\n",
    "    #da_orgc_20y['lsmlon'] = ds.lon.values\n",
    "    #da_orgc_20y['lsmlat'] = ds.lat.values\n",
    "\n",
    "    # save per scenario in dictionary\n",
    "    d_orgc_20y[scenario] = da_orgc_20y\n",
    "    \n",
    "    \n",
    "    "
   ]
  },
  {
   "cell_type": "code",
   "execution_count": 3,
   "id": "7f00d033-64cb-4a4b-94a5-3af91f0e905e",
   "metadata": {},
   "outputs": [
    {
     "ename": "NameError",
     "evalue": "name 'proj' is not defined",
     "output_type": "error",
     "traceback": [
      "\u001b[0;31m---------------------------------------------------------------------------\u001b[0m",
      "\u001b[0;31mNameError\u001b[0m                                 Traceback (most recent call last)",
      "\u001b[0;32m/tmp/ipykernel_3536430/3231655630.py\u001b[0m in \u001b[0;36m<module>\u001b[0;34m\u001b[0m\n\u001b[1;32m     10\u001b[0m \u001b[0;31m# plot SOC\u001b[0m\u001b[0;34m\u001b[0m\u001b[0;34m\u001b[0m\u001b[0;34m\u001b[0m\u001b[0m\n\u001b[1;32m     11\u001b[0m \u001b[0;31m# ax = axes[0]\u001b[0m\u001b[0;34m\u001b[0m\u001b[0;34m\u001b[0m\u001b[0;34m\u001b[0m\u001b[0m\n\u001b[0;32m---> 12\u001b[0;31m \u001b[0max\u001b[0m \u001b[0;34m=\u001b[0m \u001b[0mfig\u001b[0m\u001b[0;34m.\u001b[0m\u001b[0madd_subplot\u001b[0m\u001b[0;34m(\u001b[0m\u001b[0mgs\u001b[0m\u001b[0;34m[\u001b[0m\u001b[0;36m0\u001b[0m\u001b[0;34m,\u001b[0m \u001b[0;34m:\u001b[0m\u001b[0;34m-\u001b[0m\u001b[0;36m3\u001b[0m\u001b[0;34m]\u001b[0m\u001b[0;34m,\u001b[0m  \u001b[0mprojection\u001b[0m \u001b[0;34m=\u001b[0m\u001b[0mproj\u001b[0m \u001b[0;34m)\u001b[0m\u001b[0;34m\u001b[0m\u001b[0;34m\u001b[0m\u001b[0m\n\u001b[0m\u001b[1;32m     13\u001b[0m \u001b[0;34m\u001b[0m\u001b[0m\n\u001b[1;32m     14\u001b[0m \u001b[0;34m\u001b[0m\u001b[0m\n",
      "\u001b[0;31mNameError\u001b[0m: name 'proj' is not defined"
     ]
    },
    {
     "data": {
      "text/plain": [
       "<Figure size 1600x1000 with 0 Axes>"
      ]
     },
     "metadata": {},
     "output_type": "display_data"
    }
   ],
   "source": [
    "cmap='Oranges'\n",
    "\n",
    "\n",
    "import matplotlib.gridspec as gridspec\n",
    "\n",
    "fig = plt.figure(tight_layout=True, figsize = (16,10))\n",
    "gs = gridspec.GridSpec(3, 10)\n",
    "\n",
    "\n",
    "# plot SOC\n",
    "# ax = axes[0]\n",
    "ax = fig.add_subplot(gs[0, :-3],  projection =proj )\n",
    "\n",
    "\n",
    "label = labels[0]\n",
    "\n",
    "levels = np.arange(0,105,5)\n",
    "da_toplot =  da_orgc.isel(nlevsoi=range(0,4))\n",
    "\n",
    "da_toplot.weighted(da_toplot['nlevsoi']).mean(dim='nlevsoi').where(landmask).plot(ax=ax,transform=ccrs.PlateCarree(),  levels=levels, cmap=cmap,  cbar_kwargs={'label': ' gC/kg soil (%SOC)', 'fraction': 0.02, 'pad': 0.04})\n",
    "ax.set_title(' ', loc='center')\n",
    "ax.set_title('Soil Organic Carbon in upper 30 cm' , loc='right');\n",
    "ax.coastlines(color='dimgray', linewidth=0.5)\n",
    "ax.set_title(label, loc='left')\n",
    "ax.set_extent([-180,180,-63,90], crs=ccrs.PlateCarree())\n",
    "ax.axis('off')\n",
    "\n",
    "# plot pct sand/clay\n",
    "\n",
    "da_pct_sand_2d = da_pct_sand.weighted(da_pct_sand.nlevsoi).mean('nlevsoi')\n",
    "da_pct_clay_2d = da_pct_clay.weighted(da_pct_clay.nlevsoi).mean('nlevsoi')\n",
    "\n",
    "#ax = axes[1]\n",
    "ax = fig.add_subplot(gs[1, :-3],  projection =proj)\n",
    "# sand\n",
    "label = labels[1]\n",
    "levels = np.arange(0,105,5)\n",
    "ticks =  np.arange(0,110,20)\n",
    "da_pct_sand_2d.where(landmask).plot(ax=ax, transform=ccrs.PlateCarree(), cmap='YlOrBr', cbar_kwargs={'label': ' %', 'fraction': 0.02, 'pad': 0.04, 'ticks':ticks}, levels=levels)\n",
    "\n",
    "ax.set_title(' ', loc='center')\n",
    "ax.set_title('Weighted sand percentage', loc='right')\n",
    "ax.set_title(label, loc='left')\n",
    "ax.coastlines(color='dimgray', linewidth=0.5)\n",
    "ax.set_extent([-180,180,-63,90], crs=ccrs.PlateCarree())\n",
    "ax.axis('off');\n",
    "\n",
    "\n",
    "# plot pct sand/clay\n",
    "\n",
    "ax = fig.add_subplot(gs[2, :-3],  projection =proj)\n",
    "# clay\n",
    "label = labels[2]\n",
    "levels = np.arange(0,75,5)\n",
    "ticks =  np.arange(0,75,10)\n",
    "\n",
    "da_pct_clay_2d.where(landmask).plot(ax=ax, transform=ccrs.PlateCarree(), cmap='Oranges', cbar_kwargs={'label': ' %', 'fraction': 0.02, 'pad': 0.04, 'ticks':ticks}, levels=levels)\n",
    "ax.set_title(' ', loc='center')\n",
    "ax.set_title('Weighted clay percentage', loc='right')\n",
    "ax.set_title(label, loc='left')\n",
    "ax.coastlines(color='dimgray', linewidth=0.5)\n",
    "ax.set_extent([-180,180,-63,90], crs=ccrs.PlateCarree())\n",
    "ax.axis('off');\n",
    "\n",
    "\n",
    "# plot profiles\n",
    "ax = fig.add_subplot(gs[:, -3:-1])\n",
    "label = labels[3]\n",
    "\n",
    "\n",
    "da_region = da_orgc.mean(dim=('lat','lon'))\n",
    "\n",
    "for scenario in scenarios: \n",
    "\n",
    "    da_orgc_20y_toplot = d_orgc_20y[scenario]\n",
    "    da_region_new =  da_orgc_20y_toplot.mean(dim=('lat','lon'))\n",
    "\n",
    "    ax.plot(da_region_new, levsoi[:10], marker='.', alpha=1, label= d_scenarios_longnames[scenario])\n",
    "\n",
    "ax.plot(da_region, levsoi[:10], marker='.', color='black', label='CTL')\n",
    "\n",
    "#get handles and labels\n",
    "handles, labels_legend = ax.get_legend_handles_labels()\n",
    "\n",
    "#specify order of items in legend\n",
    "order = [3,0,1,2]\n",
    "\n",
    "#add legend to plot\n",
    "plt.legend([handles[idx] for idx in order], [labels_legend[idx] for idx in order], loc='lower right', frameon=False, fontsize=12)\n",
    "\n",
    "\n",
    "xlims = [-0,16]\n",
    "\n",
    "ax.set_ylabel('Soil layer depth (m)'); \n",
    "ax.set_xlabel('Soil organic carbon \\n (gC/kg soil)'); \n",
    "\n",
    "ax.hlines(levsoi_depth, xlims[0],xlims[1], color='grey', alpha=0.2, label='z$_{i,h}$')\n",
    "#ax.hlines(levsoi_depth[7],xlims[0],xlims[1], color='darkgrey', alpha=1)\n",
    "ax.vlines(0, max(levgrnd_depth),0, color='grey', alpha=0.5)\n",
    "\n",
    "ax.set_xlim([xlims[0],xlims[1]])\n",
    "ax.set_yticks(levsoi_depth)\n",
    "\n",
    "ax.set_title('Global mean SOC', loc='right' );\n",
    "ax.set_title(label, loc='left')\n",
    "ax.set_ylim([max(levsoi_depth[:10]),0]); \n",
    "\n",
    "\n",
    "fig.tight_layout()\n",
    "\n",
    "fig.savefig(figdir+'input_som.png', bbox_inches='tight')\n",
    "\n"
   ]
  },
  {
   "cell_type": "code",
   "execution_count": null,
   "id": "2a9887ce-bfdd-4365-96a0-48bcd5280086",
   "metadata": {},
   "outputs": [],
   "source": [
    "\n",
    "plt.figure(figsize=(12,5))\n",
    "ax = plt.subplot(111, projection=proj)\n",
    "cmap='Oranges'\n",
    "\n",
    "\n",
    "label = labels[0]\n",
    "\n",
    "levels = np.arange(0,105,5)\n",
    "da_toplot =  (da_organic.isel(nlevsoi=0) / 130 ) *100\n",
    "da_toplot.where(landmask).plot(ax=ax, transform=ccrs.PlateCarree(), levels=levels, cmap=cmap,  cbar_kwargs={'label': '% SOC', 'fraction': 0.02, 'pad': 0.04})\n",
    "ax.set_title(' ', loc='center')\n",
    "ax.set_title('Fraction of soil organic matter in upper 30 cm' , loc='right');\n",
    "ax.coastlines(color='dimgray', linewidth=0.5)\n",
    "ax.set_title(label, loc='left')\n",
    "ax.set_extent([-180,180,-63,90], crs=ccrs.PlateCarree())\n",
    "ax.axis('off')\n",
    "\n"
   ]
  },
  {
   "cell_type": "code",
   "execution_count": null,
   "id": "709bf462-220b-4440-9ef5-a987dcddb855",
   "metadata": {},
   "outputs": [],
   "source": [
    "fig, axes = plt.subplots(2,1,figsize=(12,7),subplot_kw={'projection': proj, 'frameon':False})\n",
    "\n",
    "ax = axes[0]\n",
    "da_increase_toplot =  da_pct_crop\n",
    "label = labels[0]\n",
    "\n",
    "# limiting values for plotting are given    \n",
    "levels = np.concatenate([np.array([0,1]),(np.arange(10,110,10))])\n",
    "ticks = np.concatenate([np.array([0,1]),(np.arange(10,110,20))])\n",
    "\n",
    "da_increase_toplot.where(landmask).plot(ax=ax, transform=ccrs.PlateCarree(), cmap='gist_earth_r', cbar_kwargs={'label': ' %', 'fraction': 0.02, 'pad': 0.04, 'ticks':levels}, levels=levels)\n",
    "gdf_gridcells.plot(ax=ax, color='lightseagreen')\n",
    "\n",
    "ax.set_title(' ', loc='center')\n",
    "ax.set_title('Crop fraction of grid cell', loc='right')\n",
    "ax.coastlines(color='dimgray', linewidth=0.5)\n",
    "ax.set_title(label, loc='left')\n",
    "\n",
    "# exclude Antactica from plot\n",
    "ax.set_extent([-180,180,-63,90], crs=ccrs.PlateCarree())\n",
    "\n",
    "ax = axes[1]\n",
    "label = labels[1]\n",
    "\n",
    "da_increase_toplot =  da_pct_grass\n",
    "# limiting values for plotting are given    \n",
    "levels = np.concatenate([np.array([0,1]),(np.arange(10,110,10))])\n",
    "ticks = np.concatenate([np.array([0,1]),(np.arange(10,110,10))])\n",
    "da_increase_toplot.where(landmask).plot(ax=ax, transform=ccrs.PlateCarree(), cmap='gist_earth_r', cbar_kwargs={'label': ' %', 'fraction': 0.02, 'pad': 0.04, 'ticks':levels}, levels=levels)\n",
    "ax.set_title(' ', loc='center')\n",
    "ax.set_title('Grassland fraction of grid cell', loc='right')\n",
    "ax.coastlines(color='dimgray', linewidth=0.5)\n",
    "ax.set_title(label, loc='left')\n",
    "\n",
    "# exclude Antactica from plot\n",
    "ax.set_extent([-180,180,-63,90], crs=ccrs.PlateCarree())\n",
    "\n",
    "fig.tight_layout()\n",
    "\n",
    "fig.savefig(figdir+'crop_grassland_fraction.png', bbox_inches='tight')\n",
    "\n"
   ]
  },
  {
   "cell_type": "markdown",
   "id": "617d4db8-051c-40b2-8d19-1d82da0b6c38",
   "metadata": {},
   "source": [
    "## Plot textures"
   ]
  },
  {
   "cell_type": "code",
   "execution_count": null,
   "id": "f11290e8-8b20-47a2-bc6d-150e625abfc3",
   "metadata": {
    "tags": []
   },
   "outputs": [],
   "source": [
    "fig, axes = plt.subplots(2,1,figsize=(12,7),subplot_kw={'projection':proj, 'frameon':False})\n",
    "labels = ['a.','b.','c.']\n",
    "\n",
    "da_pct_sand_2d = da_pct_sand.weighted(da_pct_sand.nlevsoi).mean('nlevsoi')\n",
    "da_pct_clay_2d = da_pct_clay.weighted(da_pct_clay.nlevsoi).mean('nlevsoi')\n",
    "\n",
    "# sand\n",
    "ax = axes[0]\n",
    "label = labels[0]\n",
    "levels = np.arange(0,105,5)\n",
    "ticks =  np.arange(0,110,20)\n",
    "da_pct_sand_2d.where(landmask).plot(ax=ax, transform=ccrs.PlateCarree(), cmap='YlOrBr', cbar_kwargs={'label': ' %', 'fraction': 0.02, 'pad': 0.04, 'ticks':ticks}, levels=levels)\n",
    "\n",
    "ax.set_title(' ', loc='center')\n",
    "ax.set_title('Weighted sand percentage', loc='right')\n",
    "ax.set_title(label, loc='left')\n",
    "ax.coastlines(color='dimgray', linewidth=0.5)\n",
    "ax.set_extent([-180,180,-63,90], crs=ccrs.PlateCarree())\n",
    "ax.axis('off');\n",
    "\n",
    "\n",
    "# clay\n",
    "ax = axes[1]\n",
    "label = labels[1]\n",
    "levels = np.arange(0,75,5)\n",
    "ticks =  np.arange(0,75,10)\n",
    "\n",
    "da_pct_clay_2d.where(landmask).plot(ax=ax, transform=ccrs.PlateCarree(), cmap='Oranges', cbar_kwargs={'label': ' %', 'fraction': 0.02, 'pad': 0.04, 'ticks':ticks}, levels=levels)\n",
    "ax.set_title(' ', loc='center')\n",
    "ax.set_title('Weighted clay percentage', loc='right')\n",
    "ax.set_title(label, loc='left')\n",
    "ax.coastlines(color='dimgray', linewidth=0.5)\n",
    "ax.set_extent([-180,180,-63,90], crs=ccrs.PlateCarree())\n",
    "ax.axis('off');\n",
    "\n",
    "fig.tight_layout()\n",
    "fig.savefig(figdir+'texture_maps.png', bbox_inches='tight')"
   ]
  },
  {
   "cell_type": "markdown",
   "id": "eab4b3e7-3581-4314-9749-e6552c0feb69",
   "metadata": {},
   "source": [
    "## Plot soil depth"
   ]
  },
  {
   "cell_type": "code",
   "execution_count": null,
   "id": "63e34197-347b-4623-b55b-6ad6269a7303",
   "metadata": {},
   "outputs": [],
   "source": [
    "fig, axes = plt.subplots(2,1,figsize=(12,5),subplot_kw={'projection':proj, 'frameon':False})\n",
    "\n",
    "ax = plt.subplot(111, projection=proj)\n",
    "\n",
    "levels = np.arange(0,110,10)\n",
    "da_soildepth.where(landmask).plot(ax=ax, transform=ccrs.PlateCarree(), cmap='gist_earth_r', cbar_kwargs={'label': ' m', 'fraction': 0.02, 'pad': 0.04})\n",
    "ax.set_title(' ', loc='center')\n",
    "ax.set_title('Soil depth', loc='right')\n",
    "ax.coastlines(color='dimgray', linewidth=0.5)\n",
    "ax.set_extent([-180,180,-63,90], crs=ccrs.PlateCarree())\n",
    "ax.axis('off');\n",
    "\n",
    "fig.savefig(figdir+'soil_depth.png', bbox_inches='tight')"
   ]
  },
  {
   "cell_type": "code",
   "execution_count": null,
   "id": "fd8aa53a-8e38-438a-95ad-57dad30d7de2",
   "metadata": {},
   "outputs": [],
   "source": []
  },
  {
   "cell_type": "code",
   "execution_count": null,
   "id": "8ef8efe2-9ebf-4265-b209-58f295970eaa",
   "metadata": {},
   "outputs": [],
   "source": []
  }
 ],
 "metadata": {
  "kernelspec": {
   "display_name": "ctsm_pylib",
   "language": "python",
   "name": "python3"
  },
  "language_info": {
   "codemirror_mode": {
    "name": "ipython",
    "version": 3
   },
   "file_extension": ".py",
   "mimetype": "text/x-python",
   "name": "python",
   "nbconvert_exporter": "python",
   "pygments_lexer": "ipython3",
   "version": "3.7.9"
  }
 },
 "nbformat": 4,
 "nbformat_minor": 5
}
