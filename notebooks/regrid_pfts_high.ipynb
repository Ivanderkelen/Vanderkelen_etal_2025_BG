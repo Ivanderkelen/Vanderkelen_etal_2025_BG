{
 "cells": [
  {
   "cell_type": "markdown",
   "id": "f3f6d60a-7dec-4b09-afbe-da34e5a52748",
   "metadata": {},
   "source": [
    "# Regrid pft output to grids per variable and pft (intermediate postprocessing step) \n",
    "\n",
    "\n",
    "(c) Inne Vanderkelen - October 2023"
   ]
  },
  {
   "cell_type": "markdown",
   "id": "dd324684-5ed2-4909-a7c2-81028e86ea0a",
   "metadata": {},
   "source": [
    "## 1. Settings"
   ]
  },
  {
   "cell_type": "code",
   "execution_count": 1,
   "id": "a8241b7c-f1d2-48a8-bbe8-f7b4404882bb",
   "metadata": {
    "tags": []
   },
   "outputs": [
    {
     "ename": "ImportError",
     "evalue": "libAtpSigHandler.so.1: cannot open shared object file: No such file or directory",
     "output_type": "error",
     "traceback": [
      "\u001b[0;31m---------------------------------------------------------------------------\u001b[0m",
      "\u001b[0;31mImportError\u001b[0m                               Traceback (most recent call last)",
      "Cell \u001b[0;32mIn[1], line 8\u001b[0m\n\u001b[1;32m      5\u001b[0m \u001b[38;5;28;01mimport\u001b[39;00m \u001b[38;5;21;01mregionmask\u001b[39;00m \n\u001b[1;32m      7\u001b[0m \u001b[38;5;66;03m# import own utils module\u001b[39;00m\n\u001b[0;32m----> 8\u001b[0m \u001b[38;5;28;01mfrom\u001b[39;00m \u001b[38;5;21;01miv_utils_daint\u001b[39;00m \u001b[38;5;28;01mimport\u001b[39;00m \u001b[38;5;241m*\u001b[39m\n\u001b[1;32m      9\u001b[0m \u001b[38;5;28;01mfrom\u001b[39;00m \u001b[38;5;21;01mctsm_py\u001b[39;00m\u001b[38;5;21;01m.\u001b[39;00m\u001b[38;5;21;01mutils\u001b[39;00m \u001b[38;5;28;01mimport\u001b[39;00m \u001b[38;5;241m*\u001b[39m \u001b[38;5;66;03m#info on ctsm utils: https://github.com/NCAR/ctsm_python_gllery \u001b[39;00m\n\u001b[1;32m     11\u001b[0m \u001b[38;5;66;03m# do plotting settings\u001b[39;00m\n",
      "File \u001b[0;32m~/notebooks_4p1000/iv_utils_daint.py:13\u001b[0m\n\u001b[1;32m     11\u001b[0m \u001b[38;5;28;01mimport\u001b[39;00m \u001b[38;5;21;01mxarray\u001b[39;00m \u001b[38;5;28;01mas\u001b[39;00m \u001b[38;5;21;01mxr\u001b[39;00m\n\u001b[1;32m     12\u001b[0m \u001b[38;5;28;01mimport\u001b[39;00m \u001b[38;5;21;01mregionmask\u001b[39;00m\n\u001b[0;32m---> 13\u001b[0m \u001b[38;5;28;01mimport\u001b[39;00m \u001b[38;5;21;01mcartopy\u001b[39;00m\u001b[38;5;21;01m.\u001b[39;00m\u001b[38;5;21;01mcrs\u001b[39;00m \u001b[38;5;28;01mas\u001b[39;00m \u001b[38;5;21;01mccrs\u001b[39;00m\n\u001b[1;32m     14\u001b[0m \u001b[38;5;28;01mimport\u001b[39;00m \u001b[38;5;21;01mwarnings\u001b[39;00m\n\u001b[1;32m     15\u001b[0m \u001b[38;5;28;01mimport\u001b[39;00m \u001b[38;5;21;01mnumpy\u001b[39;00m \u001b[38;5;28;01mas\u001b[39;00m \u001b[38;5;21;01mnp\u001b[39;00m\n",
      "File \u001b[0;32m~/env_ctsm_py/env_ctsm_py/lib/python3.10/site-packages/cartopy/__init__.py:107\u001b[0m\n\u001b[1;32m    103\u001b[0m     \u001b[38;5;28;01mpass\u001b[39;00m\n\u001b[1;32m    105\u001b[0m \u001b[38;5;66;03m# Commonly used sub-modules. Imported here to provide end-user\u001b[39;00m\n\u001b[1;32m    106\u001b[0m \u001b[38;5;66;03m# convenience.\u001b[39;00m\n\u001b[0;32m--> 107\u001b[0m \u001b[38;5;28;01mimport\u001b[39;00m \u001b[38;5;21;01mcartopy\u001b[39;00m\u001b[38;5;21;01m.\u001b[39;00m\u001b[38;5;21;01mcrs\u001b[39;00m  \u001b[38;5;66;03m# noqa: E402  module-level imports\u001b[39;00m\n\u001b[1;32m    108\u001b[0m \u001b[38;5;28;01mimport\u001b[39;00m \u001b[38;5;21;01mcartopy\u001b[39;00m\u001b[38;5;21;01m.\u001b[39;00m\u001b[38;5;21;01mfeature\u001b[39;00m  \u001b[38;5;66;03m# noqa: E402,F401  (unused import)\u001b[39;00m\n",
      "File \u001b[0;32m~/env_ctsm_py/env_ctsm_py/lib/python3.10/site-packages/cartopy/crs.py:27\u001b[0m\n\u001b[1;32m     24\u001b[0m \u001b[38;5;28;01mfrom\u001b[39;00m \u001b[38;5;21;01mpyproj\u001b[39;00m\u001b[38;5;21;01m.\u001b[39;00m\u001b[38;5;21;01mexceptions\u001b[39;00m \u001b[38;5;28;01mimport\u001b[39;00m ProjError\n\u001b[1;32m     25\u001b[0m \u001b[38;5;28;01mfrom\u001b[39;00m \u001b[38;5;21;01mshapely\u001b[39;00m\u001b[38;5;21;01m.\u001b[39;00m\u001b[38;5;21;01mprepared\u001b[39;00m \u001b[38;5;28;01mimport\u001b[39;00m prep\n\u001b[0;32m---> 27\u001b[0m \u001b[38;5;28;01mimport\u001b[39;00m \u001b[38;5;21;01mcartopy\u001b[39;00m\u001b[38;5;21;01m.\u001b[39;00m\u001b[38;5;21;01mtrace\u001b[39;00m\n\u001b[1;32m     30\u001b[0m \u001b[38;5;28;01mtry\u001b[39;00m:\n\u001b[1;32m     31\u001b[0m     \u001b[38;5;66;03m# https://github.com/pyproj4/pyproj/pull/912\u001b[39;00m\n\u001b[1;32m     32\u001b[0m     \u001b[38;5;28;01mfrom\u001b[39;00m \u001b[38;5;21;01mpyproj\u001b[39;00m\u001b[38;5;21;01m.\u001b[39;00m\u001b[38;5;21;01mcrs\u001b[39;00m \u001b[38;5;28;01mimport\u001b[39;00m CustomConstructorCRS \u001b[38;5;28;01mas\u001b[39;00m _CRS\n",
      "\u001b[0;31mImportError\u001b[0m: libAtpSigHandler.so.1: cannot open shared object file: No such file or directory"
     ]
    }
   ],
   "source": [
    "# laod modules \n",
    "import xarray as xr\n",
    "import matplotlib.pyplot as plt\n",
    "import os\n",
    "import regionmask \n",
    "\n",
    "# import own utils module\n",
    "from iv_utils_daint import *\n",
    "from ctsm_py.utils import * #info on ctsm utils: https://github.com/NCAR/ctsm_python_gllery \n",
    "\n",
    "# do plotting settings\n",
    "set_plot_param()\n",
    "\n",
    "# ignore all runtime warnings\n",
    "warnings.filterwarnings('ignore')"
   ]
  },
  {
   "cell_type": "code",
   "execution_count": null,
   "id": "560cc133-f801-4353-b511-781544119b51",
   "metadata": {},
   "outputs": [],
   "source": [
    "# directory settings\n",
    "\n",
    "# set directories\n",
    "outdir = '/scratch/snx3000/ivanderk/'\n",
    "\n",
    "# Define directory where processing is done \n",
    "procdir =  outdir + 'processing_4p1000/' \n",
    "\n",
    "# go to processing directory \n",
    "os.chdir(procdir)"
   ]
  },
  {
   "cell_type": "code",
   "execution_count": 3,
   "id": "1d63bc98-2bd6-4fc5-aaa5-38d034aeb96a",
   "metadata": {},
   "outputs": [],
   "source": [
    "# case settings\n",
    "\n",
    "# define scenario\n",
    "scenario = 'high'\n",
    "\n",
    "# case settings\n",
    "case_ctl = 'IHistClm51Sp.hcru_hcru_mt13.pftsoilcol.CTL.spunup2'\n",
    "case_scen = 'IHistClm51Sp.hcru_hcru_mt13.pftsoilcol.'+scenario+'.spunup2'\n",
    "\n",
    "case   = case_ctl\n",
    "block  = 'lnd' \n",
    "stream = 'h1' \n",
    "\n",
    "# List of variables to import from file(s) in $indir matching $pattern.\n",
    "variables = ['H2OSOI',\"TOTSOILLIQ\",\"TOTSOILICE\", \"QINFL\" ,\"SOILLIQ\", \"QOVER\", \"QDRAI\", 'EFLX_LH_TOT',  \"watsat\",\"QROOTSINK\" ,\"QVEGE\", \"QVEGT\",\"QSOIL\",\n",
    "             \"watfc\",  \"SMP\",  \"patches1d_itype_veg\"]           \n",
    "#variables = ['H2OSOI',\"TOTSOILLIQ\",\"TOTSOILICE\", \"SOILLIQ\",  \"watsat\",\"QROOTSINK\" ,\n",
    "            # \"watfc\",  \"SMP\",  \"patches1d_itype_veg\"]     \n",
    "# discard 2004 until 2008 as spin up years\n",
    "start_year, end_year = 1990, 2014 # 2028 \n",
    "\n",
    "time_slice = slice(str(start_year)+\"-01-01\", str(end_year)+\"-12-31\")"
   ]
  },
  {
   "cell_type": "code",
   "execution_count": 4,
   "id": "9e07479f-7250-490b-8fe9-4ce50571d870",
   "metadata": {},
   "outputs": [],
   "source": [
    "# get pfts modelled - bare soil, grassland and crop pfts\n",
    "pft_list = [0,12,13,14,15,16]"
   ]
  },
  {
   "cell_type": "code",
   "execution_count": 5,
   "id": "d8cc3108-b40c-4eb2-901d-d5f4891ca3fc",
   "metadata": {},
   "outputs": [],
   "source": [
    "# calculate saturated fraction\n",
    "def calc_and_safe_saturated_fraction(pft_list, case): \n",
    "    for pft_int in pft_list: \n",
    "\n",
    "        print('processing pft '+str(pft_int))\n",
    "\n",
    "        da_h2soi = load_da_gridded_pft('H2OSOI', pft_int, case).rename('H2OSOI').rename({'ivt_str':'pft'})\n",
    "        da_watsat = load_da_gridded_pft('watsat', pft_int, case)\n",
    "        da_watsat = da_watsat.rename('watsat').rename({'ivt_str':'pft'}).rename({'levgrnd':'levsoi'}).isel(levsoi=range(0,20))\n",
    "\n",
    "        da_satfrac = (da_h2soi/da_watsat).rename('satfrac').assign_attrs({'units':'-','long_name':'saturated fraction'})\n",
    "\n",
    "        del da_watsat, da_h2soi\n",
    "\n",
    "        ds_gridded = xr.Dataset()\n",
    "\n",
    "        ds_gridded['satfrac_'+str(pft_int)] = da_satfrac\n",
    "\n",
    "        ds_gridded.to_netcdf(procdir+'/postprocessing/pft_gridding/'+'satfrac'+'_'+str(pft_int)+'.'+case+'.nc')\n",
    "\n",
    "        del ds_gridded    "
   ]
  },
  {
   "cell_type": "code",
   "execution_count": 6,
   "id": "d7d5ff0d-84e6-4a06-a6c2-b6ebe88ec167",
   "metadata": {},
   "outputs": [],
   "source": [
    "# get pfts modelled - bare soil, grassland and crop pfts\n",
    "pft_list = [15]"
   ]
  },
  {
   "cell_type": "markdown",
   "id": "d363724a-99bd-42ca-b78f-1828435cf082",
   "metadata": {
    "tags": []
   },
   "source": [
    "## Regrid scenario case"
   ]
  },
  {
   "cell_type": "code",
   "execution_count": 12,
   "id": "72f868b7-a0de-416b-b401-c22ff418e46c",
   "metadata": {},
   "outputs": [],
   "source": [
    "variables = [\"H2OSFC\", \"patches1d_itype_veg\"]"
   ]
  },
  {
   "cell_type": "code",
   "execution_count": 8,
   "id": "8eac2693-449b-4eca-80d3-9abda59c3f07",
   "metadata": {
    "tags": []
   },
   "outputs": [
    {
     "ename": "RuntimeError",
     "evalue": "Could not import some variables; either not present or not deriveable: ['H2OSFC']",
     "output_type": "error",
     "traceback": [
      "\u001b[0;31m---------------------------------------------------------------------------\u001b[0m",
      "\u001b[0;31mRuntimeError\u001b[0m                              Traceback (most recent call last)",
      "File \u001b[0;32m<timed exec>:1\u001b[0m\n",
      "File \u001b[0;32m~/notebooks_4p1000/iv_utils_daint.py:84\u001b[0m, in \u001b[0;36mimport_case\u001b[0;34m(case, myVars, myVegtypes, timeSlice, myVars_missing_ok, only_active_patches, rename_lsmlatlon, chunks, alter_lons, stream)\u001b[0m\n\u001b[1;32m     80\u001b[0m filelist \u001b[38;5;241m=\u001b[39m get_filelist(case, stream\u001b[38;5;241m=\u001b[39mstream, block\u001b[38;5;241m=\u001b[39mblock)\n\u001b[1;32m     83\u001b[0m \u001b[38;5;66;03m# import ds (using function from ctsm_py)\u001b[39;00m\n\u001b[0;32m---> 84\u001b[0m ds \u001b[38;5;241m=\u001b[39m \u001b[43mimport_ds\u001b[49m\u001b[43m(\u001b[49m\n\u001b[1;32m     85\u001b[0m \u001b[43m    \u001b[49m\u001b[43mfilelist\u001b[49m\u001b[43m,\u001b[49m\n\u001b[1;32m     86\u001b[0m \u001b[43m    \u001b[49m\u001b[43mmyVars\u001b[49m\u001b[38;5;241;43m=\u001b[39;49m\u001b[43mmyVars\u001b[49m\u001b[43m,\u001b[49m\n\u001b[1;32m     87\u001b[0m \u001b[43m    \u001b[49m\u001b[43mmyVegtypes\u001b[49m\u001b[38;5;241;43m=\u001b[39;49m\u001b[38;5;28;43;01mNone\u001b[39;49;00m\u001b[43m,\u001b[49m\n\u001b[1;32m     88\u001b[0m \u001b[43m    \u001b[49m\u001b[43mtimeSlice\u001b[49m\u001b[38;5;241;43m=\u001b[39;49m\u001b[43mtimeSlice\u001b[49m\u001b[43m,\u001b[49m\n\u001b[1;32m     89\u001b[0m \u001b[43m    \u001b[49m\u001b[43mmyVars_missing_ok\u001b[49m\u001b[38;5;241;43m=\u001b[39;49m\u001b[43m[\u001b[49m\u001b[43m]\u001b[49m\u001b[43m,\u001b[49m\n\u001b[1;32m     90\u001b[0m \u001b[43m    \u001b[49m\u001b[43monly_active_patches\u001b[49m\u001b[38;5;241;43m=\u001b[39;49m\u001b[38;5;28;43;01mFalse\u001b[39;49;00m\u001b[43m,\u001b[49m\n\u001b[1;32m     91\u001b[0m \u001b[43m    \u001b[49m\u001b[43mrename_lsmlatlon\u001b[49m\u001b[38;5;241;43m=\u001b[39;49m\u001b[38;5;28;43;01mFalse\u001b[39;49;00m\u001b[43m,\u001b[49m\n\u001b[1;32m     92\u001b[0m \u001b[43m    \u001b[49m\u001b[43mchunks\u001b[49m\u001b[38;5;241;43m=\u001b[39;49m\u001b[38;5;28;43;01mNone\u001b[39;49;00m\u001b[43m,\u001b[49m\n\u001b[1;32m     93\u001b[0m \u001b[43m\u001b[49m\u001b[43m)\u001b[49m\n\u001b[1;32m     95\u001b[0m \u001b[38;5;28;01mif\u001b[39;00m alter_lons:\n\u001b[1;32m     96\u001b[0m     \u001b[38;5;66;03m# alter lons to span -180 to 180\u001b[39;00m\n\u001b[1;32m     97\u001b[0m     ds \u001b[38;5;241m=\u001b[39m lon_pm2idl(ds, fail_silently\u001b[38;5;241m=\u001b[39m\u001b[38;5;28;01mFalse\u001b[39;00m)\n",
      "File \u001b[0;32m~/env_ctsm_py/ctsm_py/ctsm_py/utils.py:901\u001b[0m, in \u001b[0;36mimport_ds\u001b[0;34m(filelist, myVars, myVegtypes, timeSlice, myVars_missing_ok, only_active_patches, rename_lsmlatlon, chunks)\u001b[0m\n\u001b[1;32m    899\u001b[0m         \u001b[38;5;28mprint\u001b[39m(\u001b[38;5;124mf\u001b[39m\u001b[38;5;124m\"\u001b[39m\u001b[38;5;124mCould not import some variables; either not present or not deriveable: \u001b[39m\u001b[38;5;132;01m{\u001b[39;00mok_missing_vars\u001b[38;5;132;01m}\u001b[39;00m\u001b[38;5;124m\"\u001b[39m)\n\u001b[1;32m    900\u001b[0m     \u001b[38;5;28;01mif\u001b[39;00m bad_missing_vars:\n\u001b[0;32m--> 901\u001b[0m         \u001b[38;5;28;01mraise\u001b[39;00m \u001b[38;5;167;01mRuntimeError\u001b[39;00m(\u001b[38;5;124mf\u001b[39m\u001b[38;5;124m\"\u001b[39m\u001b[38;5;124mCould not import some variables; either not present or not deriveable: \u001b[39m\u001b[38;5;132;01m{\u001b[39;00mbad_missing_vars\u001b[38;5;132;01m}\u001b[39;00m\u001b[38;5;124m\"\u001b[39m)\n\u001b[1;32m    903\u001b[0m \u001b[38;5;28;01mif\u001b[39;00m rename_lsmlatlon:\n\u001b[1;32m    904\u001b[0m     \u001b[38;5;28;01mif\u001b[39;00m \u001b[38;5;124m\"\u001b[39m\u001b[38;5;124mlsmlat\u001b[39m\u001b[38;5;124m\"\u001b[39m \u001b[38;5;129;01min\u001b[39;00m this_ds\u001b[38;5;241m.\u001b[39mdims:\n",
      "\u001b[0;31mRuntimeError\u001b[0m: Could not import some variables; either not present or not deriveable: ['H2OSFC']"
     ]
    }
   ],
   "source": [
    "%%time\n",
    "ds_scen = import_case(case_scen, myVars=variables,  myVegtypes=pft_list, timeSlice=time_slice, stream=stream, alter_lons=False)"
   ]
  },
  {
   "cell_type": "code",
   "execution_count": 9,
   "id": "02d37f14-35de-431a-b9d1-1b9992f62c7f",
   "metadata": {},
   "outputs": [
    {
     "ename": "NameError",
     "evalue": "name 'ds_scen' is not defined",
     "output_type": "error",
     "traceback": [
      "\u001b[0;31m---------------------------------------------------------------------------\u001b[0m",
      "\u001b[0;31mNameError\u001b[0m                                 Traceback (most recent call last)",
      "File \u001b[0;32m<timed eval>:1\u001b[0m\n",
      "\u001b[0;31mNameError\u001b[0m: name 'ds_scen' is not defined"
     ]
    }
   ],
   "source": [
    "%%time\n",
    "grid_multiple_pfts_multiple_vars(ds_scen, variables,  pft_list, case_scen)"
   ]
  },
  {
   "cell_type": "code",
   "execution_count": 18,
   "id": "c328f831-78a5-4662-9f43-e8bdb7ce9cff",
   "metadata": {},
   "outputs": [
    {
     "name": "stdout",
     "output_type": "stream",
     "text": [
      "processing pft 15\n",
      "CPU times: user 3.56 s, sys: 33.7 s, total: 37.2 s\n",
      "Wall time: 1min 12s\n"
     ]
    }
   ],
   "source": [
    "%%time\n",
    "\n",
    "# calculate and safe saturated fraction\n",
    "calc_and_safe_saturated_fraction(pft_list, case_scen)"
   ]
  },
  {
   "cell_type": "code",
   "execution_count": 10,
   "id": "4b3b3c91-ebb3-4863-8e43-92bfc149611e",
   "metadata": {
    "tags": []
   },
   "outputs": [
    {
     "ename": "RuntimeError",
     "evalue": "Could not import some variables; either not present or not deriveable: ['H2OSFC']",
     "output_type": "error",
     "traceback": [
      "\u001b[0;31m---------------------------------------------------------------------------\u001b[0m",
      "\u001b[0;31mRuntimeError\u001b[0m                              Traceback (most recent call last)",
      "File \u001b[0;32m<timed exec>:1\u001b[0m\n",
      "File \u001b[0;32m~/notebooks_4p1000/iv_utils_daint.py:84\u001b[0m, in \u001b[0;36mimport_case\u001b[0;34m(case, myVars, myVegtypes, timeSlice, myVars_missing_ok, only_active_patches, rename_lsmlatlon, chunks, alter_lons, stream)\u001b[0m\n\u001b[1;32m     80\u001b[0m filelist \u001b[38;5;241m=\u001b[39m get_filelist(case, stream\u001b[38;5;241m=\u001b[39mstream, block\u001b[38;5;241m=\u001b[39mblock)\n\u001b[1;32m     83\u001b[0m \u001b[38;5;66;03m# import ds (using function from ctsm_py)\u001b[39;00m\n\u001b[0;32m---> 84\u001b[0m ds \u001b[38;5;241m=\u001b[39m \u001b[43mimport_ds\u001b[49m\u001b[43m(\u001b[49m\n\u001b[1;32m     85\u001b[0m \u001b[43m    \u001b[49m\u001b[43mfilelist\u001b[49m\u001b[43m,\u001b[49m\n\u001b[1;32m     86\u001b[0m \u001b[43m    \u001b[49m\u001b[43mmyVars\u001b[49m\u001b[38;5;241;43m=\u001b[39;49m\u001b[43mmyVars\u001b[49m\u001b[43m,\u001b[49m\n\u001b[1;32m     87\u001b[0m \u001b[43m    \u001b[49m\u001b[43mmyVegtypes\u001b[49m\u001b[38;5;241;43m=\u001b[39;49m\u001b[38;5;28;43;01mNone\u001b[39;49;00m\u001b[43m,\u001b[49m\n\u001b[1;32m     88\u001b[0m \u001b[43m    \u001b[49m\u001b[43mtimeSlice\u001b[49m\u001b[38;5;241;43m=\u001b[39;49m\u001b[43mtimeSlice\u001b[49m\u001b[43m,\u001b[49m\n\u001b[1;32m     89\u001b[0m \u001b[43m    \u001b[49m\u001b[43mmyVars_missing_ok\u001b[49m\u001b[38;5;241;43m=\u001b[39;49m\u001b[43m[\u001b[49m\u001b[43m]\u001b[49m\u001b[43m,\u001b[49m\n\u001b[1;32m     90\u001b[0m \u001b[43m    \u001b[49m\u001b[43monly_active_patches\u001b[49m\u001b[38;5;241;43m=\u001b[39;49m\u001b[38;5;28;43;01mFalse\u001b[39;49;00m\u001b[43m,\u001b[49m\n\u001b[1;32m     91\u001b[0m \u001b[43m    \u001b[49m\u001b[43mrename_lsmlatlon\u001b[49m\u001b[38;5;241;43m=\u001b[39;49m\u001b[38;5;28;43;01mFalse\u001b[39;49;00m\u001b[43m,\u001b[49m\n\u001b[1;32m     92\u001b[0m \u001b[43m    \u001b[49m\u001b[43mchunks\u001b[49m\u001b[38;5;241;43m=\u001b[39;49m\u001b[38;5;28;43;01mNone\u001b[39;49;00m\u001b[43m,\u001b[49m\n\u001b[1;32m     93\u001b[0m \u001b[43m\u001b[49m\u001b[43m)\u001b[49m\n\u001b[1;32m     95\u001b[0m \u001b[38;5;28;01mif\u001b[39;00m alter_lons:\n\u001b[1;32m     96\u001b[0m     \u001b[38;5;66;03m# alter lons to span -180 to 180\u001b[39;00m\n\u001b[1;32m     97\u001b[0m     ds \u001b[38;5;241m=\u001b[39m lon_pm2idl(ds, fail_silently\u001b[38;5;241m=\u001b[39m\u001b[38;5;28;01mFalse\u001b[39;00m)\n",
      "File \u001b[0;32m~/env_ctsm_py/ctsm_py/ctsm_py/utils.py:901\u001b[0m, in \u001b[0;36mimport_ds\u001b[0;34m(filelist, myVars, myVegtypes, timeSlice, myVars_missing_ok, only_active_patches, rename_lsmlatlon, chunks)\u001b[0m\n\u001b[1;32m    899\u001b[0m         \u001b[38;5;28mprint\u001b[39m(\u001b[38;5;124mf\u001b[39m\u001b[38;5;124m\"\u001b[39m\u001b[38;5;124mCould not import some variables; either not present or not deriveable: \u001b[39m\u001b[38;5;132;01m{\u001b[39;00mok_missing_vars\u001b[38;5;132;01m}\u001b[39;00m\u001b[38;5;124m\"\u001b[39m)\n\u001b[1;32m    900\u001b[0m     \u001b[38;5;28;01mif\u001b[39;00m bad_missing_vars:\n\u001b[0;32m--> 901\u001b[0m         \u001b[38;5;28;01mraise\u001b[39;00m \u001b[38;5;167;01mRuntimeError\u001b[39;00m(\u001b[38;5;124mf\u001b[39m\u001b[38;5;124m\"\u001b[39m\u001b[38;5;124mCould not import some variables; either not present or not deriveable: \u001b[39m\u001b[38;5;132;01m{\u001b[39;00mbad_missing_vars\u001b[38;5;132;01m}\u001b[39;00m\u001b[38;5;124m\"\u001b[39m)\n\u001b[1;32m    903\u001b[0m \u001b[38;5;28;01mif\u001b[39;00m rename_lsmlatlon:\n\u001b[1;32m    904\u001b[0m     \u001b[38;5;28;01mif\u001b[39;00m \u001b[38;5;124m\"\u001b[39m\u001b[38;5;124mlsmlat\u001b[39m\u001b[38;5;124m\"\u001b[39m \u001b[38;5;129;01min\u001b[39;00m this_ds\u001b[38;5;241m.\u001b[39mdims:\n",
      "\u001b[0;31mRuntimeError\u001b[0m: Could not import some variables; either not present or not deriveable: ['H2OSFC']"
     ]
    }
   ],
   "source": [
    "%%time\n",
    "ds_ctl = import_case(case_ctl, myVars=variables,  myVegtypes=pft_list, timeSlice=time_slice, stream=stream, alter_lons=False)"
   ]
  },
  {
   "cell_type": "code",
   "execution_count": 11,
   "id": "34b5300a-9ce3-4144-863a-c64b1f9bc39c",
   "metadata": {},
   "outputs": [],
   "source": [
    "variables = [\"SOILLIQ\",  \"watsat\",\"QROOTSINK\" ,\n",
    "             \"watfc\",  \"SMP\",  \"patches1d_itype_veg\"]  "
   ]
  },
  {
   "cell_type": "code",
   "execution_count": 13,
   "id": "3956e43d-bd34-4b8f-b820-c4cb45453f87",
   "metadata": {},
   "outputs": [
    {
     "ename": "NameError",
     "evalue": "name 'ds_ctl' is not defined",
     "output_type": "error",
     "traceback": [
      "\u001b[0;31m---------------------------------------------------------------------------\u001b[0m",
      "\u001b[0;31mNameError\u001b[0m                                 Traceback (most recent call last)",
      "File \u001b[0;32m<timed eval>:1\u001b[0m\n",
      "\u001b[0;31mNameError\u001b[0m: name 'ds_ctl' is not defined"
     ]
    }
   ],
   "source": [
    "%%time\n",
    "grid_multiple_pfts_multiple_vars(ds_ctl, variables,  pft_list, case_ctl)"
   ]
  },
  {
   "cell_type": "markdown",
   "id": "c39474fd-3175-4560-9563-ea3697192493",
   "metadata": {},
   "source": [
    "## calculate and save grassland (combining C3 and C4 grasses) "
   ]
  },
  {
   "cell_type": "code",
   "execution_count": null,
   "id": "3874c4b1-d7d4-4bdd-b1be-5a9921ffe8e4",
   "metadata": {},
   "outputs": [],
   "source": [
    "# input data\n",
    "# define variables to load from input dataset\n",
    "input_variables = ['PFTDATA_MASK','PCT_NAT_PFT']\n",
    "\n",
    "# load inputdata\n",
    "ds_input, ds_input_scen, landmask = load_inputdata(scenario, input_variables, case_ctl)\n",
    "\n",
    "da_pct13 = ds_input['PCT_NAT_PFT'].sel(natpft=13)\n",
    "da_pct14 = ds_input['PCT_NAT_PFT'].sel(natpft=14)\n",
    "\n",
    "\n",
    "weights_pft13 = da_pct13/(da_pct13+da_pct14)\n",
    "weights_pft14 = da_pct14/(da_pct13+da_pct14)\n"
   ]
  },
  {
   "cell_type": "code",
   "execution_count": null,
   "id": "a34f1dd3-3aec-4040-9b68-53949d2d6b8f",
   "metadata": {},
   "outputs": [],
   "source": [
    "# conbine grass PFTs and save into file\n",
    "def combine_c3_c4_grassland_1_pft(case,variables):\n",
    "\n",
    "    pft_list = [13,14]\n",
    "\n",
    "    pft_grassland = 100 # new pft for combined c3 adn c4 grasses. \n",
    "\n",
    "    for variable in variables: \n",
    "        print(variable)\n",
    "        list_da_pft = []\n",
    "\n",
    "        for pft_int in pft_list: \n",
    "\n",
    "            list_da_pft.append(load_da_gridded_pft(variable, pft_int, case).rename(variable))\n",
    "\n",
    "        da_pft13_weighted = (list_da_pft[0].squeeze() * weights_pft13 )\n",
    "        da_pft14_weighted = (list_da_pft[1].squeeze() * weights_pft14 )\n",
    "        ds_weighted = xr.concat([da_pft13_weighted, da_pft14_weighted], dim='natpft')\n",
    "        da_ctl_grassland = ds_weighted.sum(dim='natpft').where(landmask)\n",
    "        ds_gridded = xr.Dataset()\n",
    "\n",
    "        ds_gridded[variable+'_'+str(pft_grassland)] = da_ctl_grassland\n",
    "      \n",
    "        ds_gridded.to_netcdf(procdir+'/postprocessing/pft_gridding/'+variable+'_'+str(pft_grassland)+'.'+case+'.nc')"
   ]
  },
  {
   "cell_type": "code",
   "execution_count": null,
   "id": "ecf38ca8-bd03-452d-bc42-1eefc5d30312",
   "metadata": {},
   "outputs": [],
   "source": [
    "variables = [\"TOTSOILLIQ\", \"QINFL\" , \"QOVER\", \"QDRAI\", 'EFLX_LH_TOT',  \"QVEGE\", \"QVEGT\",\"QSOIL\",\n",
    "              'QIRRIG_FROM_SURFACE',\"TG\", \"TSA\"]"
   ]
  },
  {
   "cell_type": "code",
   "execution_count": null,
   "id": "fdb3a01d-f3e3-491e-b55e-d0d05a52bba8",
   "metadata": {},
   "outputs": [],
   "source": [
    "combine_c3_c4_grassland_1_pft(case_scen,variables)\n"
   ]
  },
  {
   "cell_type": "code",
   "execution_count": null,
   "id": "d8b1c525-1d3a-41f2-be2f-f2f3ce8b4f0b",
   "metadata": {},
   "outputs": [],
   "source": []
  },
  {
   "cell_type": "code",
   "execution_count": null,
   "id": "aea765a9-c0bf-43b6-8e02-1fadbaa28143",
   "metadata": {},
   "outputs": [],
   "source": []
  }
 ],
 "metadata": {
  "kernelspec": {
   "display_name": "env_ctsm_py",
   "language": "python",
   "name": "env_ctsm_py"
  },
  "language_info": {
   "codemirror_mode": {
    "name": "ipython",
    "version": 3
   },
   "file_extension": ".py",
   "mimetype": "text/x-python",
   "name": "python",
   "nbconvert_exporter": "python",
   "pygments_lexer": "ipython3",
   "version": "3.10.10"
  }
 },
 "nbformat": 4,
 "nbformat_minor": 5
}
