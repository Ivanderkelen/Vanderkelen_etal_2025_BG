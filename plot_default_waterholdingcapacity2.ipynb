{
 "cells": [
  {
   "cell_type": "markdown",
   "id": "f3f6d60a-7dec-4b09-afbe-da34e5a52748",
   "metadata": {},
   "source": [
    "# Investigate default simulations for wilting point, field capacity and saturated soil moisture content\n",
    "\n",
    "Inne Vanderkelen - October 2023"
   ]
  },
  {
   "cell_type": "markdown",
   "id": "dd324684-5ed2-4909-a7c2-81028e86ea0a",
   "metadata": {},
   "source": [
    "## 1. Settings"
   ]
  },
  {
   "cell_type": "code",
   "execution_count": 1,
   "id": "a8241b7c-f1d2-48a8-bbe8-f7b4404882bb",
   "metadata": {
    "tags": []
   },
   "outputs": [
    {
     "ename": "ImportError",
     "evalue": "libgeos_c.so.1: cannot open shared object file: No such file or directory",
     "output_type": "error",
     "traceback": [
      "\u001b[0;31m---------------------------------------------------------------------------\u001b[0m",
      "\u001b[0;31mImportError\u001b[0m                               Traceback (most recent call last)",
      "Cell \u001b[0;32mIn[1], line 9\u001b[0m\n\u001b[1;32m      6\u001b[0m \u001b[38;5;28;01mimport\u001b[39;00m \u001b[38;5;21;01mregionmask\u001b[39;00m \n\u001b[1;32m      8\u001b[0m \u001b[38;5;66;03m# import own utils module\u001b[39;00m\n\u001b[0;32m----> 9\u001b[0m \u001b[38;5;28;01mfrom\u001b[39;00m \u001b[38;5;21;01miv_utils_daint\u001b[39;00m \u001b[38;5;28;01mimport\u001b[39;00m \u001b[38;5;241m*\u001b[39m\n\u001b[1;32m     10\u001b[0m \u001b[38;5;28;01mfrom\u001b[39;00m \u001b[38;5;21;01mctsm_py\u001b[39;00m\u001b[38;5;21;01m.\u001b[39;00m\u001b[38;5;21;01mutils\u001b[39;00m \u001b[38;5;28;01mimport\u001b[39;00m \u001b[38;5;241m*\u001b[39m \u001b[38;5;66;03m#info on ctsm utils: https://github .com/NCAR/ctsm_python_gallery \u001b[39;00m\n\u001b[1;32m     12\u001b[0m \u001b[38;5;66;03m# do plotting settings\u001b[39;00m\n",
      "File \u001b[0;32m~/notebooks_4p1000/iv_utils_daint.py:13\u001b[0m\n\u001b[1;32m     11\u001b[0m \u001b[38;5;28;01mimport\u001b[39;00m \u001b[38;5;21;01mxarray\u001b[39;00m \u001b[38;5;28;01mas\u001b[39;00m \u001b[38;5;21;01mxr\u001b[39;00m\n\u001b[1;32m     12\u001b[0m \u001b[38;5;28;01mimport\u001b[39;00m \u001b[38;5;21;01mregionmask\u001b[39;00m\n\u001b[0;32m---> 13\u001b[0m \u001b[38;5;28;01mimport\u001b[39;00m \u001b[38;5;21;01mcartopy\u001b[39;00m\u001b[38;5;21;01m.\u001b[39;00m\u001b[38;5;21;01mcrs\u001b[39;00m \u001b[38;5;28;01mas\u001b[39;00m \u001b[38;5;21;01mccrs\u001b[39;00m\n\u001b[1;32m     14\u001b[0m \u001b[38;5;28;01mimport\u001b[39;00m \u001b[38;5;21;01mwarnings\u001b[39;00m\n\u001b[1;32m     15\u001b[0m \u001b[38;5;28;01mimport\u001b[39;00m \u001b[38;5;21;01mnumpy\u001b[39;00m \u001b[38;5;28;01mas\u001b[39;00m \u001b[38;5;21;01mnp\u001b[39;00m\n",
      "File \u001b[0;32m~/env_ctsm_py/env_ctsm_py/lib/python3.10/site-packages/cartopy/__init__.py:107\u001b[0m\n\u001b[1;32m    103\u001b[0m     \u001b[38;5;28;01mpass\u001b[39;00m\n\u001b[1;32m    105\u001b[0m \u001b[38;5;66;03m# Commonly used sub-modules. Imported here to provide end-user\u001b[39;00m\n\u001b[1;32m    106\u001b[0m \u001b[38;5;66;03m# convenience.\u001b[39;00m\n\u001b[0;32m--> 107\u001b[0m \u001b[38;5;28;01mimport\u001b[39;00m \u001b[38;5;21;01mcartopy\u001b[39;00m\u001b[38;5;21;01m.\u001b[39;00m\u001b[38;5;21;01mcrs\u001b[39;00m  \u001b[38;5;66;03m# noqa: E402  module-level imports\u001b[39;00m\n\u001b[1;32m    108\u001b[0m \u001b[38;5;28;01mimport\u001b[39;00m \u001b[38;5;21;01mcartopy\u001b[39;00m\u001b[38;5;21;01m.\u001b[39;00m\u001b[38;5;21;01mfeature\u001b[39;00m  \u001b[38;5;66;03m# noqa: E402,F401  (unused import)\u001b[39;00m\n",
      "File \u001b[0;32m~/env_ctsm_py/env_ctsm_py/lib/python3.10/site-packages/cartopy/crs.py:27\u001b[0m\n\u001b[1;32m     24\u001b[0m \u001b[38;5;28;01mfrom\u001b[39;00m \u001b[38;5;21;01mpyproj\u001b[39;00m\u001b[38;5;21;01m.\u001b[39;00m\u001b[38;5;21;01mexceptions\u001b[39;00m \u001b[38;5;28;01mimport\u001b[39;00m ProjError\n\u001b[1;32m     25\u001b[0m \u001b[38;5;28;01mfrom\u001b[39;00m \u001b[38;5;21;01mshapely\u001b[39;00m\u001b[38;5;21;01m.\u001b[39;00m\u001b[38;5;21;01mprepared\u001b[39;00m \u001b[38;5;28;01mimport\u001b[39;00m prep\n\u001b[0;32m---> 27\u001b[0m \u001b[38;5;28;01mimport\u001b[39;00m \u001b[38;5;21;01mcartopy\u001b[39;00m\u001b[38;5;21;01m.\u001b[39;00m\u001b[38;5;21;01mtrace\u001b[39;00m\n\u001b[1;32m     30\u001b[0m \u001b[38;5;28;01mtry\u001b[39;00m:\n\u001b[1;32m     31\u001b[0m     \u001b[38;5;66;03m# https://github.com/pyproj4/pyproj/pull/912\u001b[39;00m\n\u001b[1;32m     32\u001b[0m     \u001b[38;5;28;01mfrom\u001b[39;00m \u001b[38;5;21;01mpyproj\u001b[39;00m\u001b[38;5;21;01m.\u001b[39;00m\u001b[38;5;21;01mcrs\u001b[39;00m \u001b[38;5;28;01mimport\u001b[39;00m CustomConstructorCRS \u001b[38;5;28;01mas\u001b[39;00m _CRS\n",
      "\u001b[0;31mImportError\u001b[0m: libgeos_c.so.1: cannot open shared object file: No such file or directory"
     ]
    }
   ],
   "source": [
    "# laod modules \n",
    "import xarray as xr\n",
    "import pandas as pd\n",
    "import matplotlib.pyplot as plt\n",
    "import os\n",
    "import regionmask \n",
    "\n",
    "# import own utils module\n",
    "from iv_utils_daint import *\n",
    "from ctsm_py.utils import * #info on ctsm utils: https://github .com/NCAR/ctsm_python_gallery \n",
    "\n",
    "# do plotting settings\n",
    "set_plot_param()\n",
    "\n",
    "# ignore all runtime warnings\n",
    "warnings.filterwarnings('ignore')"
   ]
  },
  {
   "cell_type": "code",
   "execution_count": null,
   "id": "280607c1-abf2-4197-8756-956af8c33bf2",
   "metadata": {},
   "outputs": [],
   "source": []
  },
  {
   "cell_type": "code",
   "execution_count": null,
   "id": "0bc3391b-23c3-4276-81f1-2328c010aeb4",
   "metadata": {},
   "outputs": [],
   "source": []
  },
  {
   "cell_type": "code",
   "execution_count": null,
   "id": "83353f17-5305-45ab-9cf5-a469ecde41c4",
   "metadata": {},
   "outputs": [],
   "source": []
  },
  {
   "cell_type": "markdown",
   "id": "146739a8-4fb5-44d3-b672-1a028c6ffd1f",
   "metadata": {},
   "source": [
    "## actual notebook"
   ]
  },
  {
   "cell_type": "code",
   "execution_count": null,
   "id": "560cc133-f801-4353-b511-781544119b51",
   "metadata": {},
   "outputs": [],
   "source": [
    "# directory settings\n",
    "\n",
    "# set directories\n",
    "outdir = '/scratch/snx3000/ivanderk/'\n",
    "outdir = '/project/s1207/ivanderk/scratch/'\n",
    "\n",
    "figdir = '/users/ivanderk/notebooks_4p1000/figures/'\n",
    "\n",
    "# Define directory where processing is done \n",
    "procdir =  outdir + 'processing_4p1000/' \n",
    "\n",
    "# go to processing directory \n",
    "os.chdir(procdir)"
   ]
  },
  {
   "cell_type": "code",
   "execution_count": null,
   "id": "1d63bc98-2bd6-4fc5-aaa5-38d034aeb96a",
   "metadata": {},
   "outputs": [],
   "source": [
    "# case settings\n",
    "\n",
    "# define scenario\n",
    "scenario = 'high'\n",
    "\n",
    "# case settings\n",
    "case_ctl = 'IHistClm51Sp.hcru_hcru_mt13.CTL.spunup' # this case is running. \n",
    "case_scen = 'IHistClm51Sp.hcru_hcru_mt13.'+scenario+'.spunup'\n",
    "# case settings\n",
    "case_ctl = 'IHistClm51Sp.hcru_hcru_mt13.pftsoilcol.CTL.spunup5'\n",
    "case_scen = 'IHistClm51Sp.hcru_hcru_mt13.pftsoilcol.'+scenario+'.spunup5'\n",
    "\n",
    "\n",
    "case   = case_ctl\n",
    "block  = 'lnd' \n",
    "stream = 'h0' \n",
    "\n",
    "# List of variables to import from file(s) in $indir matching $pattern.\n",
    "variables = [\"H2OSOI\", \"watsat\", \"watfc\"]\n",
    "\n",
    "# discard 2004 until 2008 as spin up years\n",
    "start_year, end_year = 1995, 2014 # 2028 \n",
    "\n",
    "time_slice = slice(str(start_year)+\"-01-01\", str(end_year)+\"-12-01\")\n",
    "\n",
    "proj =  ccrs.Robinson()\n"
   ]
  },
  {
   "cell_type": "markdown",
   "id": "a09e2dbf-11d9-4585-81f8-53aac575e787",
   "metadata": {},
   "source": [
    "## 2. Load data"
   ]
  },
  {
   "cell_type": "markdown",
   "id": "ffb33fa3-1b7b-413e-aa89-c751a466eba2",
   "metadata": {
    "tags": []
   },
   "source": [
    "### Load simulations"
   ]
  },
  {
   "cell_type": "code",
   "execution_count": null,
   "id": "65dd614f-6e5e-4b7d-9df7-3b1ffe05c468",
   "metadata": {
    "tags": []
   },
   "outputs": [],
   "source": [
    "ds_ctl = import_case(case_ctl, myVars=variables, timeSlice=time_slice)"
   ]
  },
  {
   "cell_type": "code",
   "execution_count": null,
   "id": "7d1034b3-90d1-404f-bbd4-950dc37ec640",
   "metadata": {},
   "outputs": [],
   "source": [
    "ds_scen = import_case(case_scen, myVars=variables, timeSlice=time_slice)"
   ]
  },
  {
   "cell_type": "code",
   "execution_count": 6,
   "id": "e18ee67e-bedf-4db9-ac2f-de922da3cbb4",
   "metadata": {},
   "outputs": [],
   "source": [
    "ds_delta = ds_scen - ds_ctl "
   ]
  },
  {
   "cell_type": "markdown",
   "id": "234df953-f9f6-4a8c-b3c3-7c627127a851",
   "metadata": {},
   "source": [
    "### Load auxiliary data (soil levels, input dataset, wilting point etc) "
   ]
  },
  {
   "cell_type": "code",
   "execution_count": null,
   "id": "40abf553-ccd6-47ab-9de1-a8a7230a8af5",
   "metadata": {},
   "outputs": [],
   "source": [
    "# info on soil levels\n",
    "# manually get soil level info from CLM\n",
    "levsoi_thickness, levsoi_depth, levgrnd_thickness , levgrnd_depth = get_soildepths()\n",
    "\n",
    "# get info on soil levels\n",
    "levsoi = ds_ctl['levsoi'].values\n",
    "levgrnd = ds_ctl['levgrnd'].values # all soil layers (deepest 5 layers are for thermodynamical calculations)"
   ]
  },
  {
   "cell_type": "code",
   "execution_count": null,
   "id": "fdb3d9fe-3a40-4c76-a7df-63de21f53c1d",
   "metadata": {},
   "outputs": [],
   "source": [
    "# input data\n",
    "# define variables to load from input dataset\n",
    "input_variables = ['ORGANIC','PFTDATA_MASK','PCT_SAND','PCT_CLAY']\n",
    "case_ctl_forinputdata = 'IHistClm51Sp.hcru_hcru_mt13.pftsoilcol.CTL.spunup2'\n",
    "\n",
    "# load inputdata\n",
    "ds_input, ds_input_scen, landmask = load_inputdata(scenario, input_variables, case_ctl_forinputdata)"
   ]
  },
  {
   "cell_type": "code",
   "execution_count": null,
   "id": "0d491c5a-4348-4bb9-aa8f-a549992d6b91",
   "metadata": {},
   "outputs": [],
   "source": [
    "# wilting point\n",
    "# load precalculated wilting point datasets\n",
    "da_wilting_h2osoi, da_wilting_h2osoi_scen = load_wilting_h2osoi(scenario) "
   ]
  },
  {
   "cell_type": "markdown",
   "id": "f96d614a-db99-40a8-b9f8-4b4e28b9656b",
   "metadata": {},
   "source": [
    "### Plotting settings"
   ]
  },
  {
   "cell_type": "code",
   "execution_count": null,
   "id": "4dc2cfab-63ca-4540-b287-9910ea64e95c",
   "metadata": {},
   "outputs": [],
   "source": [
    "## settings\n",
    "\n",
    "# get mask and region ids\n",
    "exclude_ids = np.array([0,1,2,16,28,29,30,31])\n",
    "mask_regions = regionmask.defined_regions.ar6.land.mask(ds_ctl['H2OSOI'])\n",
    "\n",
    "region_ids = np.arange(0,44)\n",
    "region_ids = np.delete(region_ids, exclude_ids)\n",
    "\n",
    "plotting_depth = 2 # m 8\n",
    "figsize = (17,38)\n",
    "labels = ['a.','b.','c.','d.','e.','f.','g.']"
   ]
  },
  {
   "cell_type": "markdown",
   "id": "e648b165-1bdb-493c-9131-67b495ec282c",
   "metadata": {},
   "source": [
    "## 3. Analysis & plotting"
   ]
  },
  {
   "cell_type": "code",
   "execution_count": null,
   "id": "1278824e-9160-4869-89b7-af17c95af4c6",
   "metadata": {},
   "outputs": [],
   "source": [
    "# calculate difference in water holding capacity. \n",
    "\n",
    "# delta field capacity\n",
    "da_fc_ctl =  ds_ctl['watfc'][:,0:10,:,:].rename({'levgrnd':'levsoi'})\n",
    "da_fc_scen =  ds_scen['watfc'][:,0:10,:,:].rename({'levgrnd':'levsoi'})\n",
    "\n",
    "da_fc_ctl['levsoi'] = da_wilting_h2osoi_scen['levsoi']\n",
    "da_fc_scen['levsoi'] = da_wilting_h2osoi_scen['levsoi']\n",
    "\n",
    "da_whc_ctl =  (da_fc_ctl - da_wilting_h2osoi)\n",
    "da_whc_scen = (da_fc_scen  - da_wilting_h2osoi_scen)\n",
    "\n",
    "# delta wilting point\n",
    "da_delta_whc =  da_whc_scen - da_whc_ctl\n",
    "da_delta_whc_rel = (da_delta_whc/abs(da_whc_ctl)*100).weighted(da_delta_whc['levsoi']).mean(dim='levsoi').mean('time').compute()\n"
   ]
  },
  {
   "cell_type": "code",
   "execution_count": null,
   "id": "154597ba-523a-474e-aff6-6c519876f83b",
   "metadata": {},
   "outputs": [],
   "source": [
    "# calculate saturated fraction\n",
    "da_h2o_ctl  =  ds_ctl['H2OSOI'][:,0:10,:,:]\n",
    "da_h2o_scen =  ds_scen['H2OSOI'][:,0:10,:,:]\n",
    "\n",
    "da_delta_h2o = da_h2o_scen - da_h2o_ctl\n",
    "da_delta_h2o_rel =  ((da_delta_h2o / abs(da_h2o_ctl)).weighted(da_delta_h2o['levsoi']).mean(dim='levsoi').mean('time')*100).compute()\n",
    "\n",
    "# water content at saturation\n",
    "da_sat_ctl =  ds_ctl['watsat'][:,0:10,:,:].rename({'levgrnd':'levsoi'})\n",
    "da_sat_scen =  ds_scen['watsat'][:,0:10,:,:].rename({'levgrnd':'levsoi'})\n",
    "\n",
    "da_satfrac_ctl = da_h2o_ctl/da_sat_ctl\n",
    "da_satfrac_scen = da_h2o_scen/da_sat_scen\n",
    "\n",
    "da_delta_satfrac =  (da_satfrac_scen - da_satfrac_ctl)\n",
    "da_delta_satfrac_rel =  ((da_delta_satfrac / abs(da_satfrac_ctl)).weighted(da_delta_satfrac['levsoi']).mean(dim='levsoi').mean('time')*100).compute()"
   ]
  },
  {
   "cell_type": "code",
   "execution_count": null,
   "id": "1aa9f3d9-fa07-488f-8959-c65e91343ef0",
   "metadata": {},
   "outputs": [],
   "source": [
    "da_delta_sat = da_sat_scen - da_sat_ctl \n",
    "da_delta_sat_rel =  ((da_delta_sat / abs(da_sat_ctl)).weighted(da_delta_sat['levsoi']).mean(dim='levsoi').mean('time')*100).compute()"
   ]
  },
  {
   "cell_type": "code",
   "execution_count": null,
   "id": "6afd9f4e-a562-4137-9284-51fed0316636",
   "metadata": {},
   "outputs": [],
   "source": [
    "da_whcsat_ctl =  (da_sat_ctl - da_wilting_h2osoi)\n",
    "da_sat_scen['lat'] = da_wilting_h2osoi_scen.lat\n",
    "da_wilting_h2osoi_scen['levsoi'] = da_sat_ctl.levsoi\n",
    "\n",
    "da_whcsat_scen = (da_sat_scen.compute() - da_wilting_h2osoi_scen)\n",
    "\n",
    "da_delta_whcsat =  da_whcsat_scen - da_whcsat_ctl\n",
    "da_delta_whcsat = da_delta_whcsat.weighted(da_delta_whcsat['levsoi']).mean(dim='levsoi')\n",
    "da_whcsat_ctl= da_whcsat_ctl.weighted(da_whcsat_ctl['levsoi']).mean(dim='levsoi')"
   ]
  },
  {
   "cell_type": "code",
   "execution_count": null,
   "id": "d47281f8-2dd3-4b57-b741-6f9e007d649f",
   "metadata": {},
   "outputs": [],
   "source": [
    "vlims=[-10,10]\n",
    "\n",
    "#fig, axes = plt.subplots(3,1,figsize=(12,12),subplot_kw={'projection': proj, 'frameon':False})\n",
    "\n",
    "fig, axes = plt.subplots(3,1, figsize = (7,9) ,subplot_kw={'projection': proj, 'frameon':False})\n",
    "axes = axes.flatten()\n",
    "\n",
    "# delta water content\n",
    "ax = axes[0]\n",
    "label = labels[0]\n",
    "da_toplot = da_delta_whc_rel\n",
    "title = '$\\Delta$ Water holding capacity ($\\Theta_{fc} - \\Theta_{wp}$)'\n",
    "levels = np.arange(-20,22.5,2.5)\n",
    "\n",
    "da_toplot.plot(ax=ax, transform=ccrs.PlateCarree(), cmap='BrBG', extend='both',  levels=levels,  cbar_kwargs={'label':' %', 'fraction': 0.02, 'pad': 0.04}, add_labels=False)\n",
    "ax.set_title(title, loc='right')\n",
    "ax.set_title(label, loc='left')\n",
    "ax.coastlines(color='dimgray', linewidth=0.5)\n",
    "ax.set_extent([-180,180,-63,90], crs=ccrs.PlateCarree())\n",
    "ax.axis('off')\n",
    "\n",
    "\n",
    "# delta saturated water content\n",
    "ax = axes[1]\n",
    "label = labels[1]\n",
    "da_toplot = da_delta_satfrac_rel\n",
    "title = '$\\Delta$ Saturated fraction $\\Theta_{s}$ '\n",
    "levels = np.arange(-1,1.1,0.1)\n",
    "\n",
    "da_toplot.plot(ax=ax, transform=ccrs.PlateCarree(), cmap='BrBG', extend='both',  levels=levels,  cbar_kwargs={'label':' %', 'fraction': 0.02, 'pad': 0.04}, add_labels=False)\n",
    "ax.set_title(title, loc='right')\n",
    "ax.set_title(label, loc='left')\n",
    "ax.coastlines(color='dimgray', linewidth=0.5)\n",
    "ax.set_extent([-180,180,-63,90], crs=ccrs.PlateCarree())\n",
    "ax.axis('off')\n",
    "\n",
    "\n",
    "ax = axes[2]\n",
    "label = labels[2]\n",
    "da_toplot = da_delta_h2o_rel\n",
    "title = '$\\Delta$  Volumetric water content $\\Theta$'\n",
    "levels = np.arange(-1,1.1,0.1)\n",
    "\n",
    "da_toplot.plot(ax=ax, transform=ccrs.PlateCarree(), cmap='BrBG', extend='both',  levels=levels,  cbar_kwargs={'label':' %', 'fraction': 0.02, 'pad': 0.04}, add_labels=False)\n",
    "ax.set_title(title, loc='right')\n",
    "ax.set_title(label, loc='left')\n",
    "\n",
    "ax.coastlines(color='dimgray', linewidth=0.5)\n",
    "ax.set_extent([-180,180,-63,90], crs=ccrs.PlateCarree())\n",
    "ax.axis('off')\n",
    "\n",
    "\n",
    "fig.tight_layout()\n",
    "fig.savefig(figdir+'waterholdingcapacity.png')"
   ]
  },
  {
   "cell_type": "code",
   "execution_count": null,
   "id": "aa9f3f65-2423-4b77-be87-3803f99cf18b",
   "metadata": {},
   "outputs": [],
   "source": []
  },
  {
   "cell_type": "code",
   "execution_count": null,
   "id": "b1ef53ba-0b90-4cb1-9efb-16455c5179fe",
   "metadata": {},
   "outputs": [],
   "source": []
  }
 ],
 "metadata": {
  "kernelspec": {
   "display_name": "env_ctsm_py",
   "language": "python",
   "name": "env_ctsm_py"
  },
  "language_info": {
   "codemirror_mode": {
    "name": "ipython",
    "version": 3
   },
   "file_extension": ".py",
   "mimetype": "text/x-python",
   "name": "python",
   "nbconvert_exporter": "python",
   "pygments_lexer": "ipython3",
   "version": "3.10.10"
  }
 },
 "nbformat": 4,
 "nbformat_minor": 5
}
