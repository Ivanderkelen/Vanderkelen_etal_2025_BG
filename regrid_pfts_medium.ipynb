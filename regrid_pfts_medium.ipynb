{
 "cells": [
  {
   "cell_type": "markdown",
   "id": "f3f6d60a-7dec-4b09-afbe-da34e5a52748",
   "metadata": {},
   "source": [
    "# Regrid pft output to grids per variable and pft (intermediate postprocessing step) \n",
    "\n",
    "\n",
    "(c) Inne Vanderkelen - October 2023"
   ]
  },
  {
   "cell_type": "markdown",
   "id": "dd324684-5ed2-4909-a7c2-81028e86ea0a",
   "metadata": {},
   "source": [
    "## 1. Settings"
   ]
  },
  {
   "cell_type": "code",
   "execution_count": 1,
   "id": "a8241b7c-f1d2-48a8-bbe8-f7b4404882bb",
   "metadata": {
    "tags": []
   },
   "outputs": [
    {
     "data": {
      "image/png": "[encoded data removed]",
      "text/plain": [
       "<Figure size 640x480 with 1 Axes>"
      ]
     },
     "metadata": {},
     "output_type": "display_data"
    }
   ],
   "source": [
    "# laod modules \n",
    "import xarray as xr\n",
    "import matplotlib.pyplot as plt\n",
    "import os\n",
    "import regionmask \n",
    "\n",
    "# import own utils module\n",
    "from iv_utils_daint import *\n",
    "from ctsm_py.utils import * #info on ctsm utils: https://github.com/NCAR/ctsm_python_gllery \n",
    "\n",
    "# do plotting settings\n",
    "set_plot_param()\n",
    "\n",
    "# ignore all runtime warnings\n",
    "warnings.filterwarnings('ignore')"
   ]
  },
  {
   "cell_type": "code",
   "execution_count": 2,
   "id": "560cc133-f801-4353-b511-781544119b51",
   "metadata": {},
   "outputs": [],
   "source": [
    "# directory settings\n",
    "\n",
    "# set directories\n",
    "outdir = '/scratch/snx3000/ivanderk/'\n",
    "\n",
    "# Define directory where processing is done \n",
    "procdir =  outdir + 'processing_4p1000/' \n",
    "\n",
    "# go to processing directory \n",
    "os.chdir(procdir)"
   ]
  },
  {
   "cell_type": "code",
   "execution_count": 3,
   "id": "1d63bc98-2bd6-4fc5-aaa5-38d034aeb96a",
   "metadata": {},
   "outputs": [],
   "source": [
    "# case settings\n",
    "\n",
    "# define scenario\n",
    "scenario = 'medium'\n",
    "\n",
    "# case settings\n",
    "case_ctl = 'IHistClm51Sp.hcru_hcru_mt13.pftsoilcol.CTL.spunup2'\n",
    "case_scen = 'IHistClm51Sp.hcru_hcru_mt13.pftsoilcol.'+scenario+'.spunup2'\n",
    "\n",
    "case   = case_ctl\n",
    "block  = 'lnd' \n",
    "stream = 'h1' \n",
    "\n",
    "# List of variables to import from file(s) in $indir matching $pattern.\n",
    "variables = ['H2OSOI',\"TOTSOILLIQ\",\"TOTSOILICE\", \"QINFL\" ,\"QOVER\", \"QDRAI\", 'EFLX_LH_TOT',  \"watsat\",\"QROOTSINK\" ,\"QVEGE\", \"QVEGT\",\"QSOIL\",\n",
    "             \"watfc\",  \"SMP\",  \"patches1d_itype_veg\"]\n",
    "\n",
    "# discard 2004 until 2008 as spin up years\n",
    "start_year, end_year = 1995, 2014 # 2028 \n",
    "\n",
    "time_slice = slice(str(start_year)+\"-01-01\", str(end_year)+\"-12-31\")"
   ]
  },
  {
   "cell_type": "code",
   "execution_count": 4,
   "id": "9e07479f-7250-490b-8fe9-4ce50571d870",
   "metadata": {},
   "outputs": [],
   "source": [
    "# get pfts modelled - bare soil, grassland and crop pfts\n",
    "pft_list = [0,12,13,14,15,16]"
   ]
  },
  {
   "cell_type": "code",
   "execution_count": 5,
   "id": "d8cc3108-b40c-4eb2-901d-d5f4891ca3fc",
   "metadata": {},
   "outputs": [],
   "source": [
    "# calculate saturated fraction\n",
    "def calc_and_safe_saturated_fraction(pft_list, case): \n",
    "    for pft_int in pft_list: \n",
    "\n",
    "        print('processing pft '+str(pft_int))\n",
    "\n",
    "        da_h2soi = load_da_gridded_pft('H2OSOI', pft_int, case).rename('H2OSOI').rename({'ivt_str':'pft'})\n",
    "        da_watsat = load_da_gridded_pft('watsat', pft_int, case)\n",
    "        da_watsat = da_watsat.rename('watsat').rename({'ivt_str':'pft'}).rename({'levgrnd':'levsoi'}).isel(levsoi=range(0,20))\n",
    "\n",
    "        da_satfrac = (da_h2soi/da_watsat).rename('satfrac').assign_attrs({'units':'-','long_name':'saturated fraction'})\n",
    "\n",
    "        del da_watsat, da_h2soi\n",
    "\n",
    "        ds_gridded = xr.Dataset()\n",
    "\n",
    "        ds_gridded['satfrac_'+str(pft_int)] = da_satfrac\n",
    "\n",
    "        ds_gridded.to_netcdf(procdir+'/postprocessing/pft_gridding/'+'satfrac'+'_'+str(pft_int)+'.'+case+'.nc')\n",
    "\n",
    "        del ds_gridded    "
   ]
  },
  {
   "cell_type": "code",
   "execution_count": 6,
   "id": "29b17024-eabc-475d-af31-5fdc595d0d72",
   "metadata": {},
   "outputs": [],
   "source": [
    "##### get pfts modelled - bare soil, grassland and crop pfts\n",
    "pft_list = [15]"
   ]
  },
  {
   "cell_type": "markdown",
   "id": "d363724a-99bd-42ca-b78f-1828435cf082",
   "metadata": {
    "tags": []
   },
   "source": [
    "## Regrid control case"
   ]
  },
  {
   "cell_type": "code",
   "execution_count": 14,
   "id": "ff9e9de5-5e1e-4b7f-b082-2bf4f21d907a",
   "metadata": {
    "tags": []
   },
   "outputs": [
    {
     "name": "stdout",
     "output_type": "stream",
     "text": [
      "CPU times: user 1min 37s, sys: 27.1 s, total: 2min 4s\n",
      "Wall time: 2min 42s\n"
     ]
    }
   ],
   "source": [
    "%%time\n",
    "ds_ctl = import_case(case_ctl, myVars=variables,  myVegtypes=pft_list, timeSlice=time_slice, stream=stream, alter_lons=False)\n"
   ]
  },
  {
   "cell_type": "code",
   "execution_count": 15,
   "id": "e213e7d9-0416-466f-9070-bdc751e7ab92",
   "metadata": {},
   "outputs": [
    {
     "name": "stdout",
     "output_type": "stream",
     "text": [
      "processing variable H2OSOI\n",
      "processing pft 13\n",
      "processing pft 14\n",
      "processing variable TOTSOILLIQ\n",
      "processing pft 13\n",
      "processing pft 14\n",
      "processing variable TOTSOILICE\n",
      "processing pft 13\n",
      "processing pft 14\n",
      "processing variable QINFL\n",
      "processing pft 13\n",
      "processing pft 14\n",
      "processing variable QOVER\n",
      "processing pft 13\n",
      "processing pft 14\n",
      "processing variable QDRAI\n",
      "processing pft 13\n",
      "processing pft 14\n",
      "processing variable EFLX_LH_TOT\n",
      "processing pft 13\n",
      "processing pft 14\n",
      "processing variable watsat\n",
      "processing pft 13\n",
      "processing pft 14\n",
      "processing variable QROOTSINK\n",
      "processing pft 13\n",
      "processing pft 14\n",
      "processing variable QVEGE\n",
      "processing pft 13\n",
      "processing pft 14\n",
      "processing variable QVEGT\n",
      "processing pft 13\n",
      "processing pft 14\n",
      "processing variable QSOIL\n",
      "processing pft 13\n",
      "processing pft 14\n",
      "processing variable watfc\n",
      "processing pft 13\n",
      "processing pft 14\n",
      "processing variable SMP\n",
      "processing pft 13\n",
      "processing pft 14\n",
      "processing variable patches1d_itype_veg\n",
      "processing pft 13\n",
      "processing pft 14\n",
      "CPU times: user 11min 17s, sys: 7min 41s, total: 18min 59s\n",
      "Wall time: 22min 10s\n"
     ]
    }
   ],
   "source": [
    "%%time\n",
    "grid_multiple_pfts_multiple_vars(ds_ctl, variables,  pft_list, case_ctl)"
   ]
  },
  {
   "cell_type": "code",
   "execution_count": 16,
   "id": "46117046-691c-475a-b8a0-30d2506e8372",
   "metadata": {},
   "outputs": [
    {
     "name": "stdout",
     "output_type": "stream",
     "text": [
      "processing pft 13\n",
      "processing pft 14\n",
      "CPU times: user 7.43 s, sys: 1min 10s, total: 1min 18s\n",
      "Wall time: 2min 22s\n"
     ]
    }
   ],
   "source": [
    "%%time\n",
    "\n",
    "# calculate and safe saturated fraction\n",
    "calc_and_safe_saturated_fraction(pft_list, case_ctl)"
   ]
  },
  {
   "cell_type": "markdown",
   "id": "30b55890-6915-4418-8e79-0d5b04ca2fc1",
   "metadata": {
    "tags": []
   },
   "source": [
    "## Regrid scenario case"
   ]
  },
  {
   "cell_type": "code",
   "execution_count": 10,
   "id": "8eac2693-449b-4eca-80d3-9abda59c3f07",
   "metadata": {
    "tags": []
   },
   "outputs": [
    {
     "name": "stdout",
     "output_type": "stream",
     "text": [
      "CPU times: user 24.6 s, sys: 1.47 s, total: 26.1 s\n",
      "Wall time: 40.2 s\n"
     ]
    }
   ],
   "source": [
    "%%time\n",
    "variables = ['SOILLIQ']\n",
    "ds_scen = import_case(case_scen, myVars=variables,  myVegtypes=pft_list, timeSlice=time_slice, stream=stream, alter_lons=False)"
   ]
  },
  {
   "cell_type": "code",
   "execution_count": 8,
   "id": "02d37f14-35de-431a-b9d1-1b9992f62c7f",
   "metadata": {},
   "outputs": [
    {
     "name": "stdout",
     "output_type": "stream",
     "text": [
      "processing variable H2OSOI\n",
      "processing pft 15\n",
      "/scratch/snx3000/ivanderk/processing_4p1000//postprocessing/pft_gridding/H2OSOI_15.IHistClm51Sp.hcru_hcru_mt13.pftsoilcol.medium.spunup2.nc\n",
      "processing variable TOTSOILLIQ\n",
      "processing pft 15\n",
      "/scratch/snx3000/ivanderk/processing_4p1000//postprocessing/pft_gridding/TOTSOILLIQ_15.IHistClm51Sp.hcru_hcru_mt13.pftsoilcol.medium.spunup2.nc\n",
      "processing variable TOTSOILICE\n",
      "processing pft 15\n",
      "/scratch/snx3000/ivanderk/processing_4p1000//postprocessing/pft_gridding/TOTSOILICE_15.IHistClm51Sp.hcru_hcru_mt13.pftsoilcol.medium.spunup2.nc\n",
      "processing variable QINFL\n",
      "processing pft 15\n",
      "/scratch/snx3000/ivanderk/processing_4p1000//postprocessing/pft_gridding/QINFL_15.IHistClm51Sp.hcru_hcru_mt13.pftsoilcol.medium.spunup2.nc\n",
      "processing variable QOVER\n",
      "processing pft 15\n",
      "/scratch/snx3000/ivanderk/processing_4p1000//postprocessing/pft_gridding/QOVER_15.IHistClm51Sp.hcru_hcru_mt13.pftsoilcol.medium.spunup2.nc\n",
      "processing variable QDRAI\n",
      "processing pft 15\n",
      "/scratch/snx3000/ivanderk/processing_4p1000//postprocessing/pft_gridding/QDRAI_15.IHistClm51Sp.hcru_hcru_mt13.pftsoilcol.medium.spunup2.nc\n",
      "processing variable EFLX_LH_TOT\n",
      "processing pft 15\n",
      "/scratch/snx3000/ivanderk/processing_4p1000//postprocessing/pft_gridding/EFLX_LH_TOT_15.IHistClm51Sp.hcru_hcru_mt13.pftsoilcol.medium.spunup2.nc\n",
      "processing variable watsat\n",
      "processing pft 15\n",
      "/scratch/snx3000/ivanderk/processing_4p1000//postprocessing/pft_gridding/watsat_15.IHistClm51Sp.hcru_hcru_mt13.pftsoilcol.medium.spunup2.nc\n",
      "processing variable QROOTSINK\n",
      "processing pft 15\n",
      "/scratch/snx3000/ivanderk/processing_4p1000//postprocessing/pft_gridding/QROOTSINK_15.IHistClm51Sp.hcru_hcru_mt13.pftsoilcol.medium.spunup2.nc\n",
      "processing variable QVEGE\n",
      "processing pft 15\n",
      "/scratch/snx3000/ivanderk/processing_4p1000//postprocessing/pft_gridding/QVEGE_15.IHistClm51Sp.hcru_hcru_mt13.pftsoilcol.medium.spunup2.nc\n",
      "processing variable QVEGT\n",
      "processing pft 15\n",
      "/scratch/snx3000/ivanderk/processing_4p1000//postprocessing/pft_gridding/QVEGT_15.IHistClm51Sp.hcru_hcru_mt13.pftsoilcol.medium.spunup2.nc\n",
      "processing variable QSOIL\n",
      "processing pft 15\n",
      "/scratch/snx3000/ivanderk/processing_4p1000//postprocessing/pft_gridding/QSOIL_15.IHistClm51Sp.hcru_hcru_mt13.pftsoilcol.medium.spunup2.nc\n",
      "processing variable watfc\n",
      "processing pft 15\n",
      "/scratch/snx3000/ivanderk/processing_4p1000//postprocessing/pft_gridding/watfc_15.IHistClm51Sp.hcru_hcru_mt13.pftsoilcol.medium.spunup2.nc\n",
      "processing variable SMP\n",
      "processing pft 15\n",
      "/scratch/snx3000/ivanderk/processing_4p1000//postprocessing/pft_gridding/SMP_15.IHistClm51Sp.hcru_hcru_mt13.pftsoilcol.medium.spunup2.nc\n",
      "processing variable patches1d_itype_veg\n",
      "processing pft 15\n",
      "/scratch/snx3000/ivanderk/processing_4p1000//postprocessing/pft_gridding/patches1d_itype_veg_15.IHistClm51Sp.hcru_hcru_mt13.pftsoilcol.medium.spunup2.nc\n",
      "CPU times: user 4min 48s, sys: 3min 26s, total: 8min 15s\n",
      "Wall time: 11min 22s\n"
     ]
    }
   ],
   "source": [
    "%%time\n",
    "grid_multiple_pfts_multiple_vars(ds_scen, variables,  pft_list, case_scen)"
   ]
  },
  {
   "cell_type": "code",
   "execution_count": 9,
   "id": "c328f831-78a5-4662-9f43-e8bdb7ce9cff",
   "metadata": {},
   "outputs": [
    {
     "name": "stdout",
     "output_type": "stream",
     "text": [
      "processing pft 15\n",
      "CPU times: user 2.75 s, sys: 26.2 s, total: 28.9 s\n",
      "Wall time: 39.9 s\n"
     ]
    }
   ],
   "source": [
    "%%time\n",
    "\n",
    "# calculate and safe saturated fraction\n",
    "calc_and_safe_saturated_fraction(pft_list, case_scen)"
   ]
  },
  {
   "cell_type": "markdown",
   "id": "c39474fd-3175-4560-9563-ea3697192493",
   "metadata": {},
   "source": [
    "## calculate and save grassland (combining C3 and C4 grasses) "
   ]
  },
  {
   "cell_type": "code",
   "execution_count": 10,
   "id": "3874c4b1-d7d4-4bdd-b1be-5a9921ffe8e4",
   "metadata": {},
   "outputs": [],
   "source": [
    "# input data\n",
    "# define variables to load from input dataset\n",
    "input_variables = ['PFTDATA_MASK','PCT_NAT_PFT']\n",
    "\n",
    "# load inputdata\n",
    "ds_input, ds_input_scen, landmask = load_inputdata(scenario, input_variables, case_ctl)\n",
    "\n",
    "da_pct13 = ds_input['PCT_NAT_PFT'].sel(natpft=13)\n",
    "da_pct14 = ds_input['PCT_NAT_PFT'].sel(natpft=14)\n",
    "\n",
    "\n",
    "weights_pft13 = da_pct13/(da_pct13+da_pct14)\n",
    "weights_pft14 = da_pct14/(da_pct13+da_pct14)\n"
   ]
  },
  {
   "cell_type": "code",
   "execution_count": 9,
   "id": "a34f1dd3-3aec-4040-9b68-53949d2d6b8f",
   "metadata": {},
   "outputs": [],
   "source": [
    "# conbine grass PFTs and save into file\n",
    "def combine_c3_c4_grassland_1_pft(case,variables):\n",
    "\n",
    "    pft_list = [13,14]\n",
    "\n",
    "    pft_grassland = 100 # new pft for combined c3 adn c4 grasses. \n",
    "\n",
    "    for variable in variables: \n",
    "        print(variable)\n",
    "        list_da_pft = []\n",
    "\n",
    "        for pft_int in pft_list: \n",
    "\n",
    "            list_da_pft.append(load_da_gridded_pft(variable, pft_int, case).rename(variable))\n",
    "\n",
    "        da_pft13_weighted = (list_da_pft[0].squeeze() * weights_pft13 )\n",
    "        da_pft14_weighted = (list_da_pft[1].squeeze() * weights_pft14 )\n",
    "        ds_weighted = xr.concat([da_pft13_weighted, da_pft14_weighted], dim='natpft')\n",
    "        da_ctl_grassland = ds_weighted.sum(dim='natpft').where(landmask)\n",
    "        ds_gridded = xr.Dataset()\n",
    "\n",
    "        ds_gridded[variable+'_'+str(pft_grassland)] = da_ctl_grassland\n",
    "      \n",
    "        ds_gridded.to_netcdf(procdir+'/postprocessing/pft_gridding/'+variable+'_'+str(pft_grassland)+'.'+case+'.nc')"
   ]
  },
  {
   "cell_type": "code",
   "execution_count": 7,
   "id": "ecf38ca8-bd03-452d-bc42-1eefc5d30312",
   "metadata": {},
   "outputs": [],
   "source": [
    "variables = [\"TOTSOILLIQ\", \"QINFL\" , \"QOVER\", \"QDRAI\", 'EFLX_LH_TOT',  \"QVEGE\", \"QVEGT\",\"QSOIL\"]"
   ]
  },
  {
   "cell_type": "code",
   "execution_count": null,
   "id": "fdb3a01d-f3e3-491e-b55e-d0d05a52bba8",
   "metadata": {},
   "outputs": [],
   "source": [
    "combine_c3_c4_grassland_1_pft(case_scen,variables)\n"
   ]
  },
  {
   "cell_type": "code",
   "execution_count": 12,
   "id": "d9f6f80a-af0b-41ff-a191-91a0c418830f",
   "metadata": {},
   "outputs": [
    {
     "name": "stdout",
     "output_type": "stream",
     "text": [
      "TOTSOILLIQ\n",
      "QINFL\n",
      "QOVER\n",
      "QDRAI\n",
      "EFLX_LH_TOT\n",
      "QVEGE\n",
      "QVEGT\n",
      "QSOIL\n"
     ]
    }
   ],
   "source": [
    "combine_c3_c4_grassland_1_pft(case_ctl,variables)\n"
   ]
  },
  {
   "cell_type": "code",
   "execution_count": 7,
   "id": "e8720d81-2c97-431b-93b8-c6c763999c7a",
   "metadata": {},
   "outputs": [],
   "source": [
    "# conbine grass PFTs and save into file\n",
    "def combine_c3_c4_grassland_1_pft_3dtimmean(case,variables):\n",
    "\n",
    "    pft_list = [13,14]\n",
    "\n",
    "    pft_grassland = 100 # new pft for combined c3 adn c4 grasses. \n",
    "\n",
    "    for variable in variables: \n",
    "        print(variable)\n",
    "        list_da_pft = []\n",
    "\n",
    "        for pft_int in pft_list: \n",
    "\n",
    "            list_da_pft.append(load_da_gridded_pft(variable, pft_int, case).rename(variable).mean('time'))\n",
    "\n",
    "        da_pft13_weighted = (list_da_pft[0].squeeze() * weights_pft13 )\n",
    "        da_pft14_weighted = (list_da_pft[1].squeeze() * weights_pft14 )\n",
    "        ds_weighted = xr.concat([da_pft13_weighted, da_pft14_weighted], dim='natpft')\n",
    "        da_ctl_grassland = ds_weighted.sum(dim='natpft').where(landmask)\n",
    "        ds_gridded = xr.Dataset()\n",
    "\n",
    "        ds_gridded[variable+'_'+str(pft_grassland)] = da_ctl_grassland.compute()\n",
    "      \n",
    "        ds_gridded.to_netcdf(procdir+'/postprocessing/pft_gridding/'+variable+'_'+str(pft_grassland)+'.'+case+'.nc')"
   ]
  },
  {
   "cell_type": "code",
   "execution_count": 7,
   "id": "a079c566-8980-4ebc-9583-48787bae3f81",
   "metadata": {},
   "outputs": [],
   "source": [
    "# conbine grass PFTs and save into file\n",
    "def combine_c3_c4_grassland_1_pft_3dseasmean(case,variables):\n",
    "\n",
    "    pft_list = [13,14]\n",
    "\n",
    "    pft_grassland = 100 # new pft for combined c3 adn c4 grasses. \n",
    "\n",
    "    for variable in variables: \n",
    "        print(variable)\n",
    "        list_da_pft = []\n",
    "\n",
    "        for pft_int in pft_list: \n",
    "\n",
    "            list_da_pft.append(load_da_gridded_pft(variable, pft_int, case).rename(variable).groupby('time.month').mean())\n",
    "\n",
    "        da_pft13_weighted = (list_da_pft[0].squeeze() * weights_pft13 )\n",
    "        da_pft14_weighted = (list_da_pft[1].squeeze() * weights_pft14 )\n",
    "        ds_weighted = xr.concat([da_pft13_weighted, da_pft14_weighted], dim='natpft')\n",
    "        da_ctl_grassland = ds_weighted.sum(dim='natpft').where(landmask)\n",
    "        ds_gridded = xr.Dataset()\n",
    "\n",
    "        ds_gridded[variable+'_'+str(pft_grassland)] = da_ctl_grassland.compute()\n",
    "      \n",
    "        ds_gridded.to_netcdf(procdir+'/postprocessing/pft_gridding/'+variable+'_'+str(pft_grassland)+'.'+case+'.seasmean.nc')"
   ]
  },
  {
   "cell_type": "code",
   "execution_count": 8,
   "id": "cb3c3f41-ee5e-4e07-a29e-7ed0c772e6b0",
   "metadata": {},
   "outputs": [],
   "source": [
    "variables = [\"H2OSOI\", \"SMP\" , \"QROOTSINK\"]"
   ]
  },
  {
   "cell_type": "code",
   "execution_count": 11,
   "id": "610a4839-e42f-480e-93c6-e1d67b0b5c27",
   "metadata": {},
   "outputs": [
    {
     "name": "stdout",
     "output_type": "stream",
     "text": [
      "H2OSOI\n",
      "SMP\n",
      "QROOTSINK\n"
     ]
    }
   ],
   "source": [
    "combine_c3_c4_grassland_1_pft_3dtimmean(case_scen,variables)\n"
   ]
  },
  {
   "cell_type": "code",
   "execution_count": 12,
   "id": "ad0b0022-799c-4472-854d-c99490dc9a9d",
   "metadata": {},
   "outputs": [
    {
     "name": "stdout",
     "output_type": "stream",
     "text": [
      "H2OSOI\n",
      "SMP\n",
      "QROOTSINK\n"
     ]
    }
   ],
   "source": [
    "combine_c3_c4_grassland_1_pft_3dtimmean(case_ctl,variables)\n"
   ]
  },
  {
   "cell_type": "code",
   "execution_count": null,
   "id": "f1d72e18-b8ad-44fe-8ce7-40b247b443f1",
   "metadata": {},
   "outputs": [],
   "source": []
  }
 ],
 "metadata": {
  "kernelspec": {
   "display_name": "env_ctsm_py",
   "language": "python",
   "name": "env_ctsm_py"
  },
  "language_info": {
   "codemirror_mode": {
    "name": "ipython",
    "version": 3
   },
   "file_extension": ".py",
   "mimetype": "text/x-python",
   "name": "python",
   "nbconvert_exporter": "python",
   "pygments_lexer": "ipython3",
   "version": "3.10.10"
  }
 },
 "nbformat": 4,
 "nbformat_minor": 5
}
