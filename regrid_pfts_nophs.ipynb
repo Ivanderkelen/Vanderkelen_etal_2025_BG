{
 "cells": [
  {
   "cell_type": "markdown",
   "id": "f3f6d60a-7dec-4b09-afbe-da34e5a52748",
   "metadata": {},
   "source": [
    "# Regrid pft output to grids per variable and pft (intermediate postprocessing step) \n",
    "\n",
    "\n",
    "(c) Inne Vanderkelen - October 2023"
   ]
  },
  {
   "cell_type": "markdown",
   "id": "dd324684-5ed2-4909-a7c2-81028e86ea0a",
   "metadata": {},
   "source": [
    "## 1. Settings"
   ]
  },
  {
   "cell_type": "code",
   "execution_count": 2,
   "id": "a8241b7c-f1d2-48a8-bbe8-f7b4404882bb",
   "metadata": {
    "tags": []
   },
   "outputs": [
    {
     "data": {
      "image/png": "[encoded data removed]",
      "text/plain": [
       "<Figure size 640x480 with 1 Axes>"
      ]
     },
     "metadata": {},
     "output_type": "display_data"
    }
   ],
   "source": [
    "# laod modules \n",
    "import xarray as xr\n",
    "import matplotlib.pyplot as plt\n",
    "import os\n",
    "import regionmask \n",
    "\n",
    "# import own utils module\n",
    "from iv_utils_daint import *\n",
    "from ctsm_py.utils import * #info on ctsm utils: https://github.com/NCAR/ctsm_python_gllery \n",
    "\n",
    "# do plotting settings\n",
    "set_plot_param()\n",
    "\n",
    "# ignore all runtime warnings\n",
    "warnings.filterwarnings('ignore')"
   ]
  },
  {
   "cell_type": "code",
   "execution_count": 3,
   "id": "560cc133-f801-4353-b511-781544119b51",
   "metadata": {},
   "outputs": [],
   "source": [
    "# directory settings\n",
    "\n",
    "# set directories\n",
    "outdir = '/scratch/snx3000/ivanderk/'\n",
    "\n",
    "# Define directory where processing is done \n",
    "procdir =  outdir + 'processing_4p1000/' \n",
    "\n",
    "# go to processing directory \n",
    "os.chdir(procdir)"
   ]
  },
  {
   "cell_type": "code",
   "execution_count": 4,
   "id": "1d63bc98-2bd6-4fc5-aaa5-38d034aeb96a",
   "metadata": {},
   "outputs": [],
   "source": [
    "# case settings\n",
    "\n",
    "# define scenario\n",
    "scenario = '4p1000'\n",
    "\n",
    "# case settings\n",
    "case_ctl = 'IHistClm51Sp.hcru_hcru_mt13.pftsoilcol.CTL.spunup2.nophs'\n",
    "case_scen = 'IHistClm51Sp.hcru_hcru_mt13.pftsoilcol.'+scenario+'.spunup2.nophs'\n",
    "\n",
    "case   = case_ctl\n",
    "block  = 'lnd' \n",
    "stream = 'h1' \n",
    "\n",
    "# List of variables to import from file(s) in $indir matching $pattern.\n",
    "variables = [\"SOILLIQ\", 'H2OSOI',\"TOTSOILLIQ\",\"TOTSOILICE\", \"QINFL\" ,\"QOVER\", \"QDRAI\", 'EFLX_LH_TOT',  \"watsat\",\"QROOTSINK\" ,\"QVEGE\", \"QVEGT\",\"QSOIL\",\n",
    "             \"watfc\",  \"SMP\",  \"patches1d_itype_veg\"]           \n",
    "\n",
    "# discard 2004 until 2008 as spin up years\n",
    "start_year, end_year = 1990, 2014 # 2028 \n",
    "\n",
    "time_slice = slice(str(start_year)+\"-01-01\", str(end_year)+\"-12-31\")"
   ]
  },
  {
   "cell_type": "code",
   "execution_count": 5,
   "id": "9e07479f-7250-490b-8fe9-4ce50571d870",
   "metadata": {},
   "outputs": [],
   "source": [
    "# get pfts modelled - bare soil, grassland and crop pfts\n",
    "pft_list = [0,12,13,14,15,16]"
   ]
  },
  {
   "cell_type": "code",
   "execution_count": 6,
   "id": "d8cc3108-b40c-4eb2-901d-d5f4891ca3fc",
   "metadata": {},
   "outputs": [],
   "source": [
    "# calculate saturated fraction\n",
    "def calc_and_safe_saturated_fraction(pft_list, case): \n",
    "    for pft_int in pft_list: \n",
    "\n",
    "        print('processing pft '+str(pft_int))\n",
    "\n",
    "        da_h2soi = load_da_gridded_pft('H2OSOI', pft_int, case).rename('H2OSOI').rename({'ivt_str':'pft'})\n",
    "        da_watsat = load_da_gridded_pft('watsat', pft_int, case)\n",
    "        da_watsat = da_watsat.rename('watsat').rename({'ivt_str':'pft'}).rename({'levgrnd':'levsoi'}).isel(levsoi=range(0,20))\n",
    "\n",
    "        da_satfrac = (da_h2soi/da_watsat).rename('satfrac').assign_attrs({'units':'-','long_name':'saturated fraction'})\n",
    "\n",
    "        del da_watsat, da_h2soi\n",
    "\n",
    "        ds_gridded = xr.Dataset()\n",
    "\n",
    "        ds_gridded['satfrac_'+str(pft_int)] = da_satfrac\n",
    "\n",
    "        ds_gridded.to_netcdf(procdir+'/postprocessing/pft_gridding/'+'satfrac'+'_'+str(pft_int)+'.'+case+'.nc')\n",
    "\n",
    "        del ds_gridded    "
   ]
  },
  {
   "cell_type": "code",
   "execution_count": 7,
   "id": "d7d5ff0d-84e6-4a06-a6c2-b6ebe88ec167",
   "metadata": {},
   "outputs": [],
   "source": [
    "# get pfts modelled - bare soil, grassland and crop pfts\n",
    "pft_list = [15]"
   ]
  },
  {
   "cell_type": "markdown",
   "id": "d363724a-99bd-42ca-b78f-1828435cf082",
   "metadata": {
    "tags": []
   },
   "source": [
    "## Regrid scenario and control case"
   ]
  },
  {
   "cell_type": "code",
   "execution_count": null,
   "id": "9e319d95-7cac-42c6-88e3-62f946e31757",
   "metadata": {
    "tags": []
   },
   "outputs": [],
   "source": [
    "%%time\n",
    "ds_ctl = import_case(case_ctl, myVars=variables,  myVegtypes=pft_list, timeSlice=time_slice, stream=stream, alter_lons=False)"
   ]
  },
  {
   "cell_type": "code",
   "execution_count": 18,
   "id": "f67cf630-d10d-4e60-b28f-fafb1296fb62",
   "metadata": {},
   "outputs": [
    {
     "name": "stdout",
     "output_type": "stream",
     "text": [
      "processing variable SOILLIQ\n",
      "processing pft 15\n",
      "/scratch/snx3000/ivanderk/processing_4p1000//postprocessing/pft_gridding/SOILLIQ_15.IHistClm51Sp.hcru_hcru_mt13.pftsoilcol.CTL.spunup2.nophs.nc\n",
      "processing variable patches1d_itype_veg\n",
      "processing pft 15\n",
      "/scratch/snx3000/ivanderk/processing_4p1000//postprocessing/pft_gridding/patches1d_itype_veg_15.IHistClm51Sp.hcru_hcru_mt13.pftsoilcol.CTL.spunup2.nophs.nc\n",
      "CPU times: user 43.6 s, sys: 27.9 s, total: 1min 11s\n",
      "Wall time: 1min 24s\n"
     ]
    }
   ],
   "source": [
    "%%time\n",
    "grid_multiple_pfts_multiple_vars(ds_ctl, variables,  pft_list, case_ctl)"
   ]
  },
  {
   "cell_type": "code",
   "execution_count": 8,
   "id": "8eac2693-449b-4eca-80d3-9abda59c3f07",
   "metadata": {
    "tags": []
   },
   "outputs": [
    {
     "name": "stdout",
     "output_type": "stream",
     "text": [
      "CPU times: user 1min 13s, sys: 24.2 s, total: 1min 37s\n",
      "Wall time: 2min 16s\n"
     ]
    }
   ],
   "source": [
    "%%time\n",
    "ds_scen = import_case(case_scen, myVars=variables,  myVegtypes=pft_list, timeSlice=time_slice, stream=stream, alter_lons=False)"
   ]
  },
  {
   "cell_type": "code",
   "execution_count": 9,
   "id": "c64c5ad5-18a2-4597-adb4-d4fbdb9bbdbc",
   "metadata": {},
   "outputs": [],
   "source": [
    "variables = [\"QOVER\", \"QDRAI\", 'EFLX_LH_TOT',  \"watsat\",\"QROOTSINK\" ,\"QVEGE\", \"QVEGT\",\"QSOIL\",\n",
    "             \"watfc\",  \"SMP\",  \"patches1d_itype_veg\"]      "
   ]
  },
  {
   "cell_type": "code",
   "execution_count": 10,
   "id": "02d37f14-35de-431a-b9d1-1b9992f62c7f",
   "metadata": {},
   "outputs": [
    {
     "name": "stdout",
     "output_type": "stream",
     "text": [
      "processing variable QOVER\n",
      "processing pft 15\n",
      "/scratch/snx3000/ivanderk/processing_4p1000//postprocessing/pft_gridding/QOVER_15.IHistClm51Sp.hcru_hcru_mt13.pftsoilcol.4p1000.spunup2.nophs.nc\n",
      "processing variable QDRAI\n",
      "processing pft 15\n",
      "/scratch/snx3000/ivanderk/processing_4p1000//postprocessing/pft_gridding/QDRAI_15.IHistClm51Sp.hcru_hcru_mt13.pftsoilcol.4p1000.spunup2.nophs.nc\n",
      "processing variable EFLX_LH_TOT\n",
      "processing pft 15\n",
      "/scratch/snx3000/ivanderk/processing_4p1000//postprocessing/pft_gridding/EFLX_LH_TOT_15.IHistClm51Sp.hcru_hcru_mt13.pftsoilcol.4p1000.spunup2.nophs.nc\n",
      "processing variable watsat\n",
      "processing pft 15\n",
      "/scratch/snx3000/ivanderk/processing_4p1000//postprocessing/pft_gridding/watsat_15.IHistClm51Sp.hcru_hcru_mt13.pftsoilcol.4p1000.spunup2.nophs.nc\n",
      "processing variable QROOTSINK\n",
      "processing pft 15\n",
      "/scratch/snx3000/ivanderk/processing_4p1000//postprocessing/pft_gridding/QROOTSINK_15.IHistClm51Sp.hcru_hcru_mt13.pftsoilcol.4p1000.spunup2.nophs.nc\n",
      "processing variable QVEGE\n",
      "processing pft 15\n",
      "/scratch/snx3000/ivanderk/processing_4p1000//postprocessing/pft_gridding/QVEGE_15.IHistClm51Sp.hcru_hcru_mt13.pftsoilcol.4p1000.spunup2.nophs.nc\n",
      "processing variable QVEGT\n",
      "processing pft 15\n",
      "/scratch/snx3000/ivanderk/processing_4p1000//postprocessing/pft_gridding/QVEGT_15.IHistClm51Sp.hcru_hcru_mt13.pftsoilcol.4p1000.spunup2.nophs.nc\n",
      "processing variable QSOIL\n",
      "processing pft 15\n",
      "/scratch/snx3000/ivanderk/processing_4p1000//postprocessing/pft_gridding/QSOIL_15.IHistClm51Sp.hcru_hcru_mt13.pftsoilcol.4p1000.spunup2.nophs.nc\n",
      "processing variable watfc\n",
      "processing pft 15\n",
      "/scratch/snx3000/ivanderk/processing_4p1000//postprocessing/pft_gridding/watfc_15.IHistClm51Sp.hcru_hcru_mt13.pftsoilcol.4p1000.spunup2.nophs.nc\n",
      "processing variable SMP\n",
      "processing pft 15\n",
      "/scratch/snx3000/ivanderk/processing_4p1000//postprocessing/pft_gridding/SMP_15.IHistClm51Sp.hcru_hcru_mt13.pftsoilcol.4p1000.spunup2.nophs.nc\n",
      "processing variable patches1d_itype_veg\n",
      "processing pft 15\n",
      "/scratch/snx3000/ivanderk/processing_4p1000//postprocessing/pft_gridding/patches1d_itype_veg_15.IHistClm51Sp.hcru_hcru_mt13.pftsoilcol.4p1000.spunup2.nophs.nc\n",
      "CPU times: user 3min 44s, sys: 2min 30s, total: 6min 15s\n",
      "Wall time: 7min 39s\n"
     ]
    }
   ],
   "source": [
    "%%time\n",
    "grid_multiple_pfts_multiple_vars(ds_scen, variables,  pft_list, case_scen)"
   ]
  },
  {
   "cell_type": "markdown",
   "id": "d187917f-7000-4156-807c-2e2dabd79286",
   "metadata": {},
   "source": [
    "## Cst Soil resistance"
   ]
  },
  {
   "cell_type": "code",
   "execution_count": 18,
   "id": "223123dc-083b-4a18-8933-2c09309175a1",
   "metadata": {},
   "outputs": [],
   "source": [
    "case_ctl = 'IHistClm51Sp.hcru_hcru_mt13.pftsoilcol.CTL.cstsoilres'\n",
    "case_scen = 'IHistClm51Sp.hcru_hcru_mt13.pftsoilcol.'+scenario+'.cstsoilres'\n",
    "\n",
    "# List of variables to import from file(s) in $indir matching $pattern.\n",
    "variables = [\"SOILLIQ\", \"TOTSOILLIQ\", \"QINFL\" ,\"QOVER\", \"QDRAI\", 'EFLX_LH_TOT', \"QVEGE\", \"QVEGT\",\"SMP\",  \"patches1d_itype_veg\"]           \n",
    "\n",
    "# discard 2004 until 2008 as spin up years\n",
    "start_year, end_year = 1990, 2014 # 2028 \n",
    "\n",
    "time_slice = slice(str(start_year)+\"-01-01\", str(end_year)+\"-12-31\")"
   ]
  },
  {
   "cell_type": "code",
   "execution_count": 19,
   "id": "dbcc35c8-d0b8-4480-be4e-fe652a72c858",
   "metadata": {
    "tags": []
   },
   "outputs": [
    {
     "name": "stdout",
     "output_type": "stream",
     "text": [
      "CPU times: user 1min 11s, sys: 20.4 s, total: 1min 32s\n",
      "Wall time: 1min 56s\n"
     ]
    }
   ],
   "source": [
    "%%time\n",
    "ds_scen = import_case(case_scen, myVars=variables,  myVegtypes=pft_list, timeSlice=time_slice, stream=stream, alter_lons=False)"
   ]
  },
  {
   "cell_type": "code",
   "execution_count": 20,
   "id": "7188d186-be2a-4864-b010-c8050268d580",
   "metadata": {},
   "outputs": [
    {
     "name": "stdout",
     "output_type": "stream",
     "text": [
      "processing variable SOILLIQ\n",
      "processing pft 15\n",
      "/scratch/snx3000/ivanderk/processing_4p1000//postprocessing/pft_gridding/SOILLIQ_15.IHistClm51Sp.hcru_hcru_mt13.pftsoilcol.4p1000.cstsoilres.nc\n",
      "processing variable TOTSOILLIQ\n",
      "processing pft 15\n",
      "/scratch/snx3000/ivanderk/processing_4p1000//postprocessing/pft_gridding/TOTSOILLIQ_15.IHistClm51Sp.hcru_hcru_mt13.pftsoilcol.4p1000.cstsoilres.nc\n",
      "processing variable QINFL\n",
      "processing pft 15\n",
      "/scratch/snx3000/ivanderk/processing_4p1000//postprocessing/pft_gridding/QINFL_15.IHistClm51Sp.hcru_hcru_mt13.pftsoilcol.4p1000.cstsoilres.nc\n",
      "processing variable QOVER\n",
      "processing pft 15\n",
      "/scratch/snx3000/ivanderk/processing_4p1000//postprocessing/pft_gridding/QOVER_15.IHistClm51Sp.hcru_hcru_mt13.pftsoilcol.4p1000.cstsoilres.nc\n",
      "processing variable QDRAI\n",
      "processing pft 15\n",
      "/scratch/snx3000/ivanderk/processing_4p1000//postprocessing/pft_gridding/QDRAI_15.IHistClm51Sp.hcru_hcru_mt13.pftsoilcol.4p1000.cstsoilres.nc\n",
      "processing variable EFLX_LH_TOT\n",
      "processing pft 15\n",
      "/scratch/snx3000/ivanderk/processing_4p1000//postprocessing/pft_gridding/EFLX_LH_TOT_15.IHistClm51Sp.hcru_hcru_mt13.pftsoilcol.4p1000.cstsoilres.nc\n",
      "processing variable QVEGE\n",
      "processing pft 15\n",
      "/scratch/snx3000/ivanderk/processing_4p1000//postprocessing/pft_gridding/QVEGE_15.IHistClm51Sp.hcru_hcru_mt13.pftsoilcol.4p1000.cstsoilres.nc\n",
      "processing variable QVEGT\n",
      "processing pft 15\n",
      "/scratch/snx3000/ivanderk/processing_4p1000//postprocessing/pft_gridding/QVEGT_15.IHistClm51Sp.hcru_hcru_mt13.pftsoilcol.4p1000.cstsoilres.nc\n",
      "processing variable SMP\n",
      "processing pft 15\n",
      "/scratch/snx3000/ivanderk/processing_4p1000//postprocessing/pft_gridding/SMP_15.IHistClm51Sp.hcru_hcru_mt13.pftsoilcol.4p1000.cstsoilres.nc\n",
      "processing variable patches1d_itype_veg\n",
      "processing pft 15\n",
      "/scratch/snx3000/ivanderk/processing_4p1000//postprocessing/pft_gridding/patches1d_itype_veg_15.IHistClm51Sp.hcru_hcru_mt13.pftsoilcol.4p1000.cstsoilres.nc\n",
      "CPU times: user 2min 6s, sys: 1min 21s, total: 3min 27s\n",
      "Wall time: 4min 56s\n"
     ]
    }
   ],
   "source": [
    "%%time\n",
    "grid_multiple_pfts_multiple_vars(ds_scen, variables,  pft_list, case_scen)"
   ]
  },
  {
   "cell_type": "code",
   "execution_count": 21,
   "id": "0e141d6c-54f8-4c9f-a7fc-46660e43b506",
   "metadata": {
    "tags": []
   },
   "outputs": [
    {
     "name": "stdout",
     "output_type": "stream",
     "text": [
      "CPU times: user 1min 12s, sys: 20.5 s, total: 1min 32s\n",
      "Wall time: 2min\n"
     ]
    }
   ],
   "source": [
    "%%time\n",
    "ds_ctl = import_case(case_ctl, myVars=variables,  myVegtypes=pft_list, timeSlice=time_slice, stream=stream, alter_lons=False)"
   ]
  },
  {
   "cell_type": "code",
   "execution_count": 22,
   "id": "9303e0bc-51e4-4d0f-997a-ae243ccb0183",
   "metadata": {},
   "outputs": [
    {
     "name": "stdout",
     "output_type": "stream",
     "text": [
      "processing variable SOILLIQ\n",
      "processing pft 15\n",
      "/scratch/snx3000/ivanderk/processing_4p1000//postprocessing/pft_gridding/SOILLIQ_15.IHistClm51Sp.hcru_hcru_mt13.pftsoilcol.CTL.cstsoilres.nc\n",
      "processing variable TOTSOILLIQ\n",
      "processing pft 15\n",
      "/scratch/snx3000/ivanderk/processing_4p1000//postprocessing/pft_gridding/TOTSOILLIQ_15.IHistClm51Sp.hcru_hcru_mt13.pftsoilcol.CTL.cstsoilres.nc\n",
      "processing variable QINFL\n",
      "processing pft 15\n",
      "/scratch/snx3000/ivanderk/processing_4p1000//postprocessing/pft_gridding/QINFL_15.IHistClm51Sp.hcru_hcru_mt13.pftsoilcol.CTL.cstsoilres.nc\n",
      "processing variable QOVER\n",
      "processing pft 15\n",
      "/scratch/snx3000/ivanderk/processing_4p1000//postprocessing/pft_gridding/QOVER_15.IHistClm51Sp.hcru_hcru_mt13.pftsoilcol.CTL.cstsoilres.nc\n",
      "processing variable QDRAI\n",
      "processing pft 15\n",
      "/scratch/snx3000/ivanderk/processing_4p1000//postprocessing/pft_gridding/QDRAI_15.IHistClm51Sp.hcru_hcru_mt13.pftsoilcol.CTL.cstsoilres.nc\n",
      "processing variable EFLX_LH_TOT\n",
      "processing pft 15\n",
      "/scratch/snx3000/ivanderk/processing_4p1000//postprocessing/pft_gridding/EFLX_LH_TOT_15.IHistClm51Sp.hcru_hcru_mt13.pftsoilcol.CTL.cstsoilres.nc\n",
      "processing variable QVEGE\n",
      "processing pft 15\n",
      "/scratch/snx3000/ivanderk/processing_4p1000//postprocessing/pft_gridding/QVEGE_15.IHistClm51Sp.hcru_hcru_mt13.pftsoilcol.CTL.cstsoilres.nc\n",
      "processing variable QVEGT\n",
      "processing pft 15\n",
      "/scratch/snx3000/ivanderk/processing_4p1000//postprocessing/pft_gridding/QVEGT_15.IHistClm51Sp.hcru_hcru_mt13.pftsoilcol.CTL.cstsoilres.nc\n",
      "processing variable SMP\n",
      "processing pft 15\n",
      "/scratch/snx3000/ivanderk/processing_4p1000//postprocessing/pft_gridding/SMP_15.IHistClm51Sp.hcru_hcru_mt13.pftsoilcol.CTL.cstsoilres.nc\n",
      "processing variable patches1d_itype_veg\n",
      "processing pft 15\n",
      "/scratch/snx3000/ivanderk/processing_4p1000//postprocessing/pft_gridding/patches1d_itype_veg_15.IHistClm51Sp.hcru_hcru_mt13.pftsoilcol.CTL.cstsoilres.nc\n",
      "CPU times: user 2min 5s, sys: 1min 22s, total: 3min 27s\n",
      "Wall time: 4min 50s\n"
     ]
    }
   ],
   "source": [
    "%%time\n",
    "grid_multiple_pfts_multiple_vars(ds_ctl, variables,  pft_list, case_ctl)"
   ]
  },
  {
   "cell_type": "code",
   "execution_count": null,
   "id": "60bc0d5e-f23f-4b6d-85d7-268d07a89d66",
   "metadata": {},
   "outputs": [],
   "source": []
  },
  {
   "cell_type": "code",
   "execution_count": null,
   "id": "9dbd9a87-5035-4ced-afa3-ed7e2cd8b493",
   "metadata": {},
   "outputs": [],
   "source": []
  }
 ],
 "metadata": {
  "kernelspec": {
   "display_name": "env_ctsm_py",
   "language": "python",
   "name": "env_ctsm_py"
  },
  "language_info": {
   "codemirror_mode": {
    "name": "ipython",
    "version": 3
   },
   "file_extension": ".py",
   "mimetype": "text/x-python",
   "name": "python",
   "nbconvert_exporter": "python",
   "pygments_lexer": "ipython3",
   "version": "3.10.10"
  }
 },
 "nbformat": 4,
 "nbformat_minor": 5
}
