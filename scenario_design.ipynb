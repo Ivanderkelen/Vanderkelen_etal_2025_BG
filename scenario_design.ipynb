{
 "cells": [
  {
   "cell_type": "markdown",
   "id": "97f79593-f3f5-405c-9947-c705359b7629",
   "metadata": {},
   "source": [
    "# Scenario design of experiments"
   ]
  },
  {
   "cell_type": "markdown",
   "id": "d4011118-ce66-4d44-bed8-f454b9811ea7",
   "metadata": {},
   "source": [
    "*Open questions* / TO DOs\n",
    "\n",
    "- ORGANIC in CLM inputdataset: for all LUTypes? Different simulations with different datasets if per dataset\n",
    "- Grasslands? Low estimate of Sommer and Bosio? In what values does this result? \n"
   ]
  },
  {
   "cell_type": "markdown",
   "id": "c78ed201-a919-4951-a37c-c0a252c4dbca",
   "metadata": {
    "jp-MarkdownHeadingCollapsed": true,
    "tags": []
   },
   "source": [
    "## 0. Simulation set up: Open questions\n",
    "\n",
    "- Separate PFT columns? \n",
    "- Irrigation? \n",
    "- I2000CLMSP? \n",
    "- Time period: 20 years? \n",
    "- input maps with increased SOM. "
   ]
  },
  {
   "cell_type": "markdown",
   "id": "1580a4ea-c58b-4a45-9338-2ef1c6d751d8",
   "metadata": {
    "tags": []
   },
   "source": [
    "## 1. soil organic carbon increase on CROPLANDS"
   ]
  },
  {
   "cell_type": "markdown",
   "id": "b4ca710e-28dd-4b06-9de9-63ef69ad676a",
   "metadata": {},
   "source": [
    "Based on Zomer et al 2017 scenarios. \n",
    "(based on SOILGRIDS 250 m) \n",
    "\n",
    "Soil organic increase after **20 years** in **croplands**, first **30 cm**. \n",
    "\n",
    "! Assumption: *\"An implicit basic assumption is that in general, 50 to 70% of soil carbon stocks have been lost in cultivated soils6,15,17, such that the SOC status of almost all cultivated soils can be increased. It is expected that these cropped soils will be able to sequester carbon for at least 20 years before reaching saturation points and new SOC equilibriums.\"*\n",
    "\n",
    "### Three possibilities\n",
    "#### 1. Relative increase in SOC using same method\n",
    "\n",
    "Take scenarios from Sommer et Bosio, 2014: global increase in SOC (%). \n",
    "\n",
    "Apply same method of Zomer et al 2017 to WISE data on which CLM is based.\n",
    "\n",
    "- convert CLM ORGANIC to soil organic carbon content or SOC% (ORG C); [g C/g soil]\n",
    "- Apply percent increase after 20 years from Sommer and Bosio, 2014\n",
    "   \n",
    "    Two scenarios, increase after 20 years in first 30 centimenters\n",
    "        - Medium %increase = 0.27 % \n",
    "        - High %increase = 0.55 %\n",
    "        - Potentially also 4p1000 = 0.8 % (at which depth?)\n",
    "\n",
    "\n",
    "```\n",
    "ORGC_h_20 =  ORGC_h + %increase\n",
    "```\n",
    "\n",
    "    Integrate for different soil levels: CLM until 30 cm: First 5 soil levels!\n",
    "    \n",
    "```\n",
    "ORGC_20 =  ORGC_h1_20 + ORGC_h2_20 + ORGC_h3_20\n",
    "```\n",
    "        \n",
    "*Sanity check: compare amounts aggregated over countries/continents with Zomer et al 2017. (both increases as absolute amounts)*  \n",
    "\n",
    "#### 2. (a) Absolute increase\n",
    "\n",
    "- aggregate absolute SOC *increase* datasets for both scenarios (not potential) frm 250m to 0.5°\n",
    "- Add absolute increase to CLM WISE data to obtain SOC in 20 years\n",
    "- replace future CLM SOM inputdata in 20 years for croplands ONLY\n",
    "\n",
    "Disadvantage: loss of consistency of SOM for different LUtypes (combination with grassland scenarios) Not important if analysed seperately in single grid cell columns, computationally expensive. \n",
    "\n",
    "\n",
    "#### 2. (b) Absolute amounts and increase\n",
    "- aggregate both absolute SOC *today* and *potential in 20 years* datasets for both scenarios from 250m to 0.5°\n",
    "- replace input data for CLM for croplands only. \n"
   ]
  },
  {
   "cell_type": "markdown",
   "id": "a08435ce-8e8a-44e7-b71f-5aad7e4d0cb9",
   "metadata": {},
   "source": [
    "## unit conversion"
   ]
  },
  {
   "cell_type": "markdown",
   "id": "e18a3096-6dbf-4231-a926-1cc7eec974a1",
   "metadata": {},
   "source": [
    "WISE data integration in CLM\n",
    "\n",
    "Copied from https://github.com/ESCOMP/CTSM/issues/1303#issuecomment-1103295279\n",
    "\n",
    "ORGANIC using the same mapping unit information being used for texture.\n",
    "\n",
    "I'm used to thinking about calculating organic matter stocks (kg C/m2), but the model only cares about organic matter density (kg OM/m3)\n",
    "Technically, this should just be calculated on the fine earth fraction (1-coarse fragments).\n",
    "\n",
    "the WISE lookup table has all of this information\n",
    "\n",
    "| Property\t| units\t| long_name| \n",
    "|  -------  | ----- | -------- | \n",
    "| ORGC\t| gC kg^-1 soil\t| organic carbon content| \n",
    "| BULK\t| g soil cm^-3\t| bulk density| \n",
    "| CFRAG\t| volumetric, %\t| coarse fragment| \n",
    "\n",
    "\n",
    "Additionally we'll assume 1g OM = 0.58 gC. NOTE I have no idea where this conversion factor is from, but I'm assuming it was used for the old calculation of ORGANIC we've been using?\n",
    "\n",
    "Thus:\n",
    "\n",
    "```\n",
    "ORGANIC = ORGC*BULK*(100-CFRAG)/100  *1/0.58 \n",
    "```"
   ]
  },
  {
   "cell_type": "markdown",
   "id": "ffed15a5-0fdb-4210-a6d7-feecc1b768b5",
   "metadata": {},
   "source": [
    "**Convert CLM data to ORGC (organic carbon content)**\n",
    "\n",
    "```\n",
    "ORGC = 0.58 * ORGANIC*100 / (BULK*100-CFRAG)\n",
    "```\n",
    "\n",
    "combined with `ORGC_h_20 =  ORGC_h + ORGC_h * %increase`\n",
    "```\n",
    "\n",
    "```"
   ]
  },
  {
   "cell_type": "markdown",
   "id": "1c4ae0dd-52b2-4ebb-ba63-8f52a0b27f9b",
   "metadata": {},
   "source": [
    "## TEST possibility 1. "
   ]
  },
  {
   "cell_type": "code",
   "execution_count": null,
   "id": "ad0d36cf-4023-45af-a9dd-afc3dcb96145",
   "metadata": {},
   "outputs": [],
   "source": []
  },
  {
   "cell_type": "markdown",
   "id": "a688b40d-bac3-4b41-a166-ac1ee203d5fa",
   "metadata": {},
   "source": [
    "## 2. Soil organic carbon increase on GRASSLANDS (grazing)"
   ]
  },
  {
   "cell_type": "markdown",
   "id": "46040649-b0f0-4cba-ace9-0b3f31ba822a",
   "metadata": {},
   "source": [
    "- until what depth? "
   ]
  },
  {
   "cell_type": "markdown",
   "id": "f3fae2b7-062b-420a-9145-d9144ee21fa2",
   "metadata": {},
   "source": [
    "The low scenario in Sommer and Bossio (2014) was not used because it refers to sequestration rates estimated primarily for unimproved pasture land. (from Zomer et al., 2017)\n",
    "\n",
    "\n",
    "What do other papers say in terms of potential? Look for more papers? "
   ]
  },
  {
   "cell_type": "markdown",
   "id": "2a122442-8c27-409b-87f0-3e5435b61a98",
   "metadata": {},
   "source": [
    "##### From Bai et al. 2022: Science\n",
    "\n",
    "\"At the global scale, the mean theoretical, realistic, and achievable capacities of SOC sequestration with grassland restoration are estimated to be 10.2, 6.8, and 3.4 billion t CO2 equivalents per year (CO2e year−1)\" See Fig. 4 A"
   ]
  },
  {
   "cell_type": "markdown",
   "id": "f356fd91-fcb4-475d-a2a0-afd88c56c2f3",
   "metadata": {
    "tags": []
   },
   "source": [
    "##### Tessema et al. 2014 (Potential for soil organic carbon sequestration in grasslands in East African countries: A review)\n",
    "\n",
    "*six East African countries (Burundi, Ethiopia, Kenya, Rwanda, Tanzania and Uganda) \n",
    "\"In the studies reviewed, SOC stocks in grasslands range from 3 to 93 Mg C/ha in the upper 0.3 m of the soil profile, while SOC sequestration rate ranges from 0.1 to 3.1 Mg C ha -1 year-1 under different management strategies.\"*"
   ]
  },
  {
   "cell_type": "code",
   "execution_count": 1,
   "id": "193807f3-1676-44fb-a6af-bada1c75fc1b",
   "metadata": {},
   "outputs": [
    {
     "name": "stdout",
     "output_type": "stream",
     "text": [
      "Total carbon sequestration potential in grasslands per year\n",
      "2.78 Pg/year for theoretical\n",
      "1.85 Pg/year for realistic\n",
      "0.93 Pg/year for achievable\n",
      "\n",
      "\n",
      "Total carbon sequestration potential in grasslands after 20 years\n",
      "55.599999999999994 Pg for theoretical\n",
      "37.0 Pg for realistic\n",
      "18.6 Pg for achievable\n"
     ]
    },
    {
     "data": {
      "image/png": "[encoded data removed]",
      "text/plain": [
       "<Figure size 640x480 with 1 Axes>"
      ]
     },
     "metadata": {},
     "output_type": "display_data"
    }
   ],
   "source": [
    "import numpy as np\n",
    "import xarray as xr\n",
    "from ctsm_py.utils import *\n",
    "\n",
    "from iv_utils_daint import *\n",
    "\n",
    "# convert values from Bai et al. 2022\n",
    "\n",
    "grassland_co2eq = {}\n",
    "grassland_co2eq['theoretical'] = 10.2e9 # ton CO2eq /year)\n",
    "grassland_co2eq['realistic'] = 6.8e9 # ton CO2eq/year \n",
    "grassland_co2eq['achievable'] = 3.4e9 # ton CO2eq/year \n",
    "\n",
    "\n",
    "scenarios = list(grassland_co2eq.keys())\n",
    "grassland_carbon = {}\n",
    "# convert co2eq to gC: 1 ton of CO2 equivalent is equivalent to 12/44 tons of carbon (since the molecular weight of carbon is 12 and the molecular weight of CO2 is 44)\n",
    "for scenario in scenarios: \n",
    "    grassland_carbon[scenario] = grassland_co2eq[scenario]  * 1000000 *  (12/44)# gC/year\n",
    "\n",
    "print('Total carbon sequestration potential in grasslands per year')\n",
    "for scenario in scenarios: \n",
    "    print(str(np.round(grassland_carbon[scenario]/1e15,2)) +' Pg/year for '+scenario)\n",
    "print()\n",
    "print()\n",
    "print('Total carbon sequestration potential in grasslands after 20 years')\n",
    "for scenario in scenarios: \n",
    "    print(str(np.round(grassland_carbon[scenario]/1e15,2)*20) +' Pg for '+scenario)\n"
   ]
  },
  {
   "cell_type": "code",
   "execution_count": 2,
   "id": "0c8f76cb-6339-4df8-be4b-894432299eb3",
   "metadata": {},
   "outputs": [
    {
     "ename": "FileNotFoundError",
     "evalue": "[Errno 2] No such file or directory: b'/scratch/snx3000/ivanderk/CCLM2_inputdata/cesm_inputdata/CTSM_hcru_inputdata/surfdata_360x720cru_hist_16pfts_CMIP6_2000_c230915.nc'",
     "output_type": "error",
     "traceback": [
      "\u001b[0;31m---------------------------------------------------------------------------\u001b[0m",
      "\u001b[0;31mKeyError\u001b[0m                                  Traceback (most recent call last)",
      "\u001b[0;32m/dodrio/scratch/projects/2022_200/project_output/rcs/software/miniconda3/envs/ctsm_pylib/lib/python3.7/site-packages/xarray/backends/file_manager.py\u001b[0m in \u001b[0;36m_acquire_with_cache_info\u001b[0;34m(self, needs_lock)\u001b[0m\n\u001b[1;32m    198\u001b[0m             \u001b[0;32mtry\u001b[0m\u001b[0;34m:\u001b[0m\u001b[0;34m\u001b[0m\u001b[0;34m\u001b[0m\u001b[0m\n\u001b[0;32m--> 199\u001b[0;31m                 \u001b[0mfile\u001b[0m \u001b[0;34m=\u001b[0m \u001b[0mself\u001b[0m\u001b[0;34m.\u001b[0m\u001b[0m_cache\u001b[0m\u001b[0;34m[\u001b[0m\u001b[0mself\u001b[0m\u001b[0;34m.\u001b[0m\u001b[0m_key\u001b[0m\u001b[0;34m]\u001b[0m\u001b[0;34m\u001b[0m\u001b[0;34m\u001b[0m\u001b[0m\n\u001b[0m\u001b[1;32m    200\u001b[0m             \u001b[0;32mexcept\u001b[0m \u001b[0mKeyError\u001b[0m\u001b[0;34m:\u001b[0m\u001b[0;34m\u001b[0m\u001b[0;34m\u001b[0m\u001b[0m\n",
      "\u001b[0;32m/dodrio/scratch/projects/2022_200/project_output/rcs/software/miniconda3/envs/ctsm_pylib/lib/python3.7/site-packages/xarray/backends/lru_cache.py\u001b[0m in \u001b[0;36m__getitem__\u001b[0;34m(self, key)\u001b[0m\n\u001b[1;32m     52\u001b[0m         \u001b[0;32mwith\u001b[0m \u001b[0mself\u001b[0m\u001b[0;34m.\u001b[0m\u001b[0m_lock\u001b[0m\u001b[0;34m:\u001b[0m\u001b[0;34m\u001b[0m\u001b[0;34m\u001b[0m\u001b[0m\n\u001b[0;32m---> 53\u001b[0;31m             \u001b[0mvalue\u001b[0m \u001b[0;34m=\u001b[0m \u001b[0mself\u001b[0m\u001b[0;34m.\u001b[0m\u001b[0m_cache\u001b[0m\u001b[0;34m[\u001b[0m\u001b[0mkey\u001b[0m\u001b[0;34m]\u001b[0m\u001b[0;34m\u001b[0m\u001b[0;34m\u001b[0m\u001b[0m\n\u001b[0m\u001b[1;32m     54\u001b[0m             \u001b[0mself\u001b[0m\u001b[0;34m.\u001b[0m\u001b[0m_cache\u001b[0m\u001b[0;34m.\u001b[0m\u001b[0mmove_to_end\u001b[0m\u001b[0;34m(\u001b[0m\u001b[0mkey\u001b[0m\u001b[0;34m)\u001b[0m\u001b[0;34m\u001b[0m\u001b[0;34m\u001b[0m\u001b[0m\n",
      "\u001b[0;31mKeyError\u001b[0m: [<class 'netCDF4._netCDF4.Dataset'>, ('/scratch/snx3000/ivanderk/CCLM2_inputdata/cesm_inputdata/CTSM_hcru_inputdata/surfdata_360x720cru_hist_16pfts_CMIP6_2000_c230915.nc',), 'r', (('clobber', True), ('diskless', False), ('format', 'NETCDF4'), ('persist', False))]",
      "\nDuring handling of the above exception, another exception occurred:\n",
      "\u001b[0;31mFileNotFoundError\u001b[0m                         Traceback (most recent call last)",
      "\u001b[0;32m/tmp/ipykernel_1696164/2501782186.py\u001b[0m in \u001b[0;36m<module>\u001b[0;34m\u001b[0m\n\u001b[1;32m      4\u001b[0m \u001b[0mfilename_ctsm52\u001b[0m \u001b[0;34m=\u001b[0m \u001b[0;34m'surfdata_360x720cru_hist_16pfts_CMIP6_2000_c230915.nc'\u001b[0m\u001b[0;34m\u001b[0m\u001b[0;34m\u001b[0m\u001b[0m\n\u001b[1;32m      5\u001b[0m \u001b[0mfilename_clm5\u001b[0m \u001b[0;34m=\u001b[0m \u001b[0;34m'surfdata_360x720cru_16pfts_Irrig_CMIP6_simyr2000_c170824.nc'\u001b[0m\u001b[0;34m\u001b[0m\u001b[0;34m\u001b[0m\u001b[0m\n\u001b[0;32m----> 6\u001b[0;31m \u001b[0mds_input_ctsm52\u001b[0m \u001b[0;34m=\u001b[0m \u001b[0mxr\u001b[0m\u001b[0;34m.\u001b[0m\u001b[0mopen_dataset\u001b[0m\u001b[0;34m(\u001b[0m\u001b[0minputdir\u001b[0m\u001b[0;34m+\u001b[0m\u001b[0mfilename_ctsm52\u001b[0m\u001b[0;34m)\u001b[0m\u001b[0;34m\u001b[0m\u001b[0;34m\u001b[0m\u001b[0m\n\u001b[0m\u001b[1;32m      7\u001b[0m \u001b[0;34m\u001b[0m\u001b[0m\n\u001b[1;32m      8\u001b[0m \u001b[0mda_grassland\u001b[0m \u001b[0;34m=\u001b[0m \u001b[0mds_input_ctsm52\u001b[0m\u001b[0;34m[\u001b[0m\u001b[0;34m'PCT_NAT_PFT'\u001b[0m\u001b[0;34m]\u001b[0m\u001b[0;34m.\u001b[0m\u001b[0msel\u001b[0m\u001b[0;34m(\u001b[0m\u001b[0mnatpft\u001b[0m\u001b[0;34m=\u001b[0m\u001b[0;36m13\u001b[0m\u001b[0;34m)\u001b[0m \u001b[0;34m+\u001b[0m \u001b[0mds_input_ctsm52\u001b[0m\u001b[0;34m[\u001b[0m\u001b[0;34m'PCT_NAT_PFT'\u001b[0m\u001b[0;34m]\u001b[0m\u001b[0;34m.\u001b[0m\u001b[0msel\u001b[0m\u001b[0;34m(\u001b[0m\u001b[0mnatpft\u001b[0m\u001b[0;34m=\u001b[0m\u001b[0;36m14\u001b[0m\u001b[0;34m)\u001b[0m\u001b[0;34m\u001b[0m\u001b[0;34m\u001b[0m\u001b[0m\n",
      "\u001b[0;32m/dodrio/scratch/projects/2022_200/project_output/rcs/software/miniconda3/envs/ctsm_pylib/lib/python3.7/site-packages/xarray/backends/api.py\u001b[0m in \u001b[0;36mopen_dataset\u001b[0;34m(filename_or_obj, engine, chunks, cache, decode_cf, mask_and_scale, decode_times, decode_timedelta, use_cftime, concat_characters, decode_coords, drop_variables, backend_kwargs, *args, **kwargs)\u001b[0m\n\u001b[1;32m    497\u001b[0m         \u001b[0mdrop_variables\u001b[0m\u001b[0;34m=\u001b[0m\u001b[0mdrop_variables\u001b[0m\u001b[0;34m,\u001b[0m\u001b[0;34m\u001b[0m\u001b[0;34m\u001b[0m\u001b[0m\n\u001b[1;32m    498\u001b[0m         \u001b[0;34m**\u001b[0m\u001b[0mdecoders\u001b[0m\u001b[0;34m,\u001b[0m\u001b[0;34m\u001b[0m\u001b[0;34m\u001b[0m\u001b[0m\n\u001b[0;32m--> 499\u001b[0;31m         \u001b[0;34m**\u001b[0m\u001b[0mkwargs\u001b[0m\u001b[0;34m,\u001b[0m\u001b[0;34m\u001b[0m\u001b[0;34m\u001b[0m\u001b[0m\n\u001b[0m\u001b[1;32m    500\u001b[0m     )\n\u001b[1;32m    501\u001b[0m     ds = _dataset_from_backend_dataset(\n",
      "\u001b[0;32m/dodrio/scratch/projects/2022_200/project_output/rcs/software/miniconda3/envs/ctsm_pylib/lib/python3.7/site-packages/xarray/backends/netCDF4_.py\u001b[0m in \u001b[0;36mopen_dataset\u001b[0;34m(self, filename_or_obj, mask_and_scale, decode_times, concat_characters, decode_coords, drop_variables, use_cftime, decode_timedelta, group, mode, format, clobber, diskless, persist, lock, autoclose)\u001b[0m\n\u001b[1;32m    557\u001b[0m             \u001b[0mpersist\u001b[0m\u001b[0;34m=\u001b[0m\u001b[0mpersist\u001b[0m\u001b[0;34m,\u001b[0m\u001b[0;34m\u001b[0m\u001b[0;34m\u001b[0m\u001b[0m\n\u001b[1;32m    558\u001b[0m             \u001b[0mlock\u001b[0m\u001b[0;34m=\u001b[0m\u001b[0mlock\u001b[0m\u001b[0;34m,\u001b[0m\u001b[0;34m\u001b[0m\u001b[0;34m\u001b[0m\u001b[0m\n\u001b[0;32m--> 559\u001b[0;31m             \u001b[0mautoclose\u001b[0m\u001b[0;34m=\u001b[0m\u001b[0mautoclose\u001b[0m\u001b[0;34m,\u001b[0m\u001b[0;34m\u001b[0m\u001b[0;34m\u001b[0m\u001b[0m\n\u001b[0m\u001b[1;32m    560\u001b[0m         )\n\u001b[1;32m    561\u001b[0m \u001b[0;34m\u001b[0m\u001b[0m\n",
      "\u001b[0;32m/dodrio/scratch/projects/2022_200/project_output/rcs/software/miniconda3/envs/ctsm_pylib/lib/python3.7/site-packages/xarray/backends/netCDF4_.py\u001b[0m in \u001b[0;36mopen\u001b[0;34m(cls, filename, mode, format, group, clobber, diskless, persist, lock, lock_maker, autoclose)\u001b[0m\n\u001b[1;32m    377\u001b[0m             \u001b[0mnetCDF4\u001b[0m\u001b[0;34m.\u001b[0m\u001b[0mDataset\u001b[0m\u001b[0;34m,\u001b[0m \u001b[0mfilename\u001b[0m\u001b[0;34m,\u001b[0m \u001b[0mmode\u001b[0m\u001b[0;34m=\u001b[0m\u001b[0mmode\u001b[0m\u001b[0;34m,\u001b[0m \u001b[0mkwargs\u001b[0m\u001b[0;34m=\u001b[0m\u001b[0mkwargs\u001b[0m\u001b[0;34m\u001b[0m\u001b[0;34m\u001b[0m\u001b[0m\n\u001b[1;32m    378\u001b[0m         )\n\u001b[0;32m--> 379\u001b[0;31m         \u001b[0;32mreturn\u001b[0m \u001b[0mcls\u001b[0m\u001b[0;34m(\u001b[0m\u001b[0mmanager\u001b[0m\u001b[0;34m,\u001b[0m \u001b[0mgroup\u001b[0m\u001b[0;34m=\u001b[0m\u001b[0mgroup\u001b[0m\u001b[0;34m,\u001b[0m \u001b[0mmode\u001b[0m\u001b[0;34m=\u001b[0m\u001b[0mmode\u001b[0m\u001b[0;34m,\u001b[0m \u001b[0mlock\u001b[0m\u001b[0;34m=\u001b[0m\u001b[0mlock\u001b[0m\u001b[0;34m,\u001b[0m \u001b[0mautoclose\u001b[0m\u001b[0;34m=\u001b[0m\u001b[0mautoclose\u001b[0m\u001b[0;34m)\u001b[0m\u001b[0;34m\u001b[0m\u001b[0;34m\u001b[0m\u001b[0m\n\u001b[0m\u001b[1;32m    380\u001b[0m \u001b[0;34m\u001b[0m\u001b[0m\n\u001b[1;32m    381\u001b[0m     \u001b[0;32mdef\u001b[0m \u001b[0m_acquire\u001b[0m\u001b[0;34m(\u001b[0m\u001b[0mself\u001b[0m\u001b[0;34m,\u001b[0m \u001b[0mneeds_lock\u001b[0m\u001b[0;34m=\u001b[0m\u001b[0;32mTrue\u001b[0m\u001b[0;34m)\u001b[0m\u001b[0;34m:\u001b[0m\u001b[0;34m\u001b[0m\u001b[0;34m\u001b[0m\u001b[0m\n",
      "\u001b[0;32m/dodrio/scratch/projects/2022_200/project_output/rcs/software/miniconda3/envs/ctsm_pylib/lib/python3.7/site-packages/xarray/backends/netCDF4_.py\u001b[0m in \u001b[0;36m__init__\u001b[0;34m(self, manager, group, mode, lock, autoclose)\u001b[0m\n\u001b[1;32m    325\u001b[0m         \u001b[0mself\u001b[0m\u001b[0;34m.\u001b[0m\u001b[0m_group\u001b[0m \u001b[0;34m=\u001b[0m \u001b[0mgroup\u001b[0m\u001b[0;34m\u001b[0m\u001b[0;34m\u001b[0m\u001b[0m\n\u001b[1;32m    326\u001b[0m         \u001b[0mself\u001b[0m\u001b[0;34m.\u001b[0m\u001b[0m_mode\u001b[0m \u001b[0;34m=\u001b[0m \u001b[0mmode\u001b[0m\u001b[0;34m\u001b[0m\u001b[0;34m\u001b[0m\u001b[0m\n\u001b[0;32m--> 327\u001b[0;31m         \u001b[0mself\u001b[0m\u001b[0;34m.\u001b[0m\u001b[0mformat\u001b[0m \u001b[0;34m=\u001b[0m \u001b[0mself\u001b[0m\u001b[0;34m.\u001b[0m\u001b[0mds\u001b[0m\u001b[0;34m.\u001b[0m\u001b[0mdata_model\u001b[0m\u001b[0;34m\u001b[0m\u001b[0;34m\u001b[0m\u001b[0m\n\u001b[0m\u001b[1;32m    328\u001b[0m         \u001b[0mself\u001b[0m\u001b[0;34m.\u001b[0m\u001b[0m_filename\u001b[0m \u001b[0;34m=\u001b[0m \u001b[0mself\u001b[0m\u001b[0;34m.\u001b[0m\u001b[0mds\u001b[0m\u001b[0;34m.\u001b[0m\u001b[0mfilepath\u001b[0m\u001b[0;34m(\u001b[0m\u001b[0;34m)\u001b[0m\u001b[0;34m\u001b[0m\u001b[0;34m\u001b[0m\u001b[0m\n\u001b[1;32m    329\u001b[0m         \u001b[0mself\u001b[0m\u001b[0;34m.\u001b[0m\u001b[0mis_remote\u001b[0m \u001b[0;34m=\u001b[0m \u001b[0mis_remote_uri\u001b[0m\u001b[0;34m(\u001b[0m\u001b[0mself\u001b[0m\u001b[0;34m.\u001b[0m\u001b[0m_filename\u001b[0m\u001b[0;34m)\u001b[0m\u001b[0;34m\u001b[0m\u001b[0;34m\u001b[0m\u001b[0m\n",
      "\u001b[0;32m/dodrio/scratch/projects/2022_200/project_output/rcs/software/miniconda3/envs/ctsm_pylib/lib/python3.7/site-packages/xarray/backends/netCDF4_.py\u001b[0m in \u001b[0;36mds\u001b[0;34m(self)\u001b[0m\n\u001b[1;32m    386\u001b[0m     \u001b[0;34m@\u001b[0m\u001b[0mproperty\u001b[0m\u001b[0;34m\u001b[0m\u001b[0;34m\u001b[0m\u001b[0m\n\u001b[1;32m    387\u001b[0m     \u001b[0;32mdef\u001b[0m \u001b[0mds\u001b[0m\u001b[0;34m(\u001b[0m\u001b[0mself\u001b[0m\u001b[0;34m)\u001b[0m\u001b[0;34m:\u001b[0m\u001b[0;34m\u001b[0m\u001b[0;34m\u001b[0m\u001b[0m\n\u001b[0;32m--> 388\u001b[0;31m         \u001b[0;32mreturn\u001b[0m \u001b[0mself\u001b[0m\u001b[0;34m.\u001b[0m\u001b[0m_acquire\u001b[0m\u001b[0;34m(\u001b[0m\u001b[0;34m)\u001b[0m\u001b[0;34m\u001b[0m\u001b[0;34m\u001b[0m\u001b[0m\n\u001b[0m\u001b[1;32m    389\u001b[0m \u001b[0;34m\u001b[0m\u001b[0m\n\u001b[1;32m    390\u001b[0m     \u001b[0;32mdef\u001b[0m \u001b[0mopen_store_variable\u001b[0m\u001b[0;34m(\u001b[0m\u001b[0mself\u001b[0m\u001b[0;34m,\u001b[0m \u001b[0mname\u001b[0m\u001b[0;34m,\u001b[0m \u001b[0mvar\u001b[0m\u001b[0;34m)\u001b[0m\u001b[0;34m:\u001b[0m\u001b[0;34m\u001b[0m\u001b[0;34m\u001b[0m\u001b[0m\n",
      "\u001b[0;32m/dodrio/scratch/projects/2022_200/project_output/rcs/software/miniconda3/envs/ctsm_pylib/lib/python3.7/site-packages/xarray/backends/netCDF4_.py\u001b[0m in \u001b[0;36m_acquire\u001b[0;34m(self, needs_lock)\u001b[0m\n\u001b[1;32m    380\u001b[0m \u001b[0;34m\u001b[0m\u001b[0m\n\u001b[1;32m    381\u001b[0m     \u001b[0;32mdef\u001b[0m \u001b[0m_acquire\u001b[0m\u001b[0;34m(\u001b[0m\u001b[0mself\u001b[0m\u001b[0;34m,\u001b[0m \u001b[0mneeds_lock\u001b[0m\u001b[0;34m=\u001b[0m\u001b[0;32mTrue\u001b[0m\u001b[0;34m)\u001b[0m\u001b[0;34m:\u001b[0m\u001b[0;34m\u001b[0m\u001b[0;34m\u001b[0m\u001b[0m\n\u001b[0;32m--> 382\u001b[0;31m         \u001b[0;32mwith\u001b[0m \u001b[0mself\u001b[0m\u001b[0;34m.\u001b[0m\u001b[0m_manager\u001b[0m\u001b[0;34m.\u001b[0m\u001b[0macquire_context\u001b[0m\u001b[0;34m(\u001b[0m\u001b[0mneeds_lock\u001b[0m\u001b[0;34m)\u001b[0m \u001b[0;32mas\u001b[0m \u001b[0mroot\u001b[0m\u001b[0;34m:\u001b[0m\u001b[0;34m\u001b[0m\u001b[0;34m\u001b[0m\u001b[0m\n\u001b[0m\u001b[1;32m    383\u001b[0m             \u001b[0mds\u001b[0m \u001b[0;34m=\u001b[0m \u001b[0m_nc4_require_group\u001b[0m\u001b[0;34m(\u001b[0m\u001b[0mroot\u001b[0m\u001b[0;34m,\u001b[0m \u001b[0mself\u001b[0m\u001b[0;34m.\u001b[0m\u001b[0m_group\u001b[0m\u001b[0;34m,\u001b[0m \u001b[0mself\u001b[0m\u001b[0;34m.\u001b[0m\u001b[0m_mode\u001b[0m\u001b[0;34m)\u001b[0m\u001b[0;34m\u001b[0m\u001b[0;34m\u001b[0m\u001b[0m\n\u001b[1;32m    384\u001b[0m         \u001b[0;32mreturn\u001b[0m \u001b[0mds\u001b[0m\u001b[0;34m\u001b[0m\u001b[0;34m\u001b[0m\u001b[0m\n",
      "\u001b[0;32m/dodrio/scratch/projects/2022_200/project_output/rcs/software/miniconda3/envs/ctsm_pylib/lib/python3.7/contextlib.py\u001b[0m in \u001b[0;36m__enter__\u001b[0;34m(self)\u001b[0m\n\u001b[1;32m    110\u001b[0m         \u001b[0;32mdel\u001b[0m \u001b[0mself\u001b[0m\u001b[0;34m.\u001b[0m\u001b[0margs\u001b[0m\u001b[0;34m,\u001b[0m \u001b[0mself\u001b[0m\u001b[0;34m.\u001b[0m\u001b[0mkwds\u001b[0m\u001b[0;34m,\u001b[0m \u001b[0mself\u001b[0m\u001b[0;34m.\u001b[0m\u001b[0mfunc\u001b[0m\u001b[0;34m\u001b[0m\u001b[0;34m\u001b[0m\u001b[0m\n\u001b[1;32m    111\u001b[0m         \u001b[0;32mtry\u001b[0m\u001b[0;34m:\u001b[0m\u001b[0;34m\u001b[0m\u001b[0;34m\u001b[0m\u001b[0m\n\u001b[0;32m--> 112\u001b[0;31m             \u001b[0;32mreturn\u001b[0m \u001b[0mnext\u001b[0m\u001b[0;34m(\u001b[0m\u001b[0mself\u001b[0m\u001b[0;34m.\u001b[0m\u001b[0mgen\u001b[0m\u001b[0;34m)\u001b[0m\u001b[0;34m\u001b[0m\u001b[0;34m\u001b[0m\u001b[0m\n\u001b[0m\u001b[1;32m    113\u001b[0m         \u001b[0;32mexcept\u001b[0m \u001b[0mStopIteration\u001b[0m\u001b[0;34m:\u001b[0m\u001b[0;34m\u001b[0m\u001b[0;34m\u001b[0m\u001b[0m\n\u001b[1;32m    114\u001b[0m             \u001b[0;32mraise\u001b[0m \u001b[0mRuntimeError\u001b[0m\u001b[0;34m(\u001b[0m\u001b[0;34m\"generator didn't yield\"\u001b[0m\u001b[0;34m)\u001b[0m \u001b[0;32mfrom\u001b[0m \u001b[0;32mNone\u001b[0m\u001b[0;34m\u001b[0m\u001b[0;34m\u001b[0m\u001b[0m\n",
      "\u001b[0;32m/dodrio/scratch/projects/2022_200/project_output/rcs/software/miniconda3/envs/ctsm_pylib/lib/python3.7/site-packages/xarray/backends/file_manager.py\u001b[0m in \u001b[0;36macquire_context\u001b[0;34m(self, needs_lock)\u001b[0m\n\u001b[1;32m    185\u001b[0m     \u001b[0;32mdef\u001b[0m \u001b[0macquire_context\u001b[0m\u001b[0;34m(\u001b[0m\u001b[0mself\u001b[0m\u001b[0;34m,\u001b[0m \u001b[0mneeds_lock\u001b[0m\u001b[0;34m=\u001b[0m\u001b[0;32mTrue\u001b[0m\u001b[0;34m)\u001b[0m\u001b[0;34m:\u001b[0m\u001b[0;34m\u001b[0m\u001b[0;34m\u001b[0m\u001b[0m\n\u001b[1;32m    186\u001b[0m         \u001b[0;34m\"\"\"Context manager for acquiring a file.\"\"\"\u001b[0m\u001b[0;34m\u001b[0m\u001b[0;34m\u001b[0m\u001b[0m\n\u001b[0;32m--> 187\u001b[0;31m         \u001b[0mfile\u001b[0m\u001b[0;34m,\u001b[0m \u001b[0mcached\u001b[0m \u001b[0;34m=\u001b[0m \u001b[0mself\u001b[0m\u001b[0;34m.\u001b[0m\u001b[0m_acquire_with_cache_info\u001b[0m\u001b[0;34m(\u001b[0m\u001b[0mneeds_lock\u001b[0m\u001b[0;34m)\u001b[0m\u001b[0;34m\u001b[0m\u001b[0;34m\u001b[0m\u001b[0m\n\u001b[0m\u001b[1;32m    188\u001b[0m         \u001b[0;32mtry\u001b[0m\u001b[0;34m:\u001b[0m\u001b[0;34m\u001b[0m\u001b[0;34m\u001b[0m\u001b[0m\n\u001b[1;32m    189\u001b[0m             \u001b[0;32myield\u001b[0m \u001b[0mfile\u001b[0m\u001b[0;34m\u001b[0m\u001b[0;34m\u001b[0m\u001b[0m\n",
      "\u001b[0;32m/dodrio/scratch/projects/2022_200/project_output/rcs/software/miniconda3/envs/ctsm_pylib/lib/python3.7/site-packages/xarray/backends/file_manager.py\u001b[0m in \u001b[0;36m_acquire_with_cache_info\u001b[0;34m(self, needs_lock)\u001b[0m\n\u001b[1;32m    203\u001b[0m                     \u001b[0mkwargs\u001b[0m \u001b[0;34m=\u001b[0m \u001b[0mkwargs\u001b[0m\u001b[0;34m.\u001b[0m\u001b[0mcopy\u001b[0m\u001b[0;34m(\u001b[0m\u001b[0;34m)\u001b[0m\u001b[0;34m\u001b[0m\u001b[0;34m\u001b[0m\u001b[0m\n\u001b[1;32m    204\u001b[0m                     \u001b[0mkwargs\u001b[0m\u001b[0;34m[\u001b[0m\u001b[0;34m\"mode\"\u001b[0m\u001b[0;34m]\u001b[0m \u001b[0;34m=\u001b[0m \u001b[0mself\u001b[0m\u001b[0;34m.\u001b[0m\u001b[0m_mode\u001b[0m\u001b[0;34m\u001b[0m\u001b[0;34m\u001b[0m\u001b[0m\n\u001b[0;32m--> 205\u001b[0;31m                 \u001b[0mfile\u001b[0m \u001b[0;34m=\u001b[0m \u001b[0mself\u001b[0m\u001b[0;34m.\u001b[0m\u001b[0m_opener\u001b[0m\u001b[0;34m(\u001b[0m\u001b[0;34m*\u001b[0m\u001b[0mself\u001b[0m\u001b[0;34m.\u001b[0m\u001b[0m_args\u001b[0m\u001b[0;34m,\u001b[0m \u001b[0;34m**\u001b[0m\u001b[0mkwargs\u001b[0m\u001b[0;34m)\u001b[0m\u001b[0;34m\u001b[0m\u001b[0;34m\u001b[0m\u001b[0m\n\u001b[0m\u001b[1;32m    206\u001b[0m                 \u001b[0;32mif\u001b[0m \u001b[0mself\u001b[0m\u001b[0;34m.\u001b[0m\u001b[0m_mode\u001b[0m \u001b[0;34m==\u001b[0m \u001b[0;34m\"w\"\u001b[0m\u001b[0;34m:\u001b[0m\u001b[0;34m\u001b[0m\u001b[0;34m\u001b[0m\u001b[0m\n\u001b[1;32m    207\u001b[0m                     \u001b[0;31m# ensure file doesn't get overriden when opened again\u001b[0m\u001b[0;34m\u001b[0m\u001b[0;34m\u001b[0m\u001b[0;34m\u001b[0m\u001b[0m\n",
      "\u001b[0;32msrc/netCDF4/_netCDF4.pyx\u001b[0m in \u001b[0;36mnetCDF4._netCDF4.Dataset.__init__\u001b[0;34m()\u001b[0m\n",
      "\u001b[0;32msrc/netCDF4/_netCDF4.pyx\u001b[0m in \u001b[0;36mnetCDF4._netCDF4._ensure_nc_success\u001b[0;34m()\u001b[0m\n",
      "\u001b[0;31mFileNotFoundError\u001b[0m: [Errno 2] No such file or directory: b'/scratch/snx3000/ivanderk/CCLM2_inputdata/cesm_inputdata/CTSM_hcru_inputdata/surfdata_360x720cru_hist_16pfts_CMIP6_2000_c230915.nc'"
     ]
    }
   ],
   "source": [
    "# directory settings\n",
    "inputdir = '/scratch/snx3000/ivanderk/CCLM2_inputdata/cesm_inputdata/CTSM_hcru_inputdata/'\n",
    "\n",
    "filename_ctsm52 = 'surfdata_360x720cru_hist_16pfts_CMIP6_2000_c230915.nc'\n",
    "filename_clm5 = 'surfdata_360x720cru_16pfts_Irrig_CMIP6_simyr2000_c170824.nc'\n",
    "ds_input_ctsm52 = xr.open_dataset(inputdir+filename_ctsm52)\n",
    "\n",
    "da_grassland = ds_input_ctsm52['PCT_NAT_PFT'].sel(natpft=13) + ds_input_ctsm52['PCT_NAT_PFT'].sel(natpft=14)\n",
    "\n",
    "gridarea = xr.open_dataset('/scratch/snx3000/ivanderk/processing_4p1000/gridarea_0.5x0.5.nc')['cell_area']"
   ]
  },
  {
   "cell_type": "code",
   "execution_count": null,
   "id": "962604ab-c677-4f59-ab3f-570619e68bd9",
   "metadata": {
    "tags": []
   },
   "outputs": [],
   "source": [
    "# for plotting purposes\n",
    "\n",
    "# import case that has been run for longitude and latitude\n",
    "\n",
    "# case settings\n",
    "case_ctl = 'I2000Clm51Sp.hcru_hcru_mt13.4p1000_CTL.20230714-1828'\n",
    "# I2000Clm51Sp.hcru_hcru_mt13.4p1000_CTL_pft.20230712-1723\n",
    "\n",
    "case = case_ctl\n",
    "block = \"lnd\"\n",
    "stream = \"h0\"\n",
    "\n",
    "variables = [\"watsat\", \"H2OSOI\" ]\n",
    "\n",
    "start_year = 2004\n",
    "end_year = 2004\n",
    "\n",
    "time_slice = slice(str(start_year) + \"-01-01\", str(end_year) + \"-12-01\")\n",
    "\n",
    "ds = import_case(case_ctl, myVars=variables, timeSlice=time_slice,  alter_lons=False)\n",
    "\n",
    "# hydrologically active soil layers (constraint by varying bedrock depths) all in meters\n",
    "\n",
    "# middle of soil layer: layer node depth (zi)\n",
    "levsoi = ds['levsoi'].values\n",
    "\n",
    "# tickness at soil layer - delta zi - from CLM user's guide Table 2.3 \n",
    "levsoi_thickness = [0.02,0.04,0.6,0.8,0.12,0.16,0.2,0.24,0.28,0.32,0.36,0.4,0.44,0.54,0.64,0.74,0.84,0.94,1.04,1.14]\n",
    "\n",
    "# depth at soil layer zh,i  - from CLM user's guide Table 2.3 \n",
    "levsoi_depth     = [0.02,0.06,0.12,0.2,0.32,0.48,0.68,0.92,1.2,1.52,1.88,2.28,2.72,3.26,3.9,4.64,5.48,6.42,7.46,8.6]\n",
    "\n",
    "\n",
    "# all soil layers (deepest 5 layers are for thermodynamical calculations)\n",
    "levgrnd = ds['levgrnd'].values\n",
    "\n",
    "# tickness at soil layer - delta zi - from CLM user's guide Table 2.3 \n",
    "levgrnd_thickness = [0.02,0.04,0.6,0.8,0.12,0.16,0.2,0.24,0.28,0.32,0.36,0.4,0.44,0.54,0.64,0.74,0.84,0.94,1.04,1.14,2.39,4.676,7.635,11.14,15.115]\n",
    "\n",
    "# depth at soil layer zh,i  - from CLM user's guide Table 2.3 \n",
    "levgrnd_depth = [0.02,0.06,0.12,0.2,0.32,0.48,0.68,0.92,1.2,1.52,1.88,2.28,2.72,3.26,3.9,4.64,5.48,6.42,7.46,8.6,10.99,15.666,23.301,34.441,49.556]\n",
    "\n"
   ]
  },
  {
   "cell_type": "code",
   "execution_count": null,
   "id": "210fcbdd-f75d-4434-baa6-5d13ae6948cd",
   "metadata": {},
   "outputs": [],
   "source": [
    "landmask = (ds['watsat']>=0)[0,0,:,:].squeeze()\n",
    "\n",
    "da_grassland_toplot =  da_grassland.assign_coords(lsmlat= (ds['watsat'].lat.values)).assign_coords(lsmlon= (ds['watsat'].lon.values)).rename({'lsmlon':'lon', 'lsmlat':'lat'})\n",
    "gridarea_toplot = gridarea.assign_coords(lat= (ds['watsat'].lat.values)).assign_coords(lon= (ds['watsat'].lon.values))\n",
    "plt.figure(figsize=(12,5))\n",
    "proj=ccrs.PlateCarree()\n",
    "ax = plt.subplot(111, projection=proj)\n",
    "# limiting values for plotting are given    \n",
    "levels = np.concatenate([np.array([0,1]),(np.arange(10,110,10))])\n",
    "da_grassland_toplot.where(landmask).plot(ax=ax, cmap='gist_earth_r', cbar_kwargs={'label': ' %', 'fraction': 0.02, 'pad': 0.04, 'ticks':levels}, levels=levels)\n",
    "ax.set_title(' ', loc='center')\n",
    "ax.set_title('Percent grassland of gridcell', loc='right')\n",
    "ax.coastlines(color='dimgray', linewidth=0.5)\n",
    "\n",
    "# exclude Antactica from plot\n",
    "ax.set_extent((-180,180,-63,90), crs=proj);\n",
    "ax.axis('off')"
   ]
  },
  {
   "cell_type": "code",
   "execution_count": null,
   "id": "7b91ec13-96d7-41fa-9b35-5d70605c468d",
   "metadata": {},
   "outputs": [],
   "source": [
    "((da_grassland_toplot * gridarea_toplot)/1e4).plot() #ha"
   ]
  },
  {
   "cell_type": "markdown",
   "id": "8fb22945-ceb7-40ea-9e16-ca1f8fc1b462",
   "metadata": {},
   "source": [
    "## EXTRA: model global carbon sequestration scenarios of Sommer and Bosio, 2014"
   ]
  },
  {
   "cell_type": "code",
   "execution_count": null,
   "id": "de6a859c-8bf6-49e4-863a-6b41f1cb2283",
   "metadata": {},
   "outputs": [],
   "source": [
    "import numpy as np\n",
    "import matplotlib.pyplot as plt"
   ]
  },
  {
   "cell_type": "code",
   "execution_count": null,
   "id": "1e44d348-3949-4b55-949a-34d3a752a750",
   "metadata": {},
   "outputs": [],
   "source": [
    "## INITIALISATION\n",
    "\n",
    "# initial soil organic carbon content (%)\n",
    "SOC_0 = {}\n",
    "\n",
    "# empirical constants\n",
    "a = {}\n",
    "b = {}\n",
    "\n",
    "# year with highest annual sequestration rate\n",
    "t0 = {} \n",
    "\n",
    "# soil organic carbon sequestration per year\n",
    "# THIS DOES NOT INFLUENCE RATES !!!\n",
    "SOC = {}\n",
    "\n",
    "\n",
    "# assumed soil bulk density: 1.3 g/cm3"
   ]
  },
  {
   "cell_type": "code",
   "execution_count": null,
   "id": "7788b4fc-ac70-4c79-9208-66e29d08689c",
   "metadata": {},
   "outputs": [],
   "source": [
    "## ADDING CONSTANTS\n",
    "# based on Table 1\n",
    "\n",
    "scenarios = ['low','medium','high']\n",
    "\n",
    "a['low'] = 0.350 \n",
    "b['low'] = 11.5\n",
    "t0['low'] = 3\n",
    "SOC_0['low'] = 0.85\n",
    "\n",
    "a['medium'] = 0.697\n",
    "b['medium'] = 11.5\n",
    "t0['medium'] = 4\n",
    "SOC_0['medium'] = 0.71\n",
    "\n",
    "a['high'] = 1.202\n",
    "b['high'] = 9.8\n",
    "t0['high'] = 7\n",
    "SOC_0['high'] = 0.6"
   ]
  },
  {
   "cell_type": "code",
   "execution_count": null,
   "id": "5359f727-0898-4f31-b345-348a3e396d32",
   "metadata": {},
   "outputs": [],
   "source": [
    "t = np.arange(0,51,1)"
   ]
  },
  {
   "cell_type": "code",
   "execution_count": null,
   "id": "d4fa49f8-c8e8-4889-8f28-cd0a50c50ce6",
   "metadata": {},
   "outputs": [],
   "source": [
    "scenario = 'high'"
   ]
  },
  {
   "cell_type": "code",
   "execution_count": null,
   "id": "86700ff8-1f32-4587-9e1c-916ed8ce2059",
   "metadata": {},
   "outputs": [],
   "source": [
    "for scenario in scenarios: \n",
    "\n",
    "    SOC[scenario] = SOC_0[scenario]  + a[scenario] / (1+np.exp(- (t-t0[scenario])/b[scenario]))"
   ]
  },
  {
   "cell_type": "code",
   "execution_count": null,
   "id": "bf4de373-267e-42bd-b368-9cf07614c795",
   "metadata": {},
   "outputs": [],
   "source": [
    "fig,ax= plt.subplots()\n",
    "\n",
    "for scenario in scenarios: \n",
    "    ax.plot(t,SOC[scenario], label=scenario)\n",
    "ax.legend()\n",
    "ax.set_ylabel('Soil Organic carbon (%)')\n",
    "ax.set_title('Increase in SOC', loc='right')\n",
    "ax.set_xlabel('year')\n",
    "ax.axvline(x=20, ymin=0, ymax=1, color='gray')\n",
    "ax.set_xlim([0,np.max(t)])"
   ]
  },
  {
   "cell_type": "code",
   "execution_count": null,
   "id": "74f7347d-6916-4fb7-92d0-b08be4744e30",
   "metadata": {},
   "outputs": [],
   "source": []
  },
  {
   "cell_type": "code",
   "execution_count": null,
   "id": "eb9f173b-bcb2-47ef-8336-e94745eef6cf",
   "metadata": {},
   "outputs": [],
   "source": []
  }
 ],
 "metadata": {
  "kernelspec": {
   "display_name": "ctsm_pylib",
   "language": "python",
   "name": "python3"
  },
  "language_info": {
   "codemirror_mode": {
    "name": "ipython",
    "version": 3
   },
   "file_extension": ".py",
   "mimetype": "text/x-python",
   "name": "python",
   "nbconvert_exporter": "python",
   "pygments_lexer": "ipython3",
   "version": "3.7.9"
  }
 },
 "nbformat": 4,
 "nbformat_minor": 5
}
