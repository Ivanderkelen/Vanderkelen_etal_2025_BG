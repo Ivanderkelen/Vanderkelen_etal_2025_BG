{
 "cells": [
  {
   "cell_type": "markdown",
   "id": "97f79593-f3f5-405c-9947-c705359b7629",
   "metadata": {},
   "source": [
    "# Scenario design of experiments"
   ]
  },
  {
   "cell_type": "markdown",
   "id": "d4011118-ce66-4d44-bed8-f454b9811ea7",
   "metadata": {},
   "source": [
    "*Open questions* / TO DOs\n",
    "\n",
    "- ORGANIC in CLM inputdataset: for all LUTypes? Different simulations with different datasets if per dataset\n",
    "- Grasslands? Low estimate of Sommer and Bosio? In what values does this result? \n"
   ]
  },
  {
   "cell_type": "markdown",
   "id": "c78ed201-a919-4951-a37c-c0a252c4dbca",
   "metadata": {
    "jp-MarkdownHeadingCollapsed": true,
    "tags": []
   },
   "source": [
    "## 0. Simulation set up: Open questions\n",
    "\n",
    "- Separate PFT columns? \n",
    "- Irrigation? \n",
    "- I2000CLMSP? \n",
    "- Time period: 20 years? \n",
    "- input maps with increased SOM. "
   ]
  },
  {
   "cell_type": "markdown",
   "id": "1580a4ea-c58b-4a45-9338-2ef1c6d751d8",
   "metadata": {
    "tags": []
   },
   "source": [
    "## 1. soil organic carbon increase on CROPLANDS"
   ]
  },
  {
   "cell_type": "markdown",
   "id": "b4ca710e-28dd-4b06-9de9-63ef69ad676a",
   "metadata": {},
   "source": [
    "Based on Zomer et al 2017 scenarios. \n",
    "(based on SOILGRIDS 250 m) \n",
    "\n",
    "Soil organic increase after **20 years** in **croplands**, first **30 cm**. \n",
    "\n",
    "! Assumption: *\"An implicit basic assumption is that in general, 50 to 70% of soil carbon stocks have been lost in cultivated soils6,15,17, such that the SOC status of almost all cultivated soils can be increased. It is expected that these cropped soils will be able to sequester carbon for at least 20 years before reaching saturation points and new SOC equilibriums.\"*\n",
    "\n",
    "### Three possibilities\n",
    "#### 1. Relative increase in SOC using same method\n",
    "\n",
    "Take scenarios from Sommer et Bosio, 2014: global increase in SOC (%). \n",
    "\n",
    "Apply same method of Zomer et al 2017 to WISE data on which CLM is based.\n",
    "\n",
    "- convert CLM ORGANIC to soil organic carbon content or SOC% (ORG C); [g C/g soil]\n",
    "- Apply percent increase after 20 years from Sommer and Bosio, 2014\n",
    "   \n",
    "    Two scenarios, increase after 20 years in first 30 centimenters\n",
    "        - Medium %increase = 0.27 % \n",
    "        - High %increase = 0.55 %\n",
    "        - Potentially also 4p1000 = 0.8 % (at which depth?)\n",
    "\n",
    "\n",
    "```\n",
    "ORGC_h_20 =  ORGC_h + %increase\n",
    "```\n",
    "\n",
    "    Integrate for different soil levels: CLM until 30 cm: First 5 soil levels!\n",
    "    \n",
    "```\n",
    "ORGC_20 =  ORGC_h1_20 + ORGC_h2_20 + ORGC_h3_20\n",
    "```\n",
    "        \n",
    "*Sanity check: compare amounts aggregated over countries/continents with Zomer et al 2017. (both increases as absolute amounts)*  \n",
    "\n",
    "#### 2. (a) Absolute increase\n",
    "\n",
    "- aggregate absolute SOC *increase* datasets for both scenarios (not potential) frm 250m to 0.5°\n",
    "- Add absolute increase to CLM WISE data to obtain SOC in 20 years\n",
    "- replace future CLM SOM inputdata in 20 years for croplands ONLY\n",
    "\n",
    "Disadvantage: loss of consistency of SOM for different LUtypes (combination with grassland scenarios) Not important if analysed seperately in single grid cell columns, computationally expensive. \n",
    "\n",
    "\n",
    "#### 2. (b) Absolute amounts and increase\n",
    "- aggregate both absolute SOC *today* and *potential in 20 years* datasets for both scenarios from 250m to 0.5°\n",
    "- replace input data for CLM for croplands only. \n"
   ]
  },
  {
   "cell_type": "markdown",
   "id": "a08435ce-8e8a-44e7-b71f-5aad7e4d0cb9",
   "metadata": {},
   "source": [
    "## unit conversion"
   ]
  },
  {
   "cell_type": "markdown",
   "id": "e18a3096-6dbf-4231-a926-1cc7eec974a1",
   "metadata": {},
   "source": [
    "WISE data integration in CLM\n",
    "\n",
    "Copied from https://github.com/ESCOMP/CTSM/issues/1303#issuecomment-1103295279\n",
    "\n",
    "ORGANIC using the same mapping unit information being used for texture.\n",
    "\n",
    "I'm used to thinking about calculating organic matter stocks (kg C/m2), but the model only cares about organic matter density (kg OM/m3)\n",
    "Technically, this should just be calculated on the fine earth fraction (1-coarse fragments).\n",
    "\n",
    "the WISE lookup table has all of this information\n",
    "\n",
    "| Property\t| units\t| long_name| \n",
    "|  -------  | ----- | -------- | \n",
    "| ORGC\t| gC kg^-1 soil\t| organic carbon content| \n",
    "| BULK\t| g soil cm^-3\t| bulk density| \n",
    "| CFRAG\t| volumetric, %\t| coarse fragment| \n",
    "\n",
    "\n",
    "Additionally we'll assume 1g OM = 0.58 gC. NOTE I have no idea where this conversion factor is from, but I'm assuming it was used for the old calculation of ORGANIC we've been using?\n",
    "\n",
    "Thus:\n",
    "\n",
    "```\n",
    "ORGANIC = ORGC*BULK*(100-CFRAG)/100  *1/0.58 \n",
    "```"
   ]
  },
  {
   "cell_type": "markdown",
   "id": "ffed15a5-0fdb-4210-a6d7-feecc1b768b5",
   "metadata": {},
   "source": [
    "**Convert CLM data to ORGC (organic carbon content)**\n",
    "\n",
    "```\n",
    "ORGC = 0.58 * ORGANIC*100 / (BULK*100-CFRAG)\n",
    "```\n",
    "\n",
    "combined with `ORGC_h_20 =  ORGC_h + ORGC_h * %increase`\n",
    "```\n",
    "\n",
    "```"
   ]
  },
  {
   "cell_type": "markdown",
   "id": "1c4ae0dd-52b2-4ebb-ba63-8f52a0b27f9b",
   "metadata": {},
   "source": [
    "## TEST possibility 1. "
   ]
  },
  {
   "cell_type": "code",
   "execution_count": null,
   "id": "ad0d36cf-4023-45af-a9dd-afc3dcb96145",
   "metadata": {},
   "outputs": [],
   "source": []
  },
  {
   "cell_type": "markdown",
   "id": "a688b40d-bac3-4b41-a166-ac1ee203d5fa",
   "metadata": {},
   "source": [
    "## 2. Soil organic carbon increase on GRASSLANDS (grazing)"
   ]
  },
  {
   "cell_type": "markdown",
   "id": "46040649-b0f0-4cba-ace9-0b3f31ba822a",
   "metadata": {},
   "source": [
    "- until what depth? "
   ]
  },
  {
   "cell_type": "markdown",
   "id": "f3fae2b7-062b-420a-9145-d9144ee21fa2",
   "metadata": {},
   "source": [
    "The low scenario in Sommer and Bossio (2014) was not used because it refers to sequestration rates estimated primarily for unimproved pasture land. (from Zomer et al., 2017)\n",
    "\n",
    "\n",
    "What do other papers say in terms of potential? Look for more papers? "
   ]
  },
  {
   "cell_type": "markdown",
   "id": "2a122442-8c27-409b-87f0-3e5435b61a98",
   "metadata": {},
   "source": [
    "##### From Bai et al. 2022: Science\n",
    "\n",
    "\"At the global scale, the mean theoretical, realistic, and achievable capacities of SOC sequestration with grassland restoration are estimated to be 10.2, 6.8, and 3.4 billion t CO2 equivalents per year (CO2e year−1)\" See Fig. 4 A"
   ]
  },
  {
   "cell_type": "markdown",
   "id": "f356fd91-fcb4-475d-a2a0-afd88c56c2f3",
   "metadata": {
    "tags": []
   },
   "source": [
    "##### Tessema et al. 2014 (Potential for soil organic carbon sequestration in grasslands in East African countries: A review)\n",
    "\n",
    "*six East African countries (Burundi, Ethiopia, Kenya, Rwanda, Tanzania and Uganda) \n",
    "\"In the studies reviewed, SOC stocks in grasslands range from 3 to 93 Mg C/ha in the upper 0.3 m of the soil profile, while SOC sequestration rate ranges from 0.1 to 3.1 Mg C ha -1 year-1 under different management strategies.\"*"
   ]
  },
  {
   "cell_type": "code",
   "execution_count": 1,
   "id": "193807f3-1676-44fb-a6af-bada1c75fc1b",
   "metadata": {},
   "outputs": [
    {
     "ename": "ImportError",
     "evalue": "libAtpSigHandler.so.1: cannot open shared object file: No such file or directory",
     "output_type": "error",
     "traceback": [
      "\u001b[0;31m---------------------------------------------------------------------------\u001b[0m",
      "\u001b[0;31mImportError\u001b[0m                               Traceback (most recent call last)",
      "Cell \u001b[0;32mIn[1], line 3\u001b[0m\n\u001b[1;32m      1\u001b[0m \u001b[38;5;28;01mimport\u001b[39;00m \u001b[38;5;21;01mnumpy\u001b[39;00m \u001b[38;5;28;01mas\u001b[39;00m \u001b[38;5;21;01mnp\u001b[39;00m\n\u001b[1;32m      2\u001b[0m \u001b[38;5;28;01mimport\u001b[39;00m \u001b[38;5;21;01mxarray\u001b[39;00m \u001b[38;5;28;01mas\u001b[39;00m \u001b[38;5;21;01mxr\u001b[39;00m\n\u001b[0;32m----> 3\u001b[0m \u001b[38;5;28;01mfrom\u001b[39;00m \u001b[38;5;21;01mctsm_py\u001b[39;00m\u001b[38;5;21;01m.\u001b[39;00m\u001b[38;5;21;01mutils\u001b[39;00m \u001b[38;5;28;01mimport\u001b[39;00m \u001b[38;5;241m*\u001b[39m\n\u001b[1;32m      5\u001b[0m \u001b[38;5;28;01mfrom\u001b[39;00m \u001b[38;5;21;01miv_utils_daint\u001b[39;00m \u001b[38;5;28;01mimport\u001b[39;00m \u001b[38;5;241m*\u001b[39m\n\u001b[1;32m      7\u001b[0m \u001b[38;5;66;03m# convert values from Bai et al. 2022\u001b[39;00m\n",
      "File \u001b[0;32m~/env_ctsm_py/ctsm_py/ctsm_py/utils.py:9\u001b[0m\n\u001b[1;32m      7\u001b[0m \u001b[38;5;28;01mimport\u001b[39;00m \u001b[38;5;21;01mnumpy\u001b[39;00m \u001b[38;5;28;01mas\u001b[39;00m \u001b[38;5;21;01mnp\u001b[39;00m\n\u001b[1;32m      8\u001b[0m \u001b[38;5;28;01mimport\u001b[39;00m \u001b[38;5;21;01mxarray\u001b[39;00m \u001b[38;5;28;01mas\u001b[39;00m \u001b[38;5;21;01mxr\u001b[39;00m\n\u001b[0;32m----> 9\u001b[0m \u001b[38;5;28;01mfrom\u001b[39;00m \u001b[38;5;21;01mcartopy\u001b[39;00m\u001b[38;5;21;01m.\u001b[39;00m\u001b[38;5;21;01mutil\u001b[39;00m \u001b[38;5;28;01mimport\u001b[39;00m add_cyclic_point\n\u001b[1;32m     11\u001b[0m \u001b[38;5;66;03m#from xr_ds_ex import xr_ds_ex\u001b[39;00m\n\u001b[1;32m     12\u001b[0m \n\u001b[1;32m     13\u001b[0m \u001b[38;5;66;03m# generate annual means, weighted by days / month\u001b[39;00m\n\u001b[1;32m     14\u001b[0m \u001b[38;5;28;01mdef\u001b[39;00m \u001b[38;5;21mweighted_annual_mean\u001b[39m(array, time_in\u001b[38;5;241m=\u001b[39m\u001b[38;5;124m'\u001b[39m\u001b[38;5;124mtime\u001b[39m\u001b[38;5;124m'\u001b[39m, time_out\u001b[38;5;241m=\u001b[39m\u001b[38;5;124m'\u001b[39m\u001b[38;5;124mtime\u001b[39m\u001b[38;5;124m'\u001b[39m):\n",
      "File \u001b[0;32m~/env_ctsm_py/env_ctsm_py/lib/python3.10/site-packages/cartopy/__init__.py:107\u001b[0m\n\u001b[1;32m    103\u001b[0m     \u001b[38;5;28;01mpass\u001b[39;00m\n\u001b[1;32m    105\u001b[0m \u001b[38;5;66;03m# Commonly used sub-modules. Imported here to provide end-user\u001b[39;00m\n\u001b[1;32m    106\u001b[0m \u001b[38;5;66;03m# convenience.\u001b[39;00m\n\u001b[0;32m--> 107\u001b[0m \u001b[38;5;28;01mimport\u001b[39;00m \u001b[38;5;21;01mcartopy\u001b[39;00m\u001b[38;5;21;01m.\u001b[39;00m\u001b[38;5;21;01mcrs\u001b[39;00m  \u001b[38;5;66;03m# noqa: E402  module-level imports\u001b[39;00m\n\u001b[1;32m    108\u001b[0m \u001b[38;5;28;01mimport\u001b[39;00m \u001b[38;5;21;01mcartopy\u001b[39;00m\u001b[38;5;21;01m.\u001b[39;00m\u001b[38;5;21;01mfeature\u001b[39;00m  \u001b[38;5;66;03m# noqa: E402,F401  (unused import)\u001b[39;00m\n",
      "File \u001b[0;32m~/env_ctsm_py/env_ctsm_py/lib/python3.10/site-packages/cartopy/crs.py:27\u001b[0m\n\u001b[1;32m     24\u001b[0m \u001b[38;5;28;01mfrom\u001b[39;00m \u001b[38;5;21;01mpyproj\u001b[39;00m\u001b[38;5;21;01m.\u001b[39;00m\u001b[38;5;21;01mexceptions\u001b[39;00m \u001b[38;5;28;01mimport\u001b[39;00m ProjError\n\u001b[1;32m     25\u001b[0m \u001b[38;5;28;01mfrom\u001b[39;00m \u001b[38;5;21;01mshapely\u001b[39;00m\u001b[38;5;21;01m.\u001b[39;00m\u001b[38;5;21;01mprepared\u001b[39;00m \u001b[38;5;28;01mimport\u001b[39;00m prep\n\u001b[0;32m---> 27\u001b[0m \u001b[38;5;28;01mimport\u001b[39;00m \u001b[38;5;21;01mcartopy\u001b[39;00m\u001b[38;5;21;01m.\u001b[39;00m\u001b[38;5;21;01mtrace\u001b[39;00m\n\u001b[1;32m     30\u001b[0m \u001b[38;5;28;01mtry\u001b[39;00m:\n\u001b[1;32m     31\u001b[0m     \u001b[38;5;66;03m# https://github.com/pyproj4/pyproj/pull/912\u001b[39;00m\n\u001b[1;32m     32\u001b[0m     \u001b[38;5;28;01mfrom\u001b[39;00m \u001b[38;5;21;01mpyproj\u001b[39;00m\u001b[38;5;21;01m.\u001b[39;00m\u001b[38;5;21;01mcrs\u001b[39;00m \u001b[38;5;28;01mimport\u001b[39;00m CustomConstructorCRS \u001b[38;5;28;01mas\u001b[39;00m _CRS\n",
      "\u001b[0;31mImportError\u001b[0m: libAtpSigHandler.so.1: cannot open shared object file: No such file or directory"
     ]
    }
   ],
   "source": [
    "import numpy as np\n",
    "import xarray as xr\n",
    "from ctsm_py.utils import *\n",
    "\n",
    "from iv_utils_daint import *\n",
    "\n",
    "# convert values from Bai et al. 2022\n",
    "\n",
    "grassland_co2eq = {}\n",
    "grassland_co2eq['theoretical'] = 10.2e9 # ton CO2eq /year)\n",
    "grassland_co2eq['realistic'] = 6.8e9 # ton CO2eq/year \n",
    "grassland_co2eq['achievable'] = 3.4e9 # ton CO2eq/year \n",
    "\n",
    "\n",
    "scenarios = list(grassland_co2eq.keys())\n",
    "grassland_carbon = {}\n",
    "# convert co2eq to gC: 1 ton of CO2 equivalent is equivalent to 12/44 tons of carbon (since the molecular weight of carbon is 12 and the molecular weight of CO2 is 44)\n",
    "for scenario in scenarios: \n",
    "    grassland_carbon[scenario] = grassland_co2eq[scenario]  * 1000000 *  (12/44)# gC/year\n",
    "\n",
    "print('Total carbon sequestration potential in grasslands per year')\n",
    "for scenario in scenarios: \n",
    "    print(str(np.round(grassland_carbon[scenario]/1e15,2)) +' Pg/year for '+scenario)\n",
    "print()\n",
    "print()\n",
    "print('Total carbon sequestration potential in grasslands after 20 years')\n",
    "for scenario in scenarios: \n",
    "    print(str(np.round(grassland_carbon[scenario]/1e15,2)*20) +' Pg for '+scenario)\n"
   ]
  },
  {
   "cell_type": "code",
   "execution_count": null,
   "id": "0c8f76cb-6339-4df8-be4b-894432299eb3",
   "metadata": {},
   "outputs": [],
   "source": [
    "# directory settings\n",
    "inputdir = '/scratch/snx3000/ivanderk/CCLM2_inputdata/cesm_inputdata/CTSM_hcru_inputdata/'\n",
    "\n",
    "filename_ctsm52 = 'surfdata_360x720cru_hist_16pfts_CMIP6_2000_c230915.nc'\n",
    "filename_clm5 = 'surfdata_360x720cru_16pfts_Irrig_CMIP6_simyr2000_c170824.nc'\n",
    "ds_input_ctsm52 = xr.open_dataset(inputdir+filename_ctsm52)\n",
    "\n",
    "da_grassland = ds_input_ctsm52['PCT_NAT_PFT'].sel(natpft=13) + ds_input_ctsm52['PCT_NAT_PFT'].sel(natpft=14)\n",
    "\n",
    "gridarea = xr.open_dataset('/scratch/snx3000/ivanderk/processing_4p1000/gridarea_0.5x0.5.nc')['cell_area']"
   ]
  },
  {
   "cell_type": "code",
   "execution_count": null,
   "id": "ba1a91fc-f65a-4711-b16d-9423a361314e",
   "metadata": {},
   "outputs": [],
   "source": [
    "gridarea"
   ]
  },
  {
   "cell_type": "code",
   "execution_count": null,
   "id": "962604ab-c677-4f59-ab3f-570619e68bd9",
   "metadata": {
    "tags": []
   },
   "outputs": [],
   "source": [
    "# for plotting purposes\n",
    "\n",
    "# import case that has been run for longitude and latitude\n",
    "\n",
    "# case settings\n",
    "case_ctl = 'I2000Clm51Sp.hcru_hcru_mt13.4p1000_CTL.20230714-1828'\n",
    "# I2000Clm51Sp.hcru_hcru_mt13.4p1000_CTL_pft.20230712-1723\n",
    "\n",
    "case = case_ctl\n",
    "block = \"lnd\"\n",
    "stream = \"h0\"\n",
    "\n",
    "variables = [\"watsat\", \"H2OSOI\" ]\n",
    "\n",
    "start_year = 2004\n",
    "end_year = 2004\n",
    "\n",
    "time_slice = slice(str(start_year) + \"-01-01\", str(end_year) + \"-12-01\")\n",
    "\n",
    "ds = import_case(case_ctl, myVars=variables, timeSlice=time_slice,  alter_lons=False)\n",
    "\n",
    "# hydrologically active soil layers (constraint by varying bedrock depths) all in meters\n",
    "\n",
    "# middle of soil layer: layer node depth (zi)\n",
    "levsoi = ds['levsoi'].values\n",
    "\n",
    "# tickness at soil layer - delta zi - from CLM user's guide Table 2.3 \n",
    "levsoi_thickness = [0.02,0.04,0.6,0.8,0.12,0.16,0.2,0.24,0.28,0.32,0.36,0.4,0.44,0.54,0.64,0.74,0.84,0.94,1.04,1.14]\n",
    "\n",
    "# depth at soil layer zh,i  - from CLM user's guide Table 2.3 \n",
    "levsoi_depth     = [0.02,0.06,0.12,0.2,0.32,0.48,0.68,0.92,1.2,1.52,1.88,2.28,2.72,3.26,3.9,4.64,5.48,6.42,7.46,8.6]\n",
    "\n",
    "\n",
    "# all soil layers (deepest 5 layers are for thermodynamical calculations)\n",
    "levgrnd = ds['levgrnd'].values\n",
    "\n",
    "# tickness at soil layer - delta zi - from CLM user's guide Table 2.3 \n",
    "levgrnd_thickness = [0.02,0.04,0.6,0.8,0.12,0.16,0.2,0.24,0.28,0.32,0.36,0.4,0.44,0.54,0.64,0.74,0.84,0.94,1.04,1.14,2.39,4.676,7.635,11.14,15.115]\n",
    "\n",
    "# depth at soil layer zh,i  - from CLM user's guide Table 2.3 \n",
    "levgrnd_depth = [0.02,0.06,0.12,0.2,0.32,0.48,0.68,0.92,1.2,1.52,1.88,2.28,2.72,3.26,3.9,4.64,5.48,6.42,7.46,8.6,10.99,15.666,23.301,34.441,49.556]\n",
    "\n"
   ]
  },
  {
   "cell_type": "code",
   "execution_count": null,
   "id": "210fcbdd-f75d-4434-baa6-5d13ae6948cd",
   "metadata": {},
   "outputs": [],
   "source": [
    "landmask = (ds['watsat']>=0)[0,0,:,:].squeeze()\n",
    "\n",
    "da_grassland_toplot =  da_grassland.assign_coords(lsmlat= (ds['watsat'].lat.values)).assign_coords(lsmlon= (ds['watsat'].lon.values)).rename({'lsmlon':'lon', 'lsmlat':'lat'})\n",
    "gridarea_toplot = gridarea.assign_coords(lat= (ds['watsat'].lat.values)).assign_coords(lon= (ds['watsat'].lon.values))\n",
    "plt.figure(figsize=(12,5))\n",
    "proj=ccrs.PlateCarree()\n",
    "ax = plt.subplot(111, projection=proj)\n",
    "# limiting values for plotting are given    \n",
    "levels = np.concatenate([np.array([0,1]),(np.arange(10,110,10))])\n",
    "da_grassland_toplot.where(landmask).plot(ax=ax, cmap='gist_earth_r', cbar_kwargs={'label': ' %', 'fraction': 0.02, 'pad': 0.04, 'ticks':levels}, levels=levels)\n",
    "ax.set_title(' ', loc='center')\n",
    "ax.set_title('Percent grassland of gridcell', loc='right')\n",
    "ax.coastlines(color='dimgray', linewidth=0.5)\n",
    "\n",
    "# exclude Antactica from plot\n",
    "ax.set_extent((-180,180,-63,90), crs=proj);\n",
    "ax.axis('off')"
   ]
  },
  {
   "cell_type": "code",
   "execution_count": null,
   "id": "7b91ec13-96d7-41fa-9b35-5d70605c468d",
   "metadata": {},
   "outputs": [],
   "source": [
    "((da_grassland_toplot * gridarea_toplot)/1e4).plot() #ha"
   ]
  },
  {
   "cell_type": "markdown",
   "id": "8fb22945-ceb7-40ea-9e16-ca1f8fc1b462",
   "metadata": {},
   "source": [
    "## EXTRA: model global carbon sequestration scenarios of Sommer and Bosio, 2014"
   ]
  },
  {
   "cell_type": "code",
   "execution_count": null,
   "id": "de6a859c-8bf6-49e4-863a-6b41f1cb2283",
   "metadata": {},
   "outputs": [],
   "source": [
    "import numpy as np\n",
    "import matplotlib.pyplot as plt"
   ]
  },
  {
   "cell_type": "code",
   "execution_count": null,
   "id": "1e44d348-3949-4b55-949a-34d3a752a750",
   "metadata": {},
   "outputs": [],
   "source": [
    "## INITIALISATION\n",
    "\n",
    "# initial soil organic carbon content (%)\n",
    "SOC_0 = {}\n",
    "\n",
    "# empirical constants\n",
    "a = {}\n",
    "b = {}\n",
    "\n",
    "# year with highest annual sequestration rate\n",
    "t0 = {} \n",
    "\n",
    "# soil organic carbon sequestration per year\n",
    "# THIS DOES NOT INFLUENCE RATES !!!\n",
    "SOC = {}\n",
    "\n",
    "\n",
    "# assumed soil bulk density: 1.3 g/cm3"
   ]
  },
  {
   "cell_type": "code",
   "execution_count": null,
   "id": "7788b4fc-ac70-4c79-9208-66e29d08689c",
   "metadata": {},
   "outputs": [],
   "source": [
    "## ADDING CONSTANTS\n",
    "# based on Table 1\n",
    "\n",
    "scenarios = ['low','medium','high']\n",
    "\n",
    "a['low'] = 0.350 \n",
    "b['low'] = 11.5\n",
    "t0['low'] = 3\n",
    "SOC_0['low'] = 0.85\n",
    "\n",
    "a['medium'] = 0.697\n",
    "b['medium'] = 11.5\n",
    "t0['medium'] = 4\n",
    "SOC_0['medium'] = 0.71\n",
    "\n",
    "a['high'] = 1.202\n",
    "b['high'] = 9.8\n",
    "t0['high'] = 7\n",
    "SOC_0['high'] = 0.6"
   ]
  },
  {
   "cell_type": "code",
   "execution_count": null,
   "id": "5359f727-0898-4f31-b345-348a3e396d32",
   "metadata": {},
   "outputs": [],
   "source": [
    "t = np.arange(0,51,1)"
   ]
  },
  {
   "cell_type": "code",
   "execution_count": null,
   "id": "d4fa49f8-c8e8-4889-8f28-cd0a50c50ce6",
   "metadata": {},
   "outputs": [],
   "source": [
    "scenario = 'high'"
   ]
  },
  {
   "cell_type": "code",
   "execution_count": null,
   "id": "86700ff8-1f32-4587-9e1c-916ed8ce2059",
   "metadata": {},
   "outputs": [],
   "source": [
    "for scenario in scenarios: \n",
    "\n",
    "    SOC[scenario] = SOC_0[scenario]  + a[scenario] / (1+np.exp(- (t-t0[scenario])/b[scenario]))"
   ]
  },
  {
   "cell_type": "code",
   "execution_count": null,
   "id": "bf4de373-267e-42bd-b368-9cf07614c795",
   "metadata": {},
   "outputs": [],
   "source": [
    "fig,ax= plt.subplots()\n",
    "\n",
    "for scenario in scenarios: \n",
    "    ax.plot(t,SOC[scenario], label=scenario)\n",
    "ax.legend()\n",
    "ax.set_ylabel('Soil Organic carbon (%)')\n",
    "ax.set_title('Increase in SOC', loc='right')\n",
    "ax.set_xlabel('year')\n",
    "ax.axvline(x=20, ymin=0, ymax=1, color='gray')\n",
    "ax.set_xlim([0,np.max(t)])"
   ]
  },
  {
   "cell_type": "code",
   "execution_count": null,
   "id": "74f7347d-6916-4fb7-92d0-b08be4744e30",
   "metadata": {},
   "outputs": [],
   "source": []
  },
  {
   "cell_type": "code",
   "execution_count": null,
   "id": "eb9f173b-bcb2-47ef-8336-e94745eef6cf",
   "metadata": {},
   "outputs": [],
   "source": []
  }
 ],
 "metadata": {
  "kernelspec": {
   "display_name": "env_ctsm_py",
   "language": "python",
   "name": "env_ctsm_py"
  },
  "language_info": {
   "codemirror_mode": {
    "name": "ipython",
    "version": 3
   },
   "file_extension": ".py",
   "mimetype": "text/x-python",
   "name": "python",
   "nbconvert_exporter": "python",
   "pygments_lexer": "ipython3",
   "version": "3.10.10"
  }
 },
 "nbformat": 4,
 "nbformat_minor": 5
}
